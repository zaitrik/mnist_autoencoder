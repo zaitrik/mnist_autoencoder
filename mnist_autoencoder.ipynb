{
 "cells": [
  {
   "cell_type": "markdown",
   "source": [
    "# This is how a neural network learns to add, multiply and compare handwritten digits WITHOUT knowing their values "
   ],
   "metadata": {}
  },
  {
   "cell_type": "markdown",
   "source": [
    "<p align=\"center\"> <img src=\"https://i.dlpng.com/static/png/6906777_preview.png\"> </p>   "
   ],
   "metadata": {}
  },
  {
   "cell_type": "markdown",
   "source": [
    "I described in a [previous post](https://blog.jovian.ai/how-to-train-supervised-machine-learning-algorithms-without-labeled-data-6ebddc01a00f), how useful are autoencoders in  automated labeling. The main property of these networks is their ability to learn features/patterns in the data. This is in fact not specific to autoencoders and can be implemented using other unsupervised techniques, mainly **PCA**.  \r\n",
    "The ability to detect and learn features in data can be used in other areas.  \r\n",
    "\r\n",
    "In this post, I will present some applications of convolutional autoencoders:  \r\n",
    "- First, a convolutional autoencoder will be trained on **MNIST** data.\r\n",
    "- After the training of the encoder and decoder, we will freeze their weights and use them with additional dense layers to \"learn\" arithmetic operations, namely addition, multiplication and comparison.  \r\n",
    "The trick is to *never* explicitly associate the handwritten digits in **MNIST** dataset with their respective labels. We will see that the neural networks will be nevertheless able to reach 97+% accuracy in all cases on unseen data.\r\n",
    "\r\n",
    "The first step is described in the following diagram:\r\n",
    "<p align=\"center\"> <img src=\"https://i.imgur.com/chLUEdp.png\"> </p>   "
   ],
   "metadata": {}
  },
  {
   "cell_type": "markdown",
   "source": [
    "In the second step, we will use the encoder in series with dense layers to perform arithmetic operations: addition, multiplication and comparison. We will train only the dense layer weights, and supply the results of the operations as labels. note that we will not supply the digits values (labels).\r\n",
    "\r\n",
    "<p align=\"center\"> <img src=\"https://i.imgur.com/s8U8up4.png\"> </p> \r\n"
   ],
   "metadata": {}
  },
  {
   "cell_type": "markdown",
   "source": [
    "# Training an autoencoder on MNIST data"
   ],
   "metadata": {}
  },
  {
   "cell_type": "markdown",
   "source": [
    "Similar to the previous article, we will use MNIST data in this experiment. The autoencoder will learn the handwritten digits features using 60000 training samples. We import MNIST using *KERAS* library."
   ],
   "metadata": {}
  },
  {
   "cell_type": "code",
   "execution_count": 1,
   "source": [
    "#import libraries and setup \r\n",
    "import keras\r\n",
    "import numpy as np\r\n",
    "import matplotlib.pyplot as plt\r\n",
    "%matplotlib inline\r\n",
    "import logging\r\n",
    "logging.getLogger('tensorflow').disabled = True\r\n",
    "from keras.models import Sequential, Model\r\n",
    "from keras.layers import Dense, Conv2D, Flatten, MaxPooling2D, UpSampling2D, Reshape, Concatenate, Input\r\n",
    "from keras.callbacks import EarlyStopping\r\n",
    "from tensorflow.keras.utils import to_categorical\r\n",
    "es = EarlyStopping(monitor='val_loss', mode='min', verbose=2, patience=10, restore_best_weights=True)"
   ],
   "outputs": [],
   "metadata": {}
  },
  {
   "cell_type": "code",
   "execution_count": 2,
   "source": [
    "# import mnist\r\n",
    "(x_train, y_train), (x_test, y_test) = keras.datasets.mnist.load_data()\r\n",
    "print(x_train.shape,y_train.shape)"
   ],
   "outputs": [
    {
     "output_type": "stream",
     "name": "stdout",
     "text": [
      "(60000, 28, 28) (60000,)\n"
     ]
    }
   ],
   "metadata": {}
  },
  {
   "cell_type": "markdown",
   "source": [
    "We scale the data in the range `[0,1]` and reshape it to *KERAS* format for pictures (nbr_samples x width x height x channels) "
   ],
   "metadata": {}
  },
  {
   "cell_type": "code",
   "execution_count": 3,
   "source": [
    "#normalize data\r\n",
    "if x_train.max() >1:\r\n",
    "    x_train = x_train / 255\r\n",
    "    x_test = x_test / 255\r\n",
    "\r\n",
    "default_shape = x_train.shape\r\n",
    "#reshape input data to 1 channel\r\n",
    "x_train = x_train.reshape(-1,default_shape[1],default_shape[2],1)\r\n",
    "x_test = x_test.reshape(-1,default_shape[1],default_shape[2],1)\r\n",
    "image_dim = x_train.shape[1:]"
   ],
   "outputs": [],
   "metadata": {}
  },
  {
   "cell_type": "markdown",
   "source": [
    "We will implement a similar autoencoder architecture as in [[1]](https://blog.jovian.ai/how-to-train-supervised-machine-learning-algorithms-without-labeled-data-6ebddc01a00f). It is based on a series of convolutional layers, that will gradually encode the 28x28 image (784 pixel) into a 100 elements array, and decode that representation back to the original format. The resulting image -after the training step- will hopefully resemble to the original one."
   ],
   "metadata": {}
  },
  {
   "cell_type": "code",
   "execution_count": 4,
   "source": [
    "# create an autoencoder / decoder \r\n",
    "encoder = Sequential()\r\n",
    "encoder.add(Conv2D(32,kernel_size=(3,3), strides=(1,1),padding='same', activation='selu',input_shape=image_dim))\r\n",
    "encoder.add(MaxPooling2D(2,2))\r\n",
    "encoder.add(Conv2D(64,kernel_size=(3,3), strides=(1,1),padding='same',activation='selu'))\r\n",
    "encoder.add(MaxPooling2D(2,2))\r\n",
    "encoder.add(Conv2D(128,kernel_size=(3,3), strides=(1,1),padding='same',activation='selu'))\r\n",
    "encoder.add(Flatten())\r\n",
    "encoder.add(Dense(100,activation='sigmoid'))\r\n",
    "encoder.summary()"
   ],
   "outputs": [
    {
     "output_type": "stream",
     "name": "stdout",
     "text": [
      "Model: \"sequential\"\n",
      "_________________________________________________________________\n",
      "Layer (type)                 Output Shape              Param #   \n",
      "=================================================================\n",
      "conv2d (Conv2D)              (None, 28, 28, 32)        320       \n",
      "_________________________________________________________________\n",
      "max_pooling2d (MaxPooling2D) (None, 14, 14, 32)        0         \n",
      "_________________________________________________________________\n",
      "conv2d_1 (Conv2D)            (None, 14, 14, 64)        18496     \n",
      "_________________________________________________________________\n",
      "max_pooling2d_1 (MaxPooling2 (None, 7, 7, 64)          0         \n",
      "_________________________________________________________________\n",
      "conv2d_2 (Conv2D)            (None, 7, 7, 128)         73856     \n",
      "_________________________________________________________________\n",
      "flatten (Flatten)            (None, 6272)              0         \n",
      "_________________________________________________________________\n",
      "dense (Dense)                (None, 100)               627300    \n",
      "=================================================================\n",
      "Total params: 719,972\n",
      "Trainable params: 719,972\n",
      "Non-trainable params: 0\n",
      "_________________________________________________________________\n"
     ]
    }
   ],
   "metadata": {}
  },
  {
   "cell_type": "code",
   "execution_count": 5,
   "source": [
    "encoder_out_dim = encoder.layers[-1].output_shape[1:] # dimension of the encoder output"
   ],
   "outputs": [],
   "metadata": {}
  },
  {
   "cell_type": "code",
   "execution_count": 6,
   "source": [
    "decoder = Sequential()\r\n",
    "decoder.add(Dense(6272, activation='sigmoid', input_shape=encoder_out_dim))\r\n",
    "decoder.add(Reshape(( 7, 7, 128)))\r\n",
    "decoder.add(Conv2D(128,kernel_size=(3,3), strides=(1,1),padding='same', activation='selu'))\r\n",
    "decoder.add(UpSampling2D((2,2)))\r\n",
    "decoder.add(Conv2D(64,kernel_size=(3,3), strides=(1,1),padding='same', activation='selu'))\r\n",
    "decoder.add(UpSampling2D((2,2)))\r\n",
    "decoder.add(Conv2D(1,kernel_size=(3,3), strides=(1,1),padding='same', activation='sigmoid'))\r\n",
    "\r\n",
    "decoder.summary()"
   ],
   "outputs": [
    {
     "output_type": "stream",
     "name": "stdout",
     "text": [
      "Model: \"sequential_1\"\n",
      "_________________________________________________________________\n",
      "Layer (type)                 Output Shape              Param #   \n",
      "=================================================================\n",
      "dense_1 (Dense)              (None, 6272)              633472    \n",
      "_________________________________________________________________\n",
      "reshape (Reshape)            (None, 7, 7, 128)         0         \n",
      "_________________________________________________________________\n",
      "conv2d_3 (Conv2D)            (None, 7, 7, 128)         147584    \n",
      "_________________________________________________________________\n",
      "up_sampling2d (UpSampling2D) (None, 14, 14, 128)       0         \n",
      "_________________________________________________________________\n",
      "conv2d_4 (Conv2D)            (None, 14, 14, 64)        73792     \n",
      "_________________________________________________________________\n",
      "up_sampling2d_1 (UpSampling2 (None, 28, 28, 64)        0         \n",
      "_________________________________________________________________\n",
      "conv2d_5 (Conv2D)            (None, 28, 28, 1)         577       \n",
      "=================================================================\n",
      "Total params: 855,425\n",
      "Trainable params: 855,425\n",
      "Non-trainable params: 0\n",
      "_________________________________________________________________\n"
     ]
    }
   ],
   "metadata": {}
  },
  {
   "cell_type": "markdown",
   "source": [
    "The autoencoder is created using the encoder and the decoder:"
   ],
   "metadata": {}
  },
  {
   "cell_type": "code",
   "execution_count": 7,
   "source": [
    "enc_dec = Sequential([encoder,decoder])\r\n",
    "enc_dec.summary()"
   ],
   "outputs": [
    {
     "output_type": "stream",
     "name": "stdout",
     "text": [
      "Model: \"sequential_2\"\n",
      "_________________________________________________________________\n",
      "Layer (type)                 Output Shape              Param #   \n",
      "=================================================================\n",
      "sequential (Sequential)      (None, 100)               719972    \n",
      "_________________________________________________________________\n",
      "sequential_1 (Sequential)    (None, 28, 28, 1)         855425    \n",
      "=================================================================\n",
      "Total params: 1,575,397\n",
      "Trainable params: 1,575,397\n",
      "Non-trainable params: 0\n",
      "_________________________________________________________________\n"
     ]
    }
   ],
   "metadata": {}
  },
  {
   "cell_type": "markdown",
   "source": [
    "It will be trained as a set of binary classifiers for each pixel."
   ],
   "metadata": {}
  },
  {
   "cell_type": "code",
   "execution_count": 8,
   "source": [
    "enc_dec.compile(optimizer='nadam', loss = 'binary_crossentropy')\r\n",
    "history = enc_dec.fit(x_train,x_train, batch_size=100,epochs=1000,validation_split=0.2, verbose=2,callbacks=[es,es])"
   ],
   "outputs": [
    {
     "output_type": "stream",
     "name": "stdout",
     "text": [
      "Epoch 1/1000\n",
      "480/480 - 15s - loss: 0.2821 - val_loss: 0.2675\n",
      "Epoch 2/1000\n",
      "480/480 - 15s - loss: 0.2642 - val_loss: 0.2636\n",
      "Epoch 3/1000\n",
      "480/480 - 14s - loss: 0.2373 - val_loss: 0.1565\n",
      "Epoch 4/1000\n",
      "480/480 - 14s - loss: 0.1306 - val_loss: 0.1181\n",
      "Epoch 5/1000\n",
      "480/480 - 14s - loss: 0.1148 - val_loss: 0.1116\n",
      "Epoch 6/1000\n",
      "480/480 - 14s - loss: 0.1094 - val_loss: 0.1076\n",
      "Epoch 7/1000\n",
      "480/480 - 14s - loss: 0.1061 - val_loss: 0.1061\n",
      "Epoch 8/1000\n",
      "480/480 - 14s - loss: 0.1041 - val_loss: 0.1033\n",
      "Epoch 9/1000\n",
      "480/480 - 14s - loss: 0.1023 - val_loss: 0.1029\n",
      "Epoch 10/1000\n",
      "480/480 - 14s - loss: 0.1009 - val_loss: 0.1014\n",
      "Epoch 11/1000\n",
      "480/480 - 14s - loss: 0.0999 - val_loss: 0.1003\n",
      "Epoch 12/1000\n",
      "480/480 - 14s - loss: 0.0991 - val_loss: 0.1013\n",
      "Epoch 13/1000\n",
      "480/480 - 15s - loss: 0.0983 - val_loss: 0.1003\n",
      "Epoch 14/1000\n",
      "480/480 - 15s - loss: 0.0976 - val_loss: 0.0993\n",
      "Epoch 15/1000\n",
      "480/480 - 14s - loss: 0.0969 - val_loss: 0.0977\n",
      "Epoch 16/1000\n",
      "480/480 - 14s - loss: 0.0964 - val_loss: 0.0974\n",
      "Epoch 17/1000\n",
      "480/480 - 14s - loss: 0.0960 - val_loss: 0.0968\n",
      "Epoch 18/1000\n",
      "480/480 - 15s - loss: 0.0953 - val_loss: 0.0964\n",
      "Epoch 19/1000\n",
      "480/480 - 15s - loss: 0.0948 - val_loss: 0.0961\n",
      "Epoch 20/1000\n",
      "480/480 - 15s - loss: 0.0942 - val_loss: 0.0955\n",
      "Epoch 21/1000\n",
      "480/480 - 15s - loss: 0.0936 - val_loss: 0.0949\n",
      "Epoch 22/1000\n",
      "480/480 - 14s - loss: 0.0932 - val_loss: 0.0947\n",
      "Epoch 23/1000\n",
      "480/480 - 15s - loss: 0.0929 - val_loss: 0.0943\n",
      "Epoch 24/1000\n",
      "480/480 - 15s - loss: 0.0924 - val_loss: 0.0938\n",
      "Epoch 25/1000\n",
      "480/480 - 15s - loss: 0.0921 - val_loss: 0.0939\n",
      "Epoch 26/1000\n",
      "480/480 - 15s - loss: 0.0916 - val_loss: 0.0938\n",
      "Epoch 27/1000\n",
      "480/480 - 15s - loss: 0.0914 - val_loss: 0.0937\n",
      "Epoch 28/1000\n",
      "480/480 - 15s - loss: 0.0912 - val_loss: 0.0934\n",
      "Epoch 29/1000\n",
      "480/480 - 14s - loss: 0.0909 - val_loss: 0.0940\n",
      "Epoch 30/1000\n",
      "480/480 - 15s - loss: 0.0905 - val_loss: 0.0928\n",
      "Epoch 31/1000\n",
      "480/480 - 15s - loss: 0.0902 - val_loss: 0.0926\n",
      "Epoch 32/1000\n",
      "480/480 - 15s - loss: 0.0900 - val_loss: 0.0924\n",
      "Epoch 33/1000\n",
      "480/480 - 15s - loss: 0.0896 - val_loss: 0.0921\n",
      "Epoch 34/1000\n",
      "480/480 - 15s - loss: 0.0894 - val_loss: 0.0921\n",
      "Epoch 35/1000\n",
      "480/480 - 15s - loss: 0.0894 - val_loss: 0.0920\n",
      "Epoch 36/1000\n",
      "480/480 - 15s - loss: 0.0891 - val_loss: 0.0918\n",
      "Epoch 37/1000\n",
      "480/480 - 16s - loss: 0.0888 - val_loss: 0.0913\n",
      "Epoch 38/1000\n",
      "480/480 - 15s - loss: 0.0886 - val_loss: 0.0914\n",
      "Epoch 39/1000\n",
      "480/480 - 15s - loss: 0.0884 - val_loss: 0.0913\n",
      "Epoch 40/1000\n",
      "480/480 - 15s - loss: 0.0881 - val_loss: 0.0911\n",
      "Epoch 41/1000\n",
      "480/480 - 15s - loss: 0.0880 - val_loss: 0.0913\n",
      "Epoch 42/1000\n",
      "480/480 - 15s - loss: 0.0879 - val_loss: 0.0910\n",
      "Epoch 43/1000\n",
      "480/480 - 14s - loss: 0.0876 - val_loss: 0.0913\n",
      "Epoch 44/1000\n",
      "480/480 - 14s - loss: 0.0874 - val_loss: 0.0907\n",
      "Epoch 45/1000\n",
      "480/480 - 14s - loss: 0.0872 - val_loss: 0.0905\n",
      "Epoch 46/1000\n",
      "480/480 - 14s - loss: 0.0871 - val_loss: 0.0904\n",
      "Epoch 47/1000\n",
      "480/480 - 14s - loss: 0.0869 - val_loss: 0.0905\n",
      "Epoch 48/1000\n",
      "480/480 - 14s - loss: 0.0868 - val_loss: 0.0904\n",
      "Epoch 49/1000\n",
      "480/480 - 14s - loss: 0.0866 - val_loss: 0.0904\n",
      "Epoch 50/1000\n",
      "480/480 - 14s - loss: 0.0866 - val_loss: 0.0903\n",
      "Epoch 51/1000\n",
      "480/480 - 14s - loss: 0.0864 - val_loss: 0.0901\n",
      "Epoch 52/1000\n",
      "480/480 - 14s - loss: 0.0862 - val_loss: 0.0903\n",
      "Epoch 53/1000\n",
      "480/480 - 14s - loss: 0.0861 - val_loss: 0.0902\n",
      "Epoch 54/1000\n",
      "480/480 - 14s - loss: 0.0860 - val_loss: 0.0900\n",
      "Epoch 55/1000\n",
      "480/480 - 14s - loss: 0.0859 - val_loss: 0.0899\n",
      "Epoch 56/1000\n",
      "480/480 - 14s - loss: 0.0858 - val_loss: 0.0900\n",
      "Epoch 57/1000\n",
      "480/480 - 14s - loss: 0.0858 - val_loss: 0.0899\n",
      "Epoch 58/1000\n",
      "480/480 - 14s - loss: 0.0854 - val_loss: 0.0899\n",
      "Epoch 59/1000\n",
      "480/480 - 14s - loss: 0.0854 - val_loss: 0.0901\n",
      "Epoch 60/1000\n",
      "480/480 - 14s - loss: 0.0852 - val_loss: 0.0898\n",
      "Epoch 61/1000\n",
      "480/480 - 14s - loss: 0.0850 - val_loss: 0.0898\n",
      "Epoch 62/1000\n",
      "480/480 - 14s - loss: 0.0849 - val_loss: 0.0898\n",
      "Epoch 63/1000\n",
      "480/480 - 14s - loss: 0.0848 - val_loss: 0.0895\n",
      "Epoch 64/1000\n",
      "480/480 - 14s - loss: 0.0847 - val_loss: 0.0893\n",
      "Epoch 65/1000\n",
      "480/480 - 15s - loss: 0.0846 - val_loss: 0.0899\n",
      "Epoch 66/1000\n",
      "480/480 - 14s - loss: 0.0846 - val_loss: 0.0895\n",
      "Epoch 67/1000\n",
      "480/480 - 14s - loss: 0.0846 - val_loss: 0.0897\n",
      "Epoch 68/1000\n",
      "480/480 - 14s - loss: 0.0845 - val_loss: 0.0896\n",
      "Epoch 69/1000\n",
      "Restoring model weights from the end of the best epoch.\n",
      "Restoring model weights from the end of the best epoch.\n",
      "480/480 - 14s - loss: 0.0844 - val_loss: 0.0894\n",
      "Epoch 00069: early stopping\n",
      "Epoch 00069: early stopping\n"
     ]
    }
   ],
   "metadata": {}
  },
  {
   "cell_type": "markdown",
   "source": [
    "The early stopping will make sure the autoencoder will not overfit the training data. There are two ways to verify the network. First, we can evaluate the loss function on test data, and expect it to be close to the loss value on the training data."
   ],
   "metadata": {}
  },
  {
   "cell_type": "code",
   "execution_count": 9,
   "source": [
    "enc_dec.evaluate(x_test,x_test,batch_size=1000)"
   ],
   "outputs": [
    {
     "output_type": "stream",
     "name": "stdout",
     "text": [
      "10/10 [==============================] - 1s 71ms/step - loss: 0.0882\n"
     ]
    },
    {
     "output_type": "execute_result",
     "data": {
      "text/plain": [
       "0.08822797983884811"
      ]
     },
     "metadata": {},
     "execution_count": 9
    }
   ],
   "metadata": {}
  },
  {
   "cell_type": "code",
   "execution_count": 10,
   "source": [
    "enc_dec.evaluate(x_train,x_train,batch_size=1000)"
   ],
   "outputs": [
    {
     "output_type": "stream",
     "name": "stdout",
     "text": [
      "60/60 [==============================] - 5s 77ms/step - loss: 0.0852\n"
     ]
    },
    {
     "output_type": "execute_result",
     "data": {
      "text/plain": [
       "0.08517985045909882"
      ]
     },
     "metadata": {},
     "execution_count": 10
    }
   ],
   "metadata": {}
  },
  {
   "cell_type": "markdown",
   "source": [
    "It is very close, around `0.08` for both data sets. The second method is to check the resulting reconstitution that we obtain for a random sample from the test data."
   ],
   "metadata": {}
  },
  {
   "cell_type": "code",
   "execution_count": 11,
   "source": [
    "random_label = np.random.randint(0,9999)\r\n",
    "img_sample = x_test[random_label,:,:].reshape((1,28,28,1))\r\n",
    "plt.imshow(img_sample.reshape(28,28), cmap='gray');\r\n",
    "pred_img = enc_dec.predict(img_sample) \r\n",
    "plt.figure();\r\n",
    "plt.imshow(pred_img.reshape(28,28), cmap='gray');"
   ],
   "outputs": [
    {
     "output_type": "display_data",
     "data": {
      "image/png": "[encoded data removed]",
      "text/plain": [
       "<Figure size 432x288 with 1 Axes>"
      ]
     },
     "metadata": {
      "needs_background": "light"
     }
    },
    {
     "output_type": "display_data",
     "data": {
      "image/png": "[encoded data removed]",
      "text/plain": [
       "<Figure size 432x288 with 1 Axes>"
      ]
     },
     "metadata": {
      "needs_background": "light"
     }
    }
   ],
   "metadata": {}
  },
  {
   "cell_type": "markdown",
   "source": [
    "*A picture is worth a thousand words!*"
   ],
   "metadata": {}
  },
  {
   "cell_type": "code",
   "execution_count": 12,
   "source": [
    "# save models\r\n",
    "encoder.save('encoder')\r\n",
    "decoder.save('decoder')"
   ],
   "outputs": [],
   "metadata": {}
  },
  {
   "cell_type": "markdown",
   "source": [
    "Now we have a trained encoder and decoder, let's focus on the *encoder*. For each image, is associated a representation that captures most of the interesting features. This representation is sufficient to reconstitute the image using the decoder. Here is the representation of the sample image we used earlier: "
   ],
   "metadata": {}
  },
  {
   "cell_type": "code",
   "execution_count": 13,
   "source": [
    "representation_sample = encoder.predict(img_sample)\r\n",
    "print(representation_sample) "
   ],
   "outputs": [
    {
     "output_type": "stream",
     "name": "stdout",
     "text": [
      "[[0.0000000e+00 1.0000000e+00 0.0000000e+00 1.0000000e+00 1.6840684e-17\n",
      "  1.0000000e+00 0.0000000e+00 0.0000000e+00 2.7144099e-35 1.0000000e+00\n",
      "  1.0000000e+00 6.2723314e-36 1.0000000e+00 1.5508051e-11 1.0000000e+00\n",
      "  0.0000000e+00 1.0364077e-03 1.2028039e-09 0.0000000e+00 5.5973729e-08\n",
      "  0.0000000e+00 3.0960938e-13 0.0000000e+00 0.0000000e+00 1.1984192e-08\n",
      "  0.0000000e+00 0.0000000e+00 1.0000000e+00 1.0000000e+00 0.0000000e+00\n",
      "  1.0000000e+00 0.0000000e+00 1.0000000e+00 1.0000000e+00 0.0000000e+00\n",
      "  3.9332832e-11 1.0000000e+00 0.0000000e+00 1.0000000e+00 1.0000000e+00\n",
      "  0.0000000e+00 0.0000000e+00 0.0000000e+00 1.0000000e+00 0.0000000e+00\n",
      "  1.0000000e+00 0.0000000e+00 1.0000000e+00 1.0000000e+00 0.0000000e+00\n",
      "  1.0000000e+00 0.0000000e+00 0.0000000e+00 0.0000000e+00 1.0000000e+00\n",
      "  0.0000000e+00 0.0000000e+00 0.0000000e+00 0.0000000e+00 1.1253273e-06\n",
      "  3.9418192e-24 0.0000000e+00 8.3602914e-15 0.0000000e+00 0.0000000e+00\n",
      "  1.0000000e+00 1.0000000e+00 0.0000000e+00 1.0000000e+00 1.0000000e+00\n",
      "  1.0000000e+00 1.0000000e+00 1.4922305e-38 0.0000000e+00 1.0000000e+00\n",
      "  1.0000000e+00 1.0000000e+00 0.0000000e+00 0.0000000e+00 0.0000000e+00\n",
      "  3.9187780e-15 1.0000000e+00 0.0000000e+00 1.0951785e-05 1.0000000e+00\n",
      "  7.9969609e-26 1.5429734e-09 1.0000000e+00 1.0000000e+00 0.0000000e+00\n",
      "  1.0000000e+00 1.0000000e+00 0.0000000e+00 1.0000000e+00 1.0000000e+00\n",
      "  0.0000000e+00 0.0000000e+00 0.0000000e+00 1.5730533e-37 0.0000000e+00]]\n"
     ]
    }
   ],
   "metadata": {}
  },
  {
   "cell_type": "markdown",
   "source": [
    "Using these 100 numbers, we generate a 28x28 image (784 pixels)."
   ],
   "metadata": {}
  },
  {
   "cell_type": "code",
   "execution_count": 14,
   "source": [
    "recons_image = decoder.predict(representation_sample)\r\n",
    "plt.imshow(recons_image.reshape(28,28), cmap='gray');"
   ],
   "outputs": [
    {
     "output_type": "display_data",
     "data": {
      "image/png": "[encoded data removed]",
      "text/plain": [
       "<Figure size 432x288 with 1 Axes>"
      ]
     },
     "metadata": {
      "needs_background": "light"
     }
    }
   ],
   "metadata": {}
  },
  {
   "cell_type": "markdown",
   "source": [
    "And here is where the *fun part* begins! using the lower-dimension representation, let's do some math."
   ],
   "metadata": {}
  },
  {
   "cell_type": "markdown",
   "source": [
    "# Learning arithmetic operations on handwritten digits"
   ],
   "metadata": {}
  },
  {
   "cell_type": "markdown",
   "source": [
    "The idea is simple. Using the representation of two images, we train a neural network to compute their sum, product and to compare them. We will not provide the value of each digit, but we will provide the results during the training step.  \r\n",
    "We will be performing addition and multiplication between numbers in the range [0-9]. The results will be in the range [0-18] and [0-81] respectively. So the results will be coded using multiple outputs:  \r\n",
    "1- Sum Units, multiclass output [0,1,2,3,4,5,6,7,8,9]  \r\n",
    "2- Sum tens, binary output [0,1]  \r\n",
    "3- Multiplication Units, multiclass output [0,1,2,3,4,5,6,7,8,9]  \r\n",
    "4- Multiplication tens, multiclass output [0,1,2,3,4,5,6,7,8]  \r\n",
    "5- Comparison, binary output [0,1]  \r\n",
    "\r\n",
    "\r\n",
    "<p align=\"center\"> <img src=\"https://i.imgur.com/E5unC7Y.png\"> </p> \r\n"
   ],
   "metadata": {}
  },
  {
   "cell_type": "markdown",
   "source": [
    "Using the functional API in *KERAS* we define the network architecture. First, we import the encoder *twice* and freeze its weights:"
   ],
   "metadata": {}
  },
  {
   "cell_type": "code",
   "execution_count": 15,
   "source": [
    "# duplicate encoders and freeze weights\r\n",
    "encoder1 = keras.models.load_model('encoder') \r\n",
    "encoder1._name = 'encoder1'\r\n",
    "encoder1.trainable = False\r\n",
    "\r\n",
    "encoder2 = keras.models.load_model('encoder')\r\n",
    "encoder2._name = 'encoder2'\r\n",
    "encoder2.trainable = False"
   ],
   "outputs": [],
   "metadata": {}
  },
  {
   "cell_type": "markdown",
   "source": [
    "Using the encoders, we build the model:"
   ],
   "metadata": {}
  },
  {
   "cell_type": "code",
   "execution_count": 16,
   "source": [
    "# create model to learn it all\r\n",
    "input1 = Input(shape=image_dim)\r\n",
    "input2 = Input(shape=image_dim)\r\n",
    "enc1_out = encoder1(input1)\r\n",
    "enc2_out = encoder2(input2)\r\n",
    "model_c = Concatenate()([enc1_out,enc2_out])\r\n",
    "model_c = Dense(1000,activation='relu')(model_c)\r\n",
    "\r\n",
    "model_b1 = Dense(200,activation='relu')(model_c)\r\n",
    "model_b2 = Dense(200,activation='relu')(model_c)\r\n",
    "model_b3 = Dense(200,activation='relu')(model_c)\r\n",
    "model_b4 = Dense(200,activation='relu')(model_c)\r\n",
    "model_b5 = Dense(200,activation='relu')(model_c)\r\n",
    "\r\n",
    "\r\n",
    "\r\n",
    "units_add =  Dense(10,activation='softmax',name ='units_add')(model_b1)\r\n",
    "tens_add = Dense(1,activation='sigmoid',name ='tens_add')(model_b2)\r\n",
    "\r\n",
    "units_mult =  Dense(10,activation='softmax',name ='units_mult')(model_b3)\r\n",
    "tens_mult = Dense(9,activation='softmax',name ='tens_mult')(model_b4)\r\n",
    "\r\n",
    "comp =  Dense(1,activation='sigmoid',name ='comp')(model_b5)\r\n",
    "\r\n",
    "\r\n",
    "\r\n",
    "model_complete = Model(inputs=[input1,input2],outputs=[units_add,tens_add,units_mult,tens_mult,comp])\r\n",
    "\r\n",
    "model_complete.compile(optimizer='nadam', loss = ['categorical_crossentropy','binary_crossentropy','categorical_crossentropy','categorical_crossentropy','binary_crossentropy'], metrics=['acc'])"
   ],
   "outputs": [],
   "metadata": {}
  },
  {
   "cell_type": "markdown",
   "source": [
    "This model has two inputs (the two handwritten digits images) and five outputs (units and tens of the sum and product plus the comparsion result). We will use two different losses due to the nature of the outputs. Note that there is a common hidden layer of 1000 units, and then five branches (one for each output).  \r\n",
    "We need to create datasets to train and test our model. Inputs will be random combinations of handwritten digits. Outputs will be the expected results for each combination. "
   ],
   "metadata": {}
  },
  {
   "cell_type": "code",
   "execution_count": 17,
   "source": [
    "# generate a dataset for additions\r\n",
    "train_size = 500000\r\n",
    "random_labels1 = np.random.randint(0,25000,train_size)\r\n",
    "random_labels2 = np.random.randint(0,25000,train_size)\r\n",
    "\r\n",
    "x_train_1 = x_train[random_labels1]\r\n",
    "x_train_2 = x_train[random_labels2]\r\n",
    "\r\n",
    "y_train_1 = y_train[random_labels1]\r\n",
    "y_train_2 = y_train[random_labels2]\r\n",
    "\r\n",
    "y_add = y_train_1 + y_train_2\r\n",
    "y_add_tens = y_add //10 \r\n",
    "y_add_units = y_add %10 \r\n",
    "y_add_units_cat = to_categorical(y_add_units)\r\n",
    "\r\n",
    "\r\n",
    "# the same with x_test\r\n",
    "test_size = 5000\r\n",
    "random_labels1 = np.random.randint(0,10000,test_size)\r\n",
    "random_labels2 = np.random.randint(0,10000,test_size)\r\n",
    "\r\n",
    "x_test_1 = x_test[random_labels1]\r\n",
    "x_test_2 = x_test[random_labels2]\r\n",
    "\r\n",
    "y_test_1 = y_test[random_labels1]\r\n",
    "y_test_2 = y_test[random_labels2]\r\n",
    "\r\n",
    "y_test_add = y_test_1 + y_test_2\r\n",
    "y_test_add_tens = y_test_add //10 \r\n",
    "y_test_add_units = y_test_add %10 \r\n",
    "y_test_add_units_cat = to_categorical(y_test_add_units)\r\n",
    "\r\n",
    "# generate a dataset for multiplication\r\n",
    "\r\n",
    "y_mult = y_train_1 * y_train_2\r\n",
    "y_mult_tens = y_mult //10 \r\n",
    "y_mult_units = y_mult %10 \r\n",
    "y_mult_units_cat = to_categorical(y_mult_units)\r\n",
    "y_mult_tens_cat = to_categorical(y_mult_tens)\r\n",
    "\r\n",
    "# the same with x_test\r\n",
    "\r\n",
    "y_test_mult = y_test_1 * y_test_2\r\n",
    "y_test_mult_tens = y_test_mult //10 \r\n",
    "y_test_mult_units = y_test_mult %10 \r\n",
    "y_test_mult_units_cat = to_categorical(y_test_mult_units)\r\n",
    "y_test_mult_tens_cat = to_categorical(y_test_mult_tens)\r\n",
    "\r\n",
    "# generate a dataset for comparison\r\n",
    "y_comp = y_train_1 > y_train_2\r\n",
    "\r\n",
    "# the same with x_test\r\n",
    "y_test_comp = y_test_1 > y_test_2"
   ],
   "outputs": [],
   "metadata": {}
  },
  {
   "cell_type": "markdown",
   "source": [
    "Now we are ready to train our model! "
   ],
   "metadata": {}
  },
  {
   "cell_type": "code",
   "execution_count": 18,
   "source": [
    "history = model_complete.fit([x_train_1,x_train_2],[y_add_units_cat,y_add_tens,y_mult_units_cat,y_mult_tens_cat,y_comp], batch_size=1000,epochs=1000,validation_split=0.2, verbose=1,callbacks=[es,es,es,es,es,es])"
   ],
   "outputs": [
    {
     "output_type": "stream",
     "name": "stdout",
     "text": [
      "Epoch 1/1000\n",
      "400/400 [==============================] - 31s 77ms/step - loss: 3.6060 - units_add_loss: 1.2366 - tens_add_loss: 0.3254 - units_mult_loss: 0.9394 - tens_mult_loss: 0.7870 - comp_loss: 0.3175 - units_add_acc: 0.5868 - tens_add_acc: 0.8517 - units_mult_acc: 0.6771 - tens_mult_acc: 0.7189 - comp_acc: 0.8551 - val_loss: 1.7964 - val_units_add_loss: 0.5861 - val_tens_add_loss: 0.1868 - val_units_mult_loss: 0.4516 - val_tens_mult_loss: 0.3929 - val_comp_loss: 0.1790 - val_units_add_acc: 0.8174 - val_tens_add_acc: 0.9246 - val_units_mult_acc: 0.8553 - val_tens_mult_acc: 0.8673 - val_comp_acc: 0.9296\n",
      "Epoch 2/1000\n",
      "400/400 [==============================] - 30s 75ms/step - loss: 1.2846 - units_add_loss: 0.4152 - tens_add_loss: 0.1350 - units_mult_loss: 0.3276 - tens_mult_loss: 0.2757 - comp_loss: 0.1311 - units_add_acc: 0.8730 - tens_add_acc: 0.9490 - units_mult_acc: 0.8956 - tens_mult_acc: 0.9096 - comp_acc: 0.9504 - val_loss: 0.9736 - val_units_add_loss: 0.3122 - val_tens_add_loss: 0.1030 - val_units_mult_loss: 0.2509 - val_tens_mult_loss: 0.2061 - val_comp_loss: 0.1014 - val_units_add_acc: 0.9043 - val_tens_add_acc: 0.9621 - val_units_mult_acc: 0.9212 - val_tens_mult_acc: 0.9330 - val_comp_acc: 0.9626\n",
      "Epoch 3/1000\n",
      "400/400 [==============================] - 30s 75ms/step - loss: 0.7060 - units_add_loss: 0.2232 - tens_add_loss: 0.0762 - units_mult_loss: 0.1806 - tens_mult_loss: 0.1504 - comp_loss: 0.0756 - units_add_acc: 0.9329 - tens_add_acc: 0.9729 - units_mult_acc: 0.9439 - tens_mult_acc: 0.9519 - comp_acc: 0.9728 - val_loss: 0.6057 - val_units_add_loss: 0.1912 - val_tens_add_loss: 0.0649 - val_units_mult_loss: 0.1573 - val_tens_mult_loss: 0.1288 - val_comp_loss: 0.0635 - val_units_add_acc: 0.9408 - val_tens_add_acc: 0.9768 - val_units_mult_acc: 0.9503 - val_tens_mult_acc: 0.9578 - val_comp_acc: 0.9773\n",
      "Epoch 4/1000\n",
      "400/400 [==============================] - 30s 75ms/step - loss: 0.4065 - units_add_loss: 0.1245 - tens_add_loss: 0.0458 - units_mult_loss: 0.1036 - tens_mult_loss: 0.0868 - comp_loss: 0.0458 - units_add_acc: 0.9640 - tens_add_acc: 0.9844 - units_mult_acc: 0.9689 - tens_mult_acc: 0.9735 - comp_acc: 0.9847 - val_loss: 0.3853 - val_units_add_loss: 0.1159 - val_tens_add_loss: 0.0467 - val_units_mult_loss: 0.0968 - val_tens_mult_loss: 0.0845 - val_comp_loss: 0.0413 - val_units_add_acc: 0.9650 - val_tens_add_acc: 0.9833 - val_units_mult_acc: 0.9700 - val_tens_mult_acc: 0.9728 - val_comp_acc: 0.9855\n",
      "Epoch 5/1000\n",
      "400/400 [==============================] - 30s 76ms/step - loss: 0.2258 - units_add_loss: 0.0660 - tens_add_loss: 0.0271 - units_mult_loss: 0.0574 - tens_mult_loss: 0.0482 - comp_loss: 0.0272 - units_add_acc: 0.9829 - tens_add_acc: 0.9916 - units_mult_acc: 0.9843 - tens_mult_acc: 0.9866 - comp_acc: 0.9917 - val_loss: 0.2461 - val_units_add_loss: 0.0713 - val_tens_add_loss: 0.0305 - val_units_mult_loss: 0.0617 - val_tens_mult_loss: 0.0534 - val_comp_loss: 0.0292 - val_units_add_acc: 0.9794 - val_tens_add_acc: 0.9892 - val_units_mult_acc: 0.9809 - val_tens_mult_acc: 0.9831 - val_comp_acc: 0.9899\n",
      "Epoch 6/1000\n",
      "400/400 [==============================] - 30s 75ms/step - loss: 0.1198 - units_add_loss: 0.0328 - tens_add_loss: 0.0155 - units_mult_loss: 0.0301 - tens_mult_loss: 0.0255 - comp_loss: 0.0158 - units_add_acc: 0.9934 - tens_add_acc: 0.9959 - units_mult_acc: 0.9933 - tens_mult_acc: 0.9944 - comp_acc: 0.9958 - val_loss: 0.1763 - val_units_add_loss: 0.0487 - val_tens_add_loss: 0.0224 - val_units_mult_loss: 0.0428 - val_tens_mult_loss: 0.0386 - val_comp_loss: 0.0238 - val_units_add_acc: 0.9854 - val_tens_add_acc: 0.9924 - val_units_mult_acc: 0.9865 - val_tens_mult_acc: 0.9874 - val_comp_acc: 0.9912\n",
      "Epoch 7/1000\n",
      "400/400 [==============================] - 29s 73ms/step - loss: 0.0632 - units_add_loss: 0.0162 - tens_add_loss: 0.0086 - units_mult_loss: 0.0159 - tens_mult_loss: 0.0135 - comp_loss: 0.0091 - units_add_acc: 0.9980 - tens_add_acc: 0.9983 - units_mult_acc: 0.9974 - tens_mult_acc: 0.9979 - comp_acc: 0.9981 - val_loss: 0.1263 - val_units_add_loss: 0.0337 - val_tens_add_loss: 0.0171 - val_units_mult_loss: 0.0314 - val_tens_mult_loss: 0.0277 - val_comp_loss: 0.0164 - val_units_add_acc: 0.9898 - val_tens_add_acc: 0.9941 - val_units_mult_acc: 0.9899 - val_tens_mult_acc: 0.9909 - val_comp_acc: 0.9944\n",
      "Epoch 8/1000\n",
      "400/400 [==============================] - 29s 73ms/step - loss: 0.0337 - units_add_loss: 0.0083 - tens_add_loss: 0.0048 - units_mult_loss: 0.0084 - tens_mult_loss: 0.0072 - comp_loss: 0.0051 - units_add_acc: 0.9996 - tens_add_acc: 0.9994 - units_mult_acc: 0.9992 - tens_mult_acc: 0.9994 - comp_acc: 0.9993 - val_loss: 0.0980 - val_units_add_loss: 0.0252 - val_tens_add_loss: 0.0139 - val_units_mult_loss: 0.0236 - val_tens_mult_loss: 0.0213 - val_comp_loss: 0.0140 - val_units_add_acc: 0.9924 - val_tens_add_acc: 0.9952 - val_units_mult_acc: 0.9925 - val_tens_mult_acc: 0.9930 - val_comp_acc: 0.9952\n",
      "Epoch 9/1000\n",
      "400/400 [==============================] - 29s 74ms/step - loss: 0.0187 - units_add_loss: 0.0045 - tens_add_loss: 0.0027 - units_mult_loss: 0.0046 - tens_mult_loss: 0.0040 - comp_loss: 0.0029 - units_add_acc: 0.9999 - tens_add_acc: 0.9998 - units_mult_acc: 0.9998 - tens_mult_acc: 0.9999 - comp_acc: 0.9998 - val_loss: 0.0817 - val_units_add_loss: 0.0206 - val_tens_add_loss: 0.0121 - val_units_mult_loss: 0.0195 - val_tens_mult_loss: 0.0178 - val_comp_loss: 0.0118 - val_units_add_acc: 0.9938 - val_tens_add_acc: 0.9958 - val_units_mult_acc: 0.9937 - val_tens_mult_acc: 0.9944 - val_comp_acc: 0.9959\n",
      "Epoch 10/1000\n",
      "400/400 [==============================] - 30s 74ms/step - loss: 0.0110 - units_add_loss: 0.0027 - tens_add_loss: 0.0016 - units_mult_loss: 0.0027 - tens_mult_loss: 0.0024 - comp_loss: 0.0017 - units_add_acc: 1.0000 - tens_add_acc: 1.0000 - units_mult_acc: 1.0000 - tens_mult_acc: 1.0000 - comp_acc: 1.0000 - val_loss: 0.0708 - val_units_add_loss: 0.0177 - val_tens_add_loss: 0.0108 - val_units_mult_loss: 0.0169 - val_tens_mult_loss: 0.0154 - val_comp_loss: 0.0100 - val_units_add_acc: 0.9946 - val_tens_add_acc: 0.9963 - val_units_mult_acc: 0.9946 - val_tens_mult_acc: 0.9951 - val_comp_acc: 0.9966\n",
      "Epoch 11/1000\n",
      "400/400 [==============================] - 30s 74ms/step - loss: 0.0069 - units_add_loss: 0.0017 - tens_add_loss: 9.3899e-04 - units_mult_loss: 0.0018 - tens_mult_loss: 0.0015 - comp_loss: 9.7544e-04 - units_add_acc: 1.0000 - tens_add_acc: 1.0000 - units_mult_acc: 1.0000 - tens_mult_acc: 1.0000 - comp_acc: 1.0000 - val_loss: 0.0630 - val_units_add_loss: 0.0154 - val_tens_add_loss: 0.0097 - val_units_mult_loss: 0.0146 - val_tens_mult_loss: 0.0138 - val_comp_loss: 0.0095 - val_units_add_acc: 0.9952 - val_tens_add_acc: 0.9967 - val_units_mult_acc: 0.9952 - val_tens_mult_acc: 0.9954 - val_comp_acc: 0.9967\n",
      "Epoch 12/1000\n",
      "400/400 [==============================] - 30s 74ms/step - loss: 0.0045 - units_add_loss: 0.0011 - tens_add_loss: 5.8934e-04 - units_mult_loss: 0.0012 - tens_mult_loss: 0.0010 - comp_loss: 6.2795e-04 - units_add_acc: 1.0000 - tens_add_acc: 1.0000 - units_mult_acc: 1.0000 - tens_mult_acc: 1.0000 - comp_acc: 1.0000 - val_loss: 0.0581 - val_units_add_loss: 0.0139 - val_tens_add_loss: 0.0094 - val_units_mult_loss: 0.0133 - val_tens_mult_loss: 0.0125 - val_comp_loss: 0.0090 - val_units_add_acc: 0.9956 - val_tens_add_acc: 0.9968 - val_units_mult_acc: 0.9954 - val_tens_mult_acc: 0.9959 - val_comp_acc: 0.9969\n",
      "Epoch 13/1000\n",
      "400/400 [==============================] - 30s 74ms/step - loss: 0.0032 - units_add_loss: 8.1632e-04 - tens_add_loss: 4.0529e-04 - units_mult_loss: 8.0554e-04 - tens_mult_loss: 7.1484e-04 - comp_loss: 4.2707e-04 - units_add_acc: 1.0000 - tens_add_acc: 1.0000 - units_mult_acc: 1.0000 - tens_mult_acc: 1.0000 - comp_acc: 1.0000 - val_loss: 0.0542 - val_units_add_loss: 0.0128 - val_tens_add_loss: 0.0089 - val_units_mult_loss: 0.0123 - val_tens_mult_loss: 0.0118 - val_comp_loss: 0.0085 - val_units_add_acc: 0.9956 - val_tens_add_acc: 0.9970 - val_units_mult_acc: 0.9957 - val_tens_mult_acc: 0.9960 - val_comp_acc: 0.9971\n",
      "Epoch 14/1000\n",
      "400/400 [==============================] - 30s 74ms/step - loss: 0.0023 - units_add_loss: 5.9617e-04 - tens_add_loss: 2.8959e-04 - units_mult_loss: 5.8276e-04 - tens_mult_loss: 5.1624e-04 - comp_loss: 3.0404e-04 - units_add_acc: 1.0000 - tens_add_acc: 1.0000 - units_mult_acc: 1.0000 - tens_mult_acc: 1.0000 - comp_acc: 1.0000 - val_loss: 0.0517 - val_units_add_loss: 0.0119 - val_tens_add_loss: 0.0090 - val_units_mult_loss: 0.0115 - val_tens_mult_loss: 0.0112 - val_comp_loss: 0.0082 - val_units_add_acc: 0.9961 - val_tens_add_acc: 0.9971 - val_units_mult_acc: 0.9961 - val_tens_mult_acc: 0.9962 - val_comp_acc: 0.9973\n",
      "Epoch 15/1000\n",
      "400/400 [==============================] - 29s 74ms/step - loss: 0.0017 - units_add_loss: 4.4356e-04 - tens_add_loss: 2.1200e-04 - units_mult_loss: 4.3015e-04 - tens_mult_loss: 3.7953e-04 - comp_loss: 2.2281e-04 - units_add_acc: 1.0000 - tens_add_acc: 1.0000 - units_mult_acc: 1.0000 - tens_mult_acc: 1.0000 - comp_acc: 1.0000 - val_loss: 0.0497 - val_units_add_loss: 0.0113 - val_tens_add_loss: 0.0087 - val_units_mult_loss: 0.0110 - val_tens_mult_loss: 0.0108 - val_comp_loss: 0.0079 - val_units_add_acc: 0.9961 - val_tens_add_acc: 0.9973 - val_units_mult_acc: 0.9962 - val_tens_mult_acc: 0.9963 - val_comp_acc: 0.9973\n",
      "Epoch 16/1000\n",
      "400/400 [==============================] - 30s 74ms/step - loss: 0.0013 - units_add_loss: 3.3576e-04 - tens_add_loss: 1.5717e-04 - units_mult_loss: 3.2382e-04 - tens_mult_loss: 2.8746e-04 - comp_loss: 1.6480e-04 - units_add_acc: 1.0000 - tens_add_acc: 1.0000 - units_mult_acc: 1.0000 - tens_mult_acc: 1.0000 - comp_acc: 1.0000 - val_loss: 0.0485 - val_units_add_loss: 0.0107 - val_tens_add_loss: 0.0087 - val_units_mult_loss: 0.0106 - val_tens_mult_loss: 0.0105 - val_comp_loss: 0.0080 - val_units_add_acc: 0.9963 - val_tens_add_acc: 0.9972 - val_units_mult_acc: 0.9963 - val_tens_mult_acc: 0.9963 - val_comp_acc: 0.9973\n",
      "Epoch 17/1000\n",
      "400/400 [==============================] - 29s 73ms/step - loss: 9.6360e-04 - units_add_loss: 2.5649e-04 - tens_add_loss: 1.1829e-04 - units_mult_loss: 2.4490e-04 - tens_mult_loss: 2.1826e-04 - comp_loss: 1.2566e-04 - units_add_acc: 1.0000 - tens_add_acc: 1.0000 - units_mult_acc: 1.0000 - tens_mult_acc: 1.0000 - comp_acc: 1.0000 - val_loss: 0.0459 - val_units_add_loss: 0.0101 - val_tens_add_loss: 0.0084 - val_units_mult_loss: 0.0099 - val_tens_mult_loss: 0.0099 - val_comp_loss: 0.0076 - val_units_add_acc: 0.9965 - val_tens_add_acc: 0.9974 - val_units_mult_acc: 0.9966 - val_tens_mult_acc: 0.9966 - val_comp_acc: 0.9975\n",
      "Epoch 18/1000\n",
      "400/400 [==============================] - 29s 74ms/step - loss: 7.3538e-04 - units_add_loss: 1.9739e-04 - tens_add_loss: 9.0139e-05 - units_mult_loss: 1.8691e-04 - tens_mult_loss: 1.6716e-04 - comp_loss: 9.3777e-05 - units_add_acc: 1.0000 - tens_add_acc: 1.0000 - units_mult_acc: 1.0000 - tens_mult_acc: 1.0000 - comp_acc: 1.0000 - val_loss: 0.0448 - val_units_add_loss: 0.0096 - val_tens_add_loss: 0.0083 - val_units_mult_loss: 0.0096 - val_tens_mult_loss: 0.0096 - val_comp_loss: 0.0076 - val_units_add_acc: 0.9968 - val_tens_add_acc: 0.9973 - val_units_mult_acc: 0.9967 - val_tens_mult_acc: 0.9967 - val_comp_acc: 0.9974\n",
      "Epoch 19/1000\n",
      "400/400 [==============================] - 30s 74ms/step - loss: 5.6515e-04 - units_add_loss: 1.5235e-04 - tens_add_loss: 6.9554e-05 - units_mult_loss: 1.4329e-04 - tens_mult_loss: 1.2821e-04 - comp_loss: 7.1747e-05 - units_add_acc: 1.0000 - tens_add_acc: 1.0000 - units_mult_acc: 1.0000 - tens_mult_acc: 1.0000 - comp_acc: 1.0000 - val_loss: 0.0429 - val_units_add_loss: 0.0090 - val_tens_add_loss: 0.0081 - val_units_mult_loss: 0.0092 - val_tens_mult_loss: 0.0093 - val_comp_loss: 0.0073 - val_units_add_acc: 0.9969 - val_tens_add_acc: 0.9975 - val_units_mult_acc: 0.9968 - val_tens_mult_acc: 0.9968 - val_comp_acc: 0.9976\n",
      "Epoch 20/1000\n",
      "400/400 [==============================] - 29s 73ms/step - loss: 4.3602e-04 - units_add_loss: 1.1849e-04 - tens_add_loss: 5.2984e-05 - units_mult_loss: 1.1121e-04 - tens_mult_loss: 9.8957e-05 - comp_loss: 5.4378e-05 - units_add_acc: 1.0000 - tens_add_acc: 1.0000 - units_mult_acc: 1.0000 - tens_mult_acc: 1.0000 - comp_acc: 1.0000 - val_loss: 0.0415 - val_units_add_loss: 0.0085 - val_tens_add_loss: 0.0079 - val_units_mult_loss: 0.0088 - val_tens_mult_loss: 0.0090 - val_comp_loss: 0.0072 - val_units_add_acc: 0.9971 - val_tens_add_acc: 0.9974 - val_units_mult_acc: 0.9969 - val_tens_mult_acc: 0.9969 - val_comp_acc: 0.9977\n",
      "Epoch 21/1000\n",
      "400/400 [==============================] - 29s 73ms/step - loss: 3.3877e-04 - units_add_loss: 9.2501e-05 - tens_add_loss: 4.0540e-05 - units_mult_loss: 8.6084e-05 - tens_mult_loss: 7.7060e-05 - comp_loss: 4.2583e-05 - units_add_acc: 1.0000 - tens_add_acc: 1.0000 - units_mult_acc: 1.0000 - tens_mult_acc: 1.0000 - comp_acc: 1.0000 - val_loss: 0.0407 - val_units_add_loss: 0.0083 - val_tens_add_loss: 0.0080 - val_units_mult_loss: 0.0086 - val_tens_mult_loss: 0.0086 - val_comp_loss: 0.0072 - val_units_add_acc: 0.9972 - val_tens_add_acc: 0.9976 - val_units_mult_acc: 0.9971 - val_tens_mult_acc: 0.9971 - val_comp_acc: 0.9976\n",
      "Epoch 22/1000\n",
      "400/400 [==============================] - 29s 73ms/step - loss: 2.6322e-04 - units_add_loss: 7.2051e-05 - tens_add_loss: 3.1578e-05 - units_mult_loss: 6.6763e-05 - tens_mult_loss: 5.9971e-05 - comp_loss: 3.2853e-05 - units_add_acc: 1.0000 - tens_add_acc: 1.0000 - units_mult_acc: 1.0000 - tens_mult_acc: 1.0000 - comp_acc: 1.0000 - val_loss: 0.0398 - val_units_add_loss: 0.0080 - val_tens_add_loss: 0.0080 - val_units_mult_loss: 0.0082 - val_tens_mult_loss: 0.0085 - val_comp_loss: 0.0071 - val_units_add_acc: 0.9973 - val_tens_add_acc: 0.9976 - val_units_mult_acc: 0.9971 - val_tens_mult_acc: 0.9971 - val_comp_acc: 0.9977\n",
      "Epoch 23/1000\n",
      "400/400 [==============================] - 29s 73ms/step - loss: 2.0571e-04 - units_add_loss: 5.6573e-05 - tens_add_loss: 2.4426e-05 - units_mult_loss: 5.2218e-05 - tens_mult_loss: 4.6886e-05 - comp_loss: 2.5604e-05 - units_add_acc: 1.0000 - tens_add_acc: 1.0000 - units_mult_acc: 1.0000 - tens_mult_acc: 1.0000 - comp_acc: 1.0000 - val_loss: 0.0391 - val_units_add_loss: 0.0077 - val_tens_add_loss: 0.0079 - val_units_mult_loss: 0.0081 - val_tens_mult_loss: 0.0083 - val_comp_loss: 0.0071 - val_units_add_acc: 0.9974 - val_tens_add_acc: 0.9976 - val_units_mult_acc: 0.9972 - val_tens_mult_acc: 0.9972 - val_comp_acc: 0.9977\n",
      "Epoch 24/1000\n",
      "400/400 [==============================] - 29s 74ms/step - loss: 1.6170e-04 - units_add_loss: 4.4446e-05 - tens_add_loss: 1.9269e-05 - units_mult_loss: 4.0984e-05 - tens_mult_loss: 3.6805e-05 - comp_loss: 2.0197e-05 - units_add_acc: 1.0000 - tens_add_acc: 1.0000 - units_mult_acc: 1.0000 - tens_mult_acc: 1.0000 - comp_acc: 1.0000 - val_loss: 0.0385 - val_units_add_loss: 0.0075 - val_tens_add_loss: 0.0080 - val_units_mult_loss: 0.0078 - val_tens_mult_loss: 0.0082 - val_comp_loss: 0.0071 - val_units_add_acc: 0.9974 - val_tens_add_acc: 0.9977 - val_units_mult_acc: 0.9973 - val_tens_mult_acc: 0.9973 - val_comp_acc: 0.9977\n",
      "Epoch 25/1000\n",
      "400/400 [==============================] - 29s 73ms/step - loss: 1.2717e-04 - units_add_loss: 3.5151e-05 - tens_add_loss: 1.5155e-05 - units_mult_loss: 3.2250e-05 - tens_mult_loss: 2.8863e-05 - comp_loss: 1.5753e-05 - units_add_acc: 1.0000 - tens_add_acc: 1.0000 - units_mult_acc: 1.0000 - tens_mult_acc: 1.0000 - comp_acc: 1.0000 - val_loss: 0.0376 - val_units_add_loss: 0.0072 - val_tens_add_loss: 0.0078 - val_units_mult_loss: 0.0077 - val_tens_mult_loss: 0.0080 - val_comp_loss: 0.0069 - val_units_add_acc: 0.9976 - val_tens_add_acc: 0.9977 - val_units_mult_acc: 0.9973 - val_tens_mult_acc: 0.9973 - val_comp_acc: 0.9977\n",
      "Epoch 26/1000\n",
      "400/400 [==============================] - 29s 73ms/step - loss: 9.9676e-05 - units_add_loss: 2.7638e-05 - tens_add_loss: 1.1989e-05 - units_mult_loss: 2.5163e-05 - tens_mult_loss: 2.2756e-05 - comp_loss: 1.2130e-05 - units_add_acc: 1.0000 - tens_add_acc: 1.0000 - units_mult_acc: 1.0000 - tens_mult_acc: 1.0000 - comp_acc: 1.0000 - val_loss: 0.0368 - val_units_add_loss: 0.0069 - val_tens_add_loss: 0.0078 - val_units_mult_loss: 0.0074 - val_tens_mult_loss: 0.0078 - val_comp_loss: 0.0069 - val_units_add_acc: 0.9976 - val_tens_add_acc: 0.9978 - val_units_mult_acc: 0.9974 - val_tens_mult_acc: 0.9974 - val_comp_acc: 0.9978\n",
      "Epoch 27/1000\n",
      "400/400 [==============================] - 29s 73ms/step - loss: 7.8589e-05 - units_add_loss: 2.1887e-05 - tens_add_loss: 9.2781e-06 - units_mult_loss: 1.9864e-05 - tens_mult_loss: 1.7899e-05 - comp_loss: 9.6607e-06 - units_add_acc: 1.0000 - tens_add_acc: 1.0000 - units_mult_acc: 1.0000 - tens_mult_acc: 1.0000 - comp_acc: 1.0000 - val_loss: 0.0362 - val_units_add_loss: 0.0067 - val_tens_add_loss: 0.0077 - val_units_mult_loss: 0.0073 - val_tens_mult_loss: 0.0076 - val_comp_loss: 0.0069 - val_units_add_acc: 0.9977 - val_tens_add_acc: 0.9977 - val_units_mult_acc: 0.9974 - val_tens_mult_acc: 0.9974 - val_comp_acc: 0.9978\n",
      "Epoch 28/1000\n",
      "400/400 [==============================] - 29s 73ms/step - loss: 6.1932e-05 - units_add_loss: 1.7338e-05 - tens_add_loss: 7.3008e-06 - units_mult_loss: 1.5650e-05 - tens_mult_loss: 1.4115e-05 - comp_loss: 7.5283e-06 - units_add_acc: 1.0000 - tens_add_acc: 1.0000 - units_mult_acc: 1.0000 - tens_mult_acc: 1.0000 - comp_acc: 1.0000 - val_loss: 0.0357 - val_units_add_loss: 0.0065 - val_tens_add_loss: 0.0078 - val_units_mult_loss: 0.0071 - val_tens_mult_loss: 0.0075 - val_comp_loss: 0.0069 - val_units_add_acc: 0.9978 - val_tens_add_acc: 0.9978 - val_units_mult_acc: 0.9975 - val_tens_mult_acc: 0.9975 - val_comp_acc: 0.9978\n",
      "Epoch 29/1000\n",
      "400/400 [==============================] - 30s 74ms/step - loss: 4.8954e-05 - units_add_loss: 1.3667e-05 - tens_add_loss: 5.8006e-06 - units_mult_loss: 1.2396e-05 - tens_mult_loss: 1.1174e-05 - comp_loss: 5.9157e-06 - units_add_acc: 1.0000 - tens_add_acc: 1.0000 - units_mult_acc: 1.0000 - tens_mult_acc: 1.0000 - comp_acc: 1.0000 - val_loss: 0.0350 - val_units_add_loss: 0.0063 - val_tens_add_loss: 0.0078 - val_units_mult_loss: 0.0068 - val_tens_mult_loss: 0.0073 - val_comp_loss: 0.0068 - val_units_add_acc: 0.9978 - val_tens_add_acc: 0.9978 - val_units_mult_acc: 0.9976 - val_tens_mult_acc: 0.9976 - val_comp_acc: 0.9978\n",
      "Epoch 30/1000\n",
      "400/400 [==============================] - 30s 75ms/step - loss: 3.8788e-05 - units_add_loss: 1.0893e-05 - tens_add_loss: 4.5628e-06 - units_mult_loss: 9.7750e-06 - tens_mult_loss: 8.8761e-06 - comp_loss: 4.6818e-06 - units_add_acc: 1.0000 - tens_add_acc: 1.0000 - units_mult_acc: 1.0000 - tens_mult_acc: 1.0000 - comp_acc: 1.0000 - val_loss: 0.0348 - val_units_add_loss: 0.0061 - val_tens_add_loss: 0.0078 - val_units_mult_loss: 0.0068 - val_tens_mult_loss: 0.0074 - val_comp_loss: 0.0068 - val_units_add_acc: 0.9979 - val_tens_add_acc: 0.9978 - val_units_mult_acc: 0.9977 - val_tens_mult_acc: 0.9976 - val_comp_acc: 0.9978\n",
      "Epoch 31/1000\n",
      "400/400 [==============================] - 29s 73ms/step - loss: 3.0736e-05 - units_add_loss: 8.6567e-06 - tens_add_loss: 3.6184e-06 - units_mult_loss: 7.7521e-06 - tens_mult_loss: 6.9844e-06 - comp_loss: 3.7247e-06 - units_add_acc: 1.0000 - tens_add_acc: 1.0000 - units_mult_acc: 1.0000 - tens_mult_acc: 1.0000 - comp_acc: 1.0000 - val_loss: 0.0343 - val_units_add_loss: 0.0060 - val_tens_add_loss: 0.0077 - val_units_mult_loss: 0.0066 - val_tens_mult_loss: 0.0071 - val_comp_loss: 0.0069 - val_units_add_acc: 0.9979 - val_tens_add_acc: 0.9979 - val_units_mult_acc: 0.9978 - val_tens_mult_acc: 0.9977 - val_comp_acc: 0.9979\n",
      "Epoch 32/1000\n",
      "400/400 [==============================] - 29s 73ms/step - loss: 2.4450e-05 - units_add_loss: 6.8998e-06 - tens_add_loss: 2.8827e-06 - units_mult_loss: 6.1598e-06 - tens_mult_loss: 5.5641e-06 - comp_loss: 2.9438e-06 - units_add_acc: 1.0000 - tens_add_acc: 1.0000 - units_mult_acc: 1.0000 - tens_mult_acc: 1.0000 - comp_acc: 1.0000 - val_loss: 0.0336 - val_units_add_loss: 0.0058 - val_tens_add_loss: 0.0077 - val_units_mult_loss: 0.0064 - val_tens_mult_loss: 0.0070 - val_comp_loss: 0.0067 - val_units_add_acc: 0.9980 - val_tens_add_acc: 0.9978 - val_units_mult_acc: 0.9977 - val_tens_mult_acc: 0.9977 - val_comp_acc: 0.9980\n",
      "Epoch 33/1000\n",
      "400/400 [==============================] - 29s 73ms/step - loss: 1.9478e-05 - units_add_loss: 5.5148e-06 - tens_add_loss: 2.2782e-06 - units_mult_loss: 4.8993e-06 - tens_mult_loss: 4.4402e-06 - comp_loss: 2.3451e-06 - units_add_acc: 1.0000 - tens_add_acc: 1.0000 - units_mult_acc: 1.0000 - tens_mult_acc: 1.0000 - comp_acc: 1.0000 - val_loss: 0.0336 - val_units_add_loss: 0.0058 - val_tens_add_loss: 0.0077 - val_units_mult_loss: 0.0063 - val_tens_mult_loss: 0.0071 - val_comp_loss: 0.0067 - val_units_add_acc: 0.9980 - val_tens_add_acc: 0.9979 - val_units_mult_acc: 0.9978 - val_tens_mult_acc: 0.9978 - val_comp_acc: 0.9979\n",
      "Epoch 34/1000\n",
      "400/400 [==============================] - 29s 74ms/step - loss: 1.5500e-05 - units_add_loss: 4.3918e-06 - tens_add_loss: 1.8143e-06 - units_mult_loss: 3.8989e-06 - tens_mult_loss: 3.5252e-06 - comp_loss: 1.8695e-06 - units_add_acc: 1.0000 - tens_add_acc: 1.0000 - units_mult_acc: 1.0000 - tens_mult_acc: 1.0000 - comp_acc: 1.0000 - val_loss: 0.0333 - val_units_add_loss: 0.0056 - val_tens_add_loss: 0.0079 - val_units_mult_loss: 0.0061 - val_tens_mult_loss: 0.0068 - val_comp_loss: 0.0068 - val_units_add_acc: 0.9982 - val_tens_add_acc: 0.9979 - val_units_mult_acc: 0.9979 - val_tens_mult_acc: 0.9978 - val_comp_acc: 0.9980\n",
      "Epoch 35/1000\n",
      "400/400 [==============================] - 29s 74ms/step - loss: 1.2360e-05 - units_add_loss: 3.4987e-06 - tens_add_loss: 1.4512e-06 - units_mult_loss: 3.1188e-06 - tens_mult_loss: 2.8161e-06 - comp_loss: 1.4752e-06 - units_add_acc: 1.0000 - tens_add_acc: 1.0000 - units_mult_acc: 1.0000 - tens_mult_acc: 1.0000 - comp_acc: 1.0000 - val_loss: 0.0327 - val_units_add_loss: 0.0054 - val_tens_add_loss: 0.0078 - val_units_mult_loss: 0.0060 - val_tens_mult_loss: 0.0068 - val_comp_loss: 0.0067 - val_units_add_acc: 0.9982 - val_tens_add_acc: 0.9979 - val_units_mult_acc: 0.9979 - val_tens_mult_acc: 0.9979 - val_comp_acc: 0.9979\n",
      "Epoch 36/1000\n",
      "400/400 [==============================] - ETA: 0s - loss: 9.8763e-06 - units_add_loss: 2.8118e-06 - tens_add_loss: 1.1577e-06 - units_mult_loss: 2.4849e-06 - tens_mult_loss: 2.2442e-06 - comp_loss: 1.1778e-06 - units_add_acc: 1.0000 - tens_add_acc: 1.0000 - units_mult_acc: 1.0000 - tens_mult_acc: 1.0000 - comp_acc: 1.0000Restoring model weights from the end of the best epoch.\n",
      "Restoring model weights from the end of the best epoch.\n",
      "400/400 [==============================] - 29s 73ms/step - loss: 9.8763e-06 - units_add_loss: 2.8118e-06 - tens_add_loss: 1.1577e-06 - units_mult_loss: 2.4849e-06 - tens_mult_loss: 2.2442e-06 - comp_loss: 1.1778e-06 - units_add_acc: 1.0000 - tens_add_acc: 1.0000 - units_mult_acc: 1.0000 - tens_mult_acc: 1.0000 - comp_acc: 1.0000 - val_loss: 0.0328 - val_units_add_loss: 0.0053 - val_tens_add_loss: 0.0077 - val_units_mult_loss: 0.0060 - val_tens_mult_loss: 0.0069 - val_comp_loss: 0.0068 - val_units_add_acc: 0.9983 - val_tens_add_acc: 0.9980 - val_units_mult_acc: 0.9979 - val_tens_mult_acc: 0.9978 - val_comp_acc: 0.9979\n",
      "Epoch 00036: early stopping\n",
      "Epoch 00036: early stopping\n",
      "Epoch 00036: early stopping\n",
      "Epoch 00036: early stopping\n",
      "Epoch 00036: early stopping\n",
      "Epoch 00036: early stopping\n"
     ]
    }
   ],
   "metadata": {}
  },
  {
   "cell_type": "markdown",
   "source": [
    "At the end of the training, the accuracy on all outputs is pretty good (9x%). Let's see first how the model performs on the test data."
   ],
   "metadata": {}
  },
  {
   "cell_type": "code",
   "execution_count": 19,
   "source": [
    "test = model_complete.evaluate([x_test_1,x_test_2],[y_test_add_units_cat,y_test_add_tens,y_test_mult_units_cat,y_test_mult_tens_cat,y_test_comp], batch_size=100)"
   ],
   "outputs": [
    {
     "output_type": "stream",
     "name": "stdout",
     "text": [
      "50/50 [==============================] - 1s 11ms/step - loss: 2.4764 - units_add_loss: 0.7290 - tens_add_loss: 0.2871 - units_mult_loss: 0.6328 - tens_mult_loss: 0.5221 - comp_loss: 0.3055 - units_add_acc: 0.9140 - tens_add_acc: 0.9646 - units_mult_acc: 0.9292 - tens_mult_acc: 0.9416 - comp_acc: 0.9640\n"
     ]
    }
   ],
   "metadata": {}
  },
  {
   "cell_type": "markdown",
   "source": [
    "Results are still in the 9x%. We can show a random sample of the model predictions."
   ],
   "metadata": {}
  },
  {
   "cell_type": "code",
   "execution_count": 26,
   "source": [
    "random_label_1 = np.random.randint(0,9999)\r\n",
    "random_label_2 = np.random.randint(0,9999)\r\n",
    "\r\n",
    "img_sample1 = x_test[random_label_1,:,:].reshape((1,28,28,1))\r\n",
    "img_sample2 = x_test[random_label_2,:,:].reshape((1,28,28,1))\r\n",
    "\r\n",
    "plt.subplot(1,2,1)\r\n",
    "plt.imshow(img_sample1.reshape(28,28), cmap='gray');\r\n",
    "\r\n",
    "plt.subplot(1,2,2)\r\n",
    "plt.imshow(img_sample2.reshape(28,28), cmap='gray');\r\n",
    "\r\n",
    "prediction = model_complete.predict([img_sample1,img_sample2])\r\n",
    "unit_add = prediction[0]\r\n",
    "ten_add = prediction[1]\r\n",
    "unit_mult = prediction[2]\r\n",
    "ten_mult = prediction[3]\r\n",
    "comp_images = prediction[4]\r\n",
    "\r\n",
    "sum_images = np.argmax(unit_add)+10*np.round(ten_add)\r\n",
    "print('sum =',sum_images)\r\n",
    "\r\n",
    "\r\n",
    "mult_images = np.argmax(unit_mult)+10*np.argmax(ten_mult)\r\n",
    "print('multiplication result =',mult_images)\r\n",
    "\r\n",
    "print('comparison result =',np.round(comp_images),'1 if the number on the left is greater, 0 elsewhere')"
   ],
   "outputs": [
    {
     "output_type": "stream",
     "name": "stdout",
     "text": [
      "sum = [[12.]]\n",
      "multiplication result = 32\n",
      "comparison result = [[0.]] 1 if the number on the left is greater, 0 elsewhere\n"
     ]
    },
    {
     "output_type": "display_data",
     "data": {
      "image/png": "[encoded data removed]",
      "text/plain": [
       "<Figure size 432x288 with 2 Axes>"
      ]
     },
     "metadata": {
      "needs_background": "light"
     }
    }
   ],
   "metadata": {}
  },
  {
   "cell_type": "markdown",
   "source": [
    "Results look promising! We actually could improve the accuracy by training the model on more random samples (increase `train_size` value) or tweak the model architecture. One last thing: save the model!"
   ],
   "metadata": {}
  },
  {
   "cell_type": "code",
   "execution_count": 21,
   "source": [
    "# save the model\r\n",
    "model_complete.save('model_complete')"
   ],
   "outputs": [],
   "metadata": {}
  },
  {
   "cell_type": "markdown",
   "source": [
    "# Conclusion and future work"
   ],
   "metadata": {}
  },
  {
   "cell_type": "markdown",
   "source": [],
   "metadata": {}
  }
 ],
 "metadata": {
  "orig_nbformat": 4,
  "language_info": {
   "name": "python",
   "version": "3.7.9",
   "mimetype": "text/x-python",
   "codemirror_mode": {
    "name": "ipython",
    "version": 3
   },
   "pygments_lexer": "ipython3",
   "nbconvert_exporter": "python",
   "file_extension": ".py"
  },
  "kernelspec": {
   "name": "python3",
   "display_name": "Python 3.7.9 64-bit"
  },
  "interpreter": {
   "hash": "684b1123683431d89d3bfe9a89cc763215f4b8cd94b4aba1fb40ad45ff7c8b41"
  }
 },
 "nbformat": 4,
 "nbformat_minor": 2
}