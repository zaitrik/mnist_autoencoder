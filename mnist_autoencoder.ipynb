{
 "cells": [
  {
   "cell_type": "markdown",
   "source": [
    "# This is how a neural network learns to add, multiply and compare handwritten digits WITHOUT knowing their values "
   ],
   "metadata": {}
  },
  {
   "cell_type": "markdown",
   "source": [
    "<p align=\"center\"> <img src=\"https://i.dlpng.com/static/png/6906777_preview.png\"> </p>   "
   ],
   "metadata": {}
  },
  {
   "cell_type": "markdown",
   "source": [
    "I described in a [previous post](https://blog.jovian.ai/how-to-train-supervised-machine-learning-algorithms-without-labeled-data-6ebddc01a00f), how useful are autoencoders in  automated labeling. The main property of these networks is their ability to learn features/patterns in the data. This is in fact not specific to autoencoders and can be implemented using other unsupervised techniques, mainly **PCA**.  \r\n",
    "The ability to detect and learn features in data can be used in other areas.  \r\n",
    "\r\n",
    "In this post, I will present some applications of convolutional autoencoders:  \r\n",
    "- First, a convolutional autoencoder will be trained on **MNIST** data.\r\n",
    "- After the training of the encoder and decoder, we will freeze their weights and use them with additional dense layers to \"learn\" arithmetic operations, namely addition, multiplication and comparison.  \r\n",
    "The trick is to *never* explicitly associate the handwritten digits in **MNIST** dataset with their respective labels. We will see that the neural networks will be nevertheless able to reach 97+% accuracy in all cases on unseen data.\r\n",
    "\r\n",
    "The first step of the design is described in the following diagram:\r\n",
    "<p align=\"center\"> <img src=\"https://i.imgur.com/chLUEdp.png\"> </p>   "
   ],
   "metadata": {}
  },
  {
   "cell_type": "markdown",
   "source": [
    "In the second step, we will use the encoder in series with dense layers to perform arithmetic operations: addition, multiplication and comparison. We will train only the dense layer weights, and supply the results of the operations as labels. note that we will not supply the digits values (labels).\r\n",
    "\r\n",
    "<p align=\"center\"> <img src=\"https://i.imgur.com/s8U8up4.png\"> </p> \r\n"
   ],
   "metadata": {}
  },
  {
   "cell_type": "markdown",
   "source": [
    "# Training an autoencoder on MNIST data"
   ],
   "metadata": {}
  },
  {
   "cell_type": "markdown",
   "source": [
    "Similar to the previous article, we will use MNIST data in this experiment. The autoencoder will learn the handwritten digits features using 60000 training samples. We import MNIST using *KERAS* library."
   ],
   "metadata": {}
  },
  {
   "cell_type": "code",
   "execution_count": 1,
   "source": [
    "#import libraries and setup \r\n",
    "import keras\r\n",
    "import numpy as np\r\n",
    "import matplotlib.pyplot as plt\r\n",
    "%matplotlib inline\r\n",
    "import logging\r\n",
    "logging.getLogger('tensorflow').disabled = True\r\n",
    "from keras.models import Sequential, Model\r\n",
    "from keras.layers import Dense, Conv2D, Flatten, MaxPooling2D, UpSampling2D, Reshape, Concatenate, Input\r\n",
    "from keras.callbacks import EarlyStopping\r\n",
    "from tensorflow.keras.utils import to_categorical\r\n",
    "es = EarlyStopping(monitor='val_loss', mode='min', verbose=2, patience=10, restore_best_weights=True)"
   ],
   "outputs": [],
   "metadata": {}
  },
  {
   "cell_type": "code",
   "execution_count": 2,
   "source": [
    "# import mnist\r\n",
    "(x_train, y_train), (x_test, y_test) = keras.datasets.mnist.load_data()\r\n",
    "print(x_train.shape,y_train.shape)"
   ],
   "outputs": [
    {
     "output_type": "stream",
     "name": "stdout",
     "text": [
      "(60000, 28, 28) (60000,)\n"
     ]
    }
   ],
   "metadata": {}
  },
  {
   "cell_type": "markdown",
   "source": [
    "We scale the data in the range `[0,1]` and reshape it to *KERAS* format for images (nbr_samples x width x height x channels) "
   ],
   "metadata": {}
  },
  {
   "cell_type": "code",
   "execution_count": 3,
   "source": [
    "#normalize data\r\n",
    "if x_train.max() >1:\r\n",
    "    x_train = x_train / 255\r\n",
    "    x_test = x_test / 255\r\n",
    "\r\n",
    "default_shape = x_train.shape\r\n",
    "#reshape input data to 1 channel\r\n",
    "x_train = x_train.reshape(-1,default_shape[1],default_shape[2],1)\r\n",
    "x_test = x_test.reshape(-1,default_shape[1],default_shape[2],1)\r\n",
    "image_dim = x_train.shape[1:]"
   ],
   "outputs": [],
   "metadata": {}
  },
  {
   "cell_type": "markdown",
   "source": [
    "We will implement a similar autoencoder architecture as in [my previous post](https://blog.jovian.ai/how-to-train-supervised-machine-learning-algorithms-without-labeled-data-6ebddc01a00f). It is based on a series of convolutional layers, that will gradually encode the 28x28x1 image (784 pixel) into a 100 elements array, and decode that representation back to the original format. The resulting image -after the training- will hopefully resemble to the original one."
   ],
   "metadata": {}
  },
  {
   "cell_type": "code",
   "execution_count": 4,
   "source": [
    "# create an autoencoder / decoder \r\n",
    "encoder = Sequential()\r\n",
    "encoder.add(Conv2D(32,kernel_size=(3,3), strides=(1,1),padding='same', activation='selu',input_shape=image_dim))\r\n",
    "encoder.add(MaxPooling2D(2,2))\r\n",
    "encoder.add(Conv2D(64,kernel_size=(3,3), strides=(1,1),padding='same',activation='selu'))\r\n",
    "encoder.add(MaxPooling2D(2,2))\r\n",
    "encoder.add(Conv2D(128,kernel_size=(3,3), strides=(1,1),padding='same',activation='selu'))\r\n",
    "encoder.add(Flatten())\r\n",
    "encoder.add(Dense(100,activation='sigmoid'))\r\n",
    "encoder.summary()"
   ],
   "outputs": [
    {
     "output_type": "stream",
     "name": "stdout",
     "text": [
      "Model: \"sequential\"\n",
      "_________________________________________________________________\n",
      "Layer (type)                 Output Shape              Param #   \n",
      "=================================================================\n",
      "conv2d (Conv2D)              (None, 28, 28, 32)        320       \n",
      "_________________________________________________________________\n",
      "max_pooling2d (MaxPooling2D) (None, 14, 14, 32)        0         \n",
      "_________________________________________________________________\n",
      "conv2d_1 (Conv2D)            (None, 14, 14, 64)        18496     \n",
      "_________________________________________________________________\n",
      "max_pooling2d_1 (MaxPooling2 (None, 7, 7, 64)          0         \n",
      "_________________________________________________________________\n",
      "conv2d_2 (Conv2D)            (None, 7, 7, 128)         73856     \n",
      "_________________________________________________________________\n",
      "flatten (Flatten)            (None, 6272)              0         \n",
      "_________________________________________________________________\n",
      "dense (Dense)                (None, 100)               627300    \n",
      "=================================================================\n",
      "Total params: 719,972\n",
      "Trainable params: 719,972\n",
      "Non-trainable params: 0\n",
      "_________________________________________________________________\n"
     ]
    }
   ],
   "metadata": {}
  },
  {
   "cell_type": "code",
   "execution_count": 5,
   "source": [
    "encoder_out_dim = encoder.layers[-1].output_shape[1:] # dimension of the encoder output"
   ],
   "outputs": [],
   "metadata": {}
  },
  {
   "cell_type": "code",
   "execution_count": 6,
   "source": [
    "decoder = Sequential()\r\n",
    "decoder.add(Dense(6272, activation='sigmoid', input_shape=encoder_out_dim))\r\n",
    "decoder.add(Reshape(( 7, 7, 128)))\r\n",
    "decoder.add(Conv2D(128,kernel_size=(3,3), strides=(1,1),padding='same', activation='selu'))\r\n",
    "decoder.add(UpSampling2D((2,2)))\r\n",
    "decoder.add(Conv2D(64,kernel_size=(3,3), strides=(1,1),padding='same', activation='selu'))\r\n",
    "decoder.add(UpSampling2D((2,2)))\r\n",
    "decoder.add(Conv2D(1,kernel_size=(3,3), strides=(1,1),padding='same', activation='sigmoid'))\r\n",
    "\r\n",
    "decoder.summary()"
   ],
   "outputs": [
    {
     "output_type": "stream",
     "name": "stdout",
     "text": [
      "Model: \"sequential_1\"\n",
      "_________________________________________________________________\n",
      "Layer (type)                 Output Shape              Param #   \n",
      "=================================================================\n",
      "dense_1 (Dense)              (None, 6272)              633472    \n",
      "_________________________________________________________________\n",
      "reshape (Reshape)            (None, 7, 7, 128)         0         \n",
      "_________________________________________________________________\n",
      "conv2d_3 (Conv2D)            (None, 7, 7, 128)         147584    \n",
      "_________________________________________________________________\n",
      "up_sampling2d (UpSampling2D) (None, 14, 14, 128)       0         \n",
      "_________________________________________________________________\n",
      "conv2d_4 (Conv2D)            (None, 14, 14, 64)        73792     \n",
      "_________________________________________________________________\n",
      "up_sampling2d_1 (UpSampling2 (None, 28, 28, 64)        0         \n",
      "_________________________________________________________________\n",
      "conv2d_5 (Conv2D)            (None, 28, 28, 1)         577       \n",
      "=================================================================\n",
      "Total params: 855,425\n",
      "Trainable params: 855,425\n",
      "Non-trainable params: 0\n",
      "_________________________________________________________________\n"
     ]
    }
   ],
   "metadata": {}
  },
  {
   "cell_type": "markdown",
   "source": [
    "The autoencoder is then created using the encoder and the decoder:"
   ],
   "metadata": {}
  },
  {
   "cell_type": "code",
   "execution_count": 7,
   "source": [
    "enc_dec = Sequential([encoder,decoder])\r\n",
    "enc_dec.summary()"
   ],
   "outputs": [
    {
     "output_type": "stream",
     "name": "stdout",
     "text": [
      "Model: \"sequential_2\"\n",
      "_________________________________________________________________\n",
      "Layer (type)                 Output Shape              Param #   \n",
      "=================================================================\n",
      "sequential (Sequential)      (None, 100)               719972    \n",
      "_________________________________________________________________\n",
      "sequential_1 (Sequential)    (None, 28, 28, 1)         855425    \n",
      "=================================================================\n",
      "Total params: 1,575,397\n",
      "Trainable params: 1,575,397\n",
      "Non-trainable params: 0\n",
      "_________________________________________________________________\n"
     ]
    }
   ],
   "metadata": {}
  },
  {
   "cell_type": "markdown",
   "source": [
    "Each autoencoder output will be trained as a binary classifier for each pixel."
   ],
   "metadata": {}
  },
  {
   "cell_type": "code",
   "execution_count": 8,
   "source": [
    "enc_dec.compile(optimizer='nadam', loss = 'binary_crossentropy')\r\n",
    "history = enc_dec.fit(x_train,x_train, batch_size=100,epochs=1000,validation_split=0.2, verbose=2,callbacks=[es,es])"
   ],
   "outputs": [
    {
     "output_type": "stream",
     "name": "stdout",
     "text": [
      "Epoch 1/1000\n",
      "480/480 - 14s - loss: 0.2806 - val_loss: 0.1985\n",
      "Epoch 2/1000\n",
      "480/480 - 14s - loss: 0.1468 - val_loss: 0.1151\n",
      "Epoch 3/1000\n",
      "480/480 - 14s - loss: 0.1027 - val_loss: 0.0907\n",
      "Epoch 4/1000\n",
      "480/480 - 14s - loss: 0.0875 - val_loss: 0.0849\n",
      "Epoch 5/1000\n",
      "480/480 - 14s - loss: 0.0815 - val_loss: 0.0790\n",
      "Epoch 6/1000\n",
      "480/480 - 14s - loss: 0.0781 - val_loss: 0.0767\n",
      "Epoch 7/1000\n",
      "480/480 - 14s - loss: 0.0758 - val_loss: 0.0759\n",
      "Epoch 8/1000\n",
      "480/480 - 14s - loss: 0.0744 - val_loss: 0.0758\n",
      "Epoch 9/1000\n",
      "480/480 - 14s - loss: 0.0731 - val_loss: 0.0725\n",
      "Epoch 10/1000\n",
      "480/480 - 14s - loss: 0.0722 - val_loss: 0.0716\n",
      "Epoch 11/1000\n",
      "480/480 - 14s - loss: 0.0713 - val_loss: 0.0720\n",
      "Epoch 12/1000\n",
      "480/480 - 14s - loss: 0.0707 - val_loss: 0.0718\n",
      "Epoch 13/1000\n",
      "480/480 - 15s - loss: 0.0702 - val_loss: 0.0731\n",
      "Epoch 14/1000\n",
      "480/480 - 15s - loss: 0.0696 - val_loss: 0.0702\n",
      "Epoch 15/1000\n",
      "480/480 - 14s - loss: 0.0692 - val_loss: 0.0690\n",
      "Epoch 16/1000\n",
      "480/480 - 14s - loss: 0.0687 - val_loss: 0.0695\n",
      "Epoch 17/1000\n",
      "480/480 - 15s - loss: 0.0684 - val_loss: 0.0684\n",
      "Epoch 18/1000\n",
      "480/480 - 14s - loss: 0.0680 - val_loss: 0.0699\n",
      "Epoch 19/1000\n",
      "480/480 - 14s - loss: 0.0678 - val_loss: 0.0691\n",
      "Epoch 20/1000\n",
      "480/480 - 14s - loss: 0.0675 - val_loss: 0.0681\n",
      "Epoch 21/1000\n",
      "480/480 - 14s - loss: 0.0673 - val_loss: 0.0674\n",
      "Epoch 22/1000\n",
      "480/480 - 14s - loss: 0.0670 - val_loss: 0.0674\n",
      "Epoch 23/1000\n",
      "480/480 - 14s - loss: 0.0668 - val_loss: 0.0686\n",
      "Epoch 24/1000\n",
      "480/480 - 14s - loss: 0.1794 - val_loss: 0.1077\n",
      "Epoch 25/1000\n",
      "480/480 - 14s - loss: 0.0960 - val_loss: 0.0813\n",
      "Epoch 26/1000\n",
      "Restoring model weights from the end of the best epoch.\n",
      "Restoring model weights from the end of the best epoch.\n",
      "480/480 - 14s - loss: 0.0752 - val_loss: 0.0718\n",
      "Epoch 00026: early stopping\n",
      "Epoch 00026: early stopping\n"
     ]
    }
   ],
   "metadata": {}
  },
  {
   "cell_type": "markdown",
   "source": [
    "The early stopping will make sure the autoencoder will not overfit the training data. There are two ways to check the network performance. First, we can evaluate the loss function on test data, and expect it to be close to the loss value on the training data."
   ],
   "metadata": {}
  },
  {
   "cell_type": "code",
   "execution_count": 9,
   "source": [
    "enc_dec.evaluate(x_test,x_test,batch_size=1000)"
   ],
   "outputs": [
    {
     "output_type": "stream",
     "name": "stdout",
     "text": [
      "10/10 [==============================] - 1s 66ms/step - loss: 0.0706\n"
     ]
    },
    {
     "output_type": "execute_result",
     "data": {
      "text/plain": [
       "0.07061594724655151"
      ]
     },
     "metadata": {},
     "execution_count": 9
    }
   ],
   "metadata": {}
  },
  {
   "cell_type": "code",
   "execution_count": 10,
   "source": [
    "enc_dec.evaluate(x_train,x_train,batch_size=1000)"
   ],
   "outputs": [
    {
     "output_type": "stream",
     "name": "stdout",
     "text": [
      "60/60 [==============================] - 4s 72ms/step - loss: 0.0710\n"
     ]
    },
    {
     "output_type": "execute_result",
     "data": {
      "text/plain": [
       "0.0709829330444336"
      ]
     },
     "metadata": {},
     "execution_count": 10
    }
   ],
   "metadata": {}
  },
  {
   "cell_type": "markdown",
   "source": [
    "Values are very close for both data sets. The second method is to check the resulting reconstitution that we obtain for a random sample from the test data."
   ],
   "metadata": {}
  },
  {
   "cell_type": "code",
   "execution_count": 19,
   "source": [
    "random_label = np.random.randint(0,9999)\r\n",
    "img_sample = x_test[random_label,:,:].reshape((1,28,28,1))\r\n",
    "plt.subplot(1,2,1)\r\n",
    "plt.imshow(img_sample.reshape(28,28), cmap='gray');\r\n",
    "plt.title('Original image');\r\n",
    "pred_img = enc_dec.predict(img_sample) \r\n",
    "plt.subplot(1,2,2)\r\n",
    "plt.imshow(pred_img.reshape(28,28), cmap='gray');\r\n",
    "plt.title('Reconstructed image');"
   ],
   "outputs": [
    {
     "output_type": "display_data",
     "data": {
      "image/png": "[encoded data removed]",
      "text/plain": [
       "<Figure size 432x288 with 2 Axes>"
      ]
     },
     "metadata": {
      "needs_background": "light"
     }
    }
   ],
   "metadata": {}
  },
  {
   "cell_type": "markdown",
   "source": [
    "*A picture is worth a thousand words!* The reconstitution is very close to the original image."
   ],
   "metadata": {}
  },
  {
   "cell_type": "code",
   "execution_count": 12,
   "source": [
    "# save models\r\n",
    "encoder.save('encoder')\r\n",
    "decoder.save('decoder')"
   ],
   "outputs": [],
   "metadata": {}
  },
  {
   "cell_type": "code",
   "execution_count": 7,
   "source": [
    "# load models if already trained\r\n",
    "#encoder = keras.models.load_model('encoder') \r\n",
    "#decoder = keras.models.load_model('decoder') \r\n",
    "#enc_dec = Sequential([encoder,decoder])"
   ],
   "outputs": [],
   "metadata": {}
  },
  {
   "cell_type": "markdown",
   "source": [
    "Now that we have a trained encoder and decoder, let's focus on the *encoder*. For each image, the encoder generates a representation that captures the most \"interesting\" or \"important\" features. This representation is sufficient to reconstitute the image using the decoder. Here is the representation of the sample image we used earlier: "
   ],
   "metadata": {}
  },
  {
   "cell_type": "code",
   "execution_count": 20,
   "source": [
    "representation_sample = encoder.predict(img_sample)\r\n",
    "print(representation_sample) "
   ],
   "outputs": [
    {
     "output_type": "stream",
     "name": "stdout",
     "text": [
      "[[0.6130281  0.76459074 0.6310103  0.04438157 0.10678293 0.13682882\n",
      "  0.28006715 0.39419928 0.7018184  0.41447732 0.32862127 0.17540242\n",
      "  0.2009563  0.3483818  0.87368184 0.35199907 0.65021783 0.46785977\n",
      "  0.14121868 0.23320875 0.5732315  0.78764004 0.6864616  0.16232853\n",
      "  0.77741575 0.3470657  0.6527449  0.5624531  0.6275401  0.86655647\n",
      "  0.4702597  0.9197414  0.84741426 0.76422065 0.66112906 0.8598242\n",
      "  0.4149059  0.12067313 0.72827107 0.9057333  0.09169123 0.785913\n",
      "  0.15651442 0.8360928  0.1388307  0.18954395 0.61363137 0.4155853\n",
      "  0.3886866  0.3826588  0.10800058 0.92811954 0.16767563 0.13634066\n",
      "  0.6332908  0.80491865 0.3511647  0.19888486 0.07157111 0.8211692\n",
      "  0.24735563 0.33792862 0.75648785 0.4793063  0.3792692  0.32980424\n",
      "  0.89582556 0.4915181  0.29687124 0.62603694 0.4230361  0.35062855\n",
      "  0.51796675 0.631057   0.30978802 0.7018079  0.84298    0.37712884\n",
      "  0.6510555  0.90781754 0.53740066 0.26541686 0.10492547 0.28378004\n",
      "  0.514947   0.8901576  0.12974055 0.5410253  0.1769872  0.47479823\n",
      "  0.08268451 0.16334929 0.54698175 0.74747974 0.27949828 0.13411115\n",
      "  0.22839272 0.35881448 0.15508696 0.66591793]]\n"
     ]
    }
   ],
   "metadata": {}
  },
  {
   "cell_type": "markdown",
   "source": [
    "Using these 100 numbers, we generate a 28x28 image (784 pixels)."
   ],
   "metadata": {}
  },
  {
   "cell_type": "code",
   "execution_count": 21,
   "source": [
    "recons_image = decoder.predict(representation_sample)\r\n",
    "plt.imshow(recons_image.reshape(28,28), cmap='gray');"
   ],
   "outputs": [
    {
     "output_type": "display_data",
     "data": {
      "image/png": "[encoded data removed]",
      "text/plain": [
       "<Figure size 432x288 with 1 Axes>"
      ]
     },
     "metadata": {
      "needs_background": "light"
     }
    }
   ],
   "metadata": {}
  },
  {
   "cell_type": "markdown",
   "source": [
    "And here is where the *fun part* begins! using the lower-dimension representation, let's do some math."
   ],
   "metadata": {}
  },
  {
   "cell_type": "markdown",
   "source": [
    "# Learning arithmetic operations on handwritten digits"
   ],
   "metadata": {}
  },
  {
   "cell_type": "markdown",
   "source": [
    "The idea is simple. Using the representation of two images, we train a neural network to compute their sum, their product and to compare them. We will not provide the value of each digit, but we will provide the results during the training step.  \r\n",
    "We will be performing addition and multiplication between numbers in the range [0-9]. The results will be in the range [0-18] and [0-81] respectively. So the results will be coded using multiple outputs:  \r\n",
    "1- Sum **units**, multiclass output [0,1,2,3,4,5,6,7,8,9]  \r\n",
    "2- Sum **tens**, binary output [0,1]  \r\n",
    "3- Multiplication **units**, multiclass output [0,1,2,3,4,5,6,7,8,9]  \r\n",
    "4- Multiplication **tens**, multiclass output [0,1,2,3,4,5,6,7,8]  \r\n",
    "5- Comparison result, binary output [0,1]  \r\n",
    "\r\n",
    "\r\n",
    "<p align=\"center\"> <img src=\"https://i.imgur.com/E5unC7Y.png\"> </p> \r\n"
   ],
   "metadata": {}
  },
  {
   "cell_type": "markdown",
   "source": [
    "Using the functional API in *KERAS* we define the network architecture. First, we import the encoder *twice* and freeze its weights:"
   ],
   "metadata": {}
  },
  {
   "cell_type": "code",
   "execution_count": 15,
   "source": [
    "# duplicate encoders and freeze weights\r\n",
    "encoder1 = keras.models.load_model('encoder') \r\n",
    "encoder1._name = 'encoder1'\r\n",
    "encoder1.trainable = False\r\n",
    "\r\n",
    "encoder2 = keras.models.load_model('encoder')\r\n",
    "encoder2._name = 'encoder2'\r\n",
    "encoder2.trainable = False"
   ],
   "outputs": [],
   "metadata": {}
  },
  {
   "cell_type": "markdown",
   "source": [
    "Using the encoders outputs, we build the model:"
   ],
   "metadata": {}
  },
  {
   "cell_type": "code",
   "execution_count": 28,
   "source": [
    "# create model to learn it all\r\n",
    "input1 = Input(shape=image_dim)\r\n",
    "input2 = Input(shape=image_dim)\r\n",
    "enc1_out = encoder1(input1)\r\n",
    "enc2_out = encoder2(input2)\r\n",
    "model_c = Concatenate()([enc1_out,enc2_out])\r\n",
    "model_c = Dense(1000,activation='relu')(model_c)\r\n",
    "\r\n",
    "model_b1 = Dense(200,activation='relu')(model_c)\r\n",
    "model_b2 = Dense(200,activation='relu')(model_c)\r\n",
    "model_b3 = Dense(200,activation='relu')(model_c)\r\n",
    "model_b4 = Dense(200,activation='relu')(model_c)\r\n",
    "model_b5 = Dense(200,activation='relu')(model_c)\r\n",
    "\r\n",
    "\r\n",
    "\r\n",
    "units_add =  Dense(10,activation='softmax',name ='units_add')(model_b1)\r\n",
    "tens_add = Dense(1,activation='sigmoid',name ='tens_add')(model_b2)\r\n",
    "\r\n",
    "units_mult =  Dense(10,activation='softmax',name ='units_mult')(model_b3)\r\n",
    "tens_mult = Dense(9,activation='softmax',name ='tens_mult')(model_b4)\r\n",
    "\r\n",
    "comp =  Dense(1,activation='sigmoid',name ='comp')(model_b5)\r\n",
    "\r\n",
    "\r\n",
    "\r\n",
    "model_complete = Model(inputs=[input1,input2],outputs=[units_add,tens_add,units_mult,tens_mult,comp])\r\n",
    "\r\n",
    "model_complete.compile(optimizer='nadam', loss = ['categorical_crossentropy','binary_crossentropy','categorical_crossentropy','categorical_crossentropy','binary_crossentropy'], metrics=['acc'])"
   ],
   "outputs": [],
   "metadata": {}
  },
  {
   "cell_type": "markdown",
   "source": [
    "This model has two inputs (the two handwritten digits images) and five outputs (units and tens of the sum and product plus the comparsion result). We will use two different losses due to the nature of the outputs. Note that there is a common hidden layer of 1000 units, and then five branches (one for each output).  \r\n",
    "We need to create datasets to train and test our model. Inputs will be random combinations of handwritten digits. Outputs will be the expected results for each combination. "
   ],
   "metadata": {}
  },
  {
   "cell_type": "code",
   "execution_count": 29,
   "source": [
    "# generate a dataset for additions\r\n",
    "train_size = 1000000\r\n",
    "random_labels1 = np.random.randint(0,25000,train_size)\r\n",
    "random_labels2 = np.random.randint(0,25000,train_size)\r\n",
    "\r\n",
    "x_train_1 = x_train[random_labels1]\r\n",
    "x_train_2 = x_train[random_labels2]\r\n",
    "\r\n",
    "y_train_1 = y_train[random_labels1]\r\n",
    "y_train_2 = y_train[random_labels2]\r\n",
    "\r\n",
    "y_add = y_train_1 + y_train_2\r\n",
    "y_add_tens = y_add //10 \r\n",
    "y_add_units = y_add %10 \r\n",
    "y_add_units_cat = to_categorical(y_add_units)\r\n",
    "\r\n",
    "\r\n",
    "# the same with x_test\r\n",
    "test_size = 5000\r\n",
    "random_labels1 = np.random.randint(0,10000,test_size)\r\n",
    "random_labels2 = np.random.randint(0,10000,test_size)\r\n",
    "\r\n",
    "x_test_1 = x_test[random_labels1]\r\n",
    "x_test_2 = x_test[random_labels2]\r\n",
    "\r\n",
    "y_test_1 = y_test[random_labels1]\r\n",
    "y_test_2 = y_test[random_labels2]\r\n",
    "\r\n",
    "y_test_add = y_test_1 + y_test_2\r\n",
    "y_test_add_tens = y_test_add //10 \r\n",
    "y_test_add_units = y_test_add %10 \r\n",
    "y_test_add_units_cat = to_categorical(y_test_add_units)\r\n",
    "\r\n",
    "# generate a dataset for multiplication\r\n",
    "\r\n",
    "y_mult = y_train_1 * y_train_2\r\n",
    "y_mult_tens = y_mult //10 \r\n",
    "y_mult_units = y_mult %10 \r\n",
    "y_mult_units_cat = to_categorical(y_mult_units)\r\n",
    "y_mult_tens_cat = to_categorical(y_mult_tens)\r\n",
    "\r\n",
    "# the same with x_test\r\n",
    "\r\n",
    "y_test_mult = y_test_1 * y_test_2\r\n",
    "y_test_mult_tens = y_test_mult //10 \r\n",
    "y_test_mult_units = y_test_mult %10 \r\n",
    "y_test_mult_units_cat = to_categorical(y_test_mult_units)\r\n",
    "y_test_mult_tens_cat = to_categorical(y_test_mult_tens)\r\n",
    "\r\n",
    "# generate a dataset for comparison\r\n",
    "y_comp = y_train_1 > y_train_2\r\n",
    "\r\n",
    "# the same with x_test\r\n",
    "y_test_comp = y_test_1 > y_test_2"
   ],
   "outputs": [],
   "metadata": {}
  },
  {
   "cell_type": "markdown",
   "source": [
    "Now we are ready to train our model! "
   ],
   "metadata": {}
  },
  {
   "cell_type": "code",
   "execution_count": 30,
   "source": [
    "history = model_complete.fit([x_train_1,x_train_2],[y_add_units_cat,y_add_tens,y_mult_units_cat,y_mult_tens_cat,y_comp], batch_size=1000,epochs=1000,validation_split=0.2, verbose=1,callbacks=[es,es,es,es,es,es])"
   ],
   "outputs": [
    {
     "output_type": "stream",
     "name": "stdout",
     "text": [
      "Epoch 1/1000\n",
      "800/800 [==============================] - 87s 108ms/step - loss: 3.0021 - units_add_loss: 0.9774 - tens_add_loss: 0.2878 - units_mult_loss: 0.7837 - tens_mult_loss: 0.6782 - comp_loss: 0.2750 - units_add_acc: 0.6821 - tens_add_acc: 0.8709 - units_mult_acc: 0.7364 - tens_mult_acc: 0.7621 - comp_acc: 0.8787 - val_loss: 1.4618 - val_units_add_loss: 0.4590 - val_tens_add_loss: 0.1448 - val_units_mult_loss: 0.3579 - val_tens_mult_loss: 0.3241 - val_comp_loss: 0.1760 - val_units_add_acc: 0.8583 - val_tens_add_acc: 0.9457 - val_units_mult_acc: 0.8872 - val_tens_mult_acc: 0.8933 - val_comp_acc: 0.9290\n",
      "Epoch 2/1000\n",
      "800/800 [==============================] - 62s 77ms/step - loss: 0.9609 - units_add_loss: 0.3048 - tens_add_loss: 0.1016 - units_mult_loss: 0.2396 - tens_mult_loss: 0.2169 - comp_loss: 0.0980 - units_add_acc: 0.9079 - tens_add_acc: 0.9636 - units_mult_acc: 0.9261 - tens_mult_acc: 0.9308 - comp_acc: 0.9647 - val_loss: 0.6533 - val_units_add_loss: 0.2059 - val_tens_add_loss: 0.0712 - val_units_mult_loss: 0.1609 - val_tens_mult_loss: 0.1499 - val_comp_loss: 0.0655 - val_units_add_acc: 0.9388 - val_tens_add_acc: 0.9760 - val_units_mult_acc: 0.9516 - val_tens_mult_acc: 0.9534 - val_comp_acc: 0.9774\n",
      "Epoch 3/1000\n",
      "800/800 [==============================] - 62s 77ms/step - loss: 0.4979 - units_add_loss: 0.1546 - tens_add_loss: 0.0550 - units_mult_loss: 0.1218 - tens_mult_loss: 0.1133 - comp_loss: 0.0532 - units_add_acc: 0.9539 - tens_add_acc: 0.9811 - units_mult_acc: 0.9629 - tens_mult_acc: 0.9645 - comp_acc: 0.9817 - val_loss: 0.3717 - val_units_add_loss: 0.1145 - val_tens_add_loss: 0.0418 - val_units_mult_loss: 0.0900 - val_tens_mult_loss: 0.0848 - val_comp_loss: 0.0407 - val_units_add_acc: 0.9665 - val_tens_add_acc: 0.9858 - val_units_mult_acc: 0.9727 - val_tens_mult_acc: 0.9738 - val_comp_acc: 0.9863\n",
      "Epoch 4/1000\n",
      "800/800 [==============================] - 62s 77ms/step - loss: 0.2767 - units_add_loss: 0.0827 - tens_add_loss: 0.0325 - units_mult_loss: 0.0665 - tens_mult_loss: 0.0635 - comp_loss: 0.0315 - units_add_acc: 0.9759 - tens_add_acc: 0.9892 - units_mult_acc: 0.9801 - tens_mult_acc: 0.9805 - comp_acc: 0.9897 - val_loss: 0.2249 - val_units_add_loss: 0.0658 - val_tens_add_loss: 0.0277 - val_units_mult_loss: 0.0535 - val_tens_mult_loss: 0.0522 - val_comp_loss: 0.0256 - val_units_add_acc: 0.9811 - val_tens_add_acc: 0.9909 - val_units_mult_acc: 0.9838 - val_tens_mult_acc: 0.9841 - val_comp_acc: 0.9913\n",
      "Epoch 5/1000\n",
      "800/800 [==============================] - 62s 78ms/step - loss: 0.1507 - units_add_loss: 0.0426 - tens_add_loss: 0.0192 - units_mult_loss: 0.0351 - tens_mult_loss: 0.0352 - comp_loss: 0.0186 - units_add_acc: 0.9884 - tens_add_acc: 0.9940 - units_mult_acc: 0.9902 - tens_mult_acc: 0.9899 - comp_acc: 0.9942 - val_loss: 0.1324 - val_units_add_loss: 0.0367 - val_tens_add_loss: 0.0173 - val_units_mult_loss: 0.0308 - val_tens_mult_loss: 0.0314 - val_comp_loss: 0.0163 - val_units_add_acc: 0.9895 - val_tens_add_acc: 0.9944 - val_units_mult_acc: 0.9912 - val_tens_mult_acc: 0.9906 - val_comp_acc: 0.9948\n",
      "Epoch 6/1000\n",
      "800/800 [==============================] - 62s 77ms/step - loss: 0.0796 - units_add_loss: 0.0208 - tens_add_loss: 0.0111 - units_mult_loss: 0.0180 - tens_mult_loss: 0.0189 - comp_loss: 0.0107 - units_add_acc: 0.9952 - tens_add_acc: 0.9968 - units_mult_acc: 0.9956 - tens_mult_acc: 0.9952 - comp_acc: 0.9970 - val_loss: 0.0738 - val_units_add_loss: 0.0188 - val_tens_add_loss: 0.0108 - val_units_mult_loss: 0.0165 - val_tens_mult_loss: 0.0177 - val_comp_loss: 0.0100 - val_units_add_acc: 0.9952 - val_tens_add_acc: 0.9966 - val_units_mult_acc: 0.9956 - val_tens_mult_acc: 0.9950 - val_comp_acc: 0.9971\n",
      "Epoch 7/1000\n",
      "800/800 [==============================] - ETA: 0s - loss: 0.0878 - units_add_loss: 0.0203 - tens_add_loss: 0.0147 - units_mult_loss: 0.0169 - tens_mult_loss: 0.0266 - comp_loss: 0.0093 - units_add_acc: 0.9972 - tens_add_acc: 0.9976 - units_mult_acc: 0.9974 - tens_mult_acc: 0.9970 - comp_acc: 0.9980Restoring model weights from the end of the best epoch.\n",
      "Restoring model weights from the end of the best epoch.\n",
      "800/800 [==============================] - 62s 78ms/step - loss: 0.0878 - units_add_loss: 0.0203 - tens_add_loss: 0.0147 - units_mult_loss: 0.0169 - tens_mult_loss: 0.0266 - comp_loss: 0.0093 - units_add_acc: 0.9972 - tens_add_acc: 0.9976 - units_mult_acc: 0.9974 - tens_mult_acc: 0.9970 - comp_acc: 0.9980 - val_loss: 146.7526 - val_units_add_loss: 18.1009 - val_tens_add_loss: 55.4046 - val_units_mult_loss: 19.4146 - val_tens_mult_loss: 51.7461 - val_comp_loss: 2.0863 - val_units_add_acc: 0.1281 - val_tens_add_acc: 0.4388 - val_units_mult_acc: 0.1431 - val_tens_mult_acc: 0.1329 - val_comp_acc: 0.6834\n",
      "Epoch 00007: early stopping\n",
      "Epoch 00007: early stopping\n",
      "Epoch 00007: early stopping\n",
      "Epoch 00007: early stopping\n",
      "Epoch 00007: early stopping\n",
      "Epoch 00007: early stopping\n"
     ]
    }
   ],
   "metadata": {}
  },
  {
   "cell_type": "markdown",
   "source": [
    "At the end of the training, the accuracy on all outputs is pretty good (9x%). Let's see first how the model performs on the test data."
   ],
   "metadata": {}
  },
  {
   "cell_type": "code",
   "execution_count": 31,
   "source": [
    "test = model_complete.evaluate([x_test_1,x_test_2],[y_test_add_units_cat,y_test_add_tens,y_test_mult_units_cat,y_test_mult_tens_cat,y_test_comp], batch_size=100)"
   ],
   "outputs": [
    {
     "output_type": "stream",
     "name": "stdout",
     "text": [
      "50/50 [==============================] - 1s 13ms/step - loss: 0.5376 - units_add_loss: 0.1653 - tens_add_loss: 0.0632 - units_mult_loss: 0.1330 - tens_mult_loss: 0.1072 - comp_loss: 0.0688 - units_add_acc: 0.9536 - tens_add_acc: 0.9800 - units_mult_acc: 0.9626 - tens_mult_acc: 0.9678 - comp_acc: 0.9802\n"
     ]
    }
   ],
   "metadata": {}
  },
  {
   "cell_type": "markdown",
   "source": [
    "Results are still in the 95+% range. Let's show a random sample of the model predictions."
   ],
   "metadata": {}
  },
  {
   "cell_type": "code",
   "execution_count": 37,
   "source": [
    "random_index_1 = np.random.randint(0,9999)\r\n",
    "random_index_2 = np.random.randint(0,9999)\r\n",
    "\r\n",
    "img_sample1 = x_test[random_index_1,:,:].reshape((1,28,28,1))\r\n",
    "img_sample2 = x_test[random_index_2,:,:].reshape((1,28,28,1))\r\n",
    "\r\n",
    "plt.subplot(1,2,1)\r\n",
    "plt.imshow(img_sample1.reshape(28,28), cmap='gray');\r\n",
    "\r\n",
    "plt.subplot(1,2,2)\r\n",
    "plt.imshow(img_sample2.reshape(28,28), cmap='gray');\r\n",
    "\r\n",
    "prediction = model_complete.predict([img_sample1,img_sample2])\r\n",
    "unit_add = prediction[0]\r\n",
    "ten_add = prediction[1]\r\n",
    "unit_mult = prediction[2]\r\n",
    "ten_mult = prediction[3]\r\n",
    "comp_images = prediction[4]\r\n",
    "\r\n",
    "sum_images = np.argmax(unit_add)+10*np.round(ten_add)\r\n",
    "print('sum =',sum_images)\r\n",
    "\r\n",
    "\r\n",
    "mult_images = np.argmax(unit_mult)+10*np.argmax(ten_mult)\r\n",
    "print('product =',mult_images)\r\n",
    "\r\n",
    "print('comparison result =',np.round(comp_images),'(1 if the number on the left is greater, 0 elsewhere)')"
   ],
   "outputs": [
    {
     "output_type": "stream",
     "name": "stdout",
     "text": [
      "sum = [[10.]]\n",
      "product = 16\n",
      "comparison result = [[0.]] (1 if the number on the left is greater, 0 elsewhere)\n"
     ]
    },
    {
     "output_type": "display_data",
     "data": {
      "image/png": "[encoded data removed]",
      "text/plain": [
       "<Figure size 432x288 with 2 Axes>"
      ]
     },
     "metadata": {
      "needs_background": "light"
     }
    }
   ],
   "metadata": {}
  },
  {
   "cell_type": "markdown",
   "source": [
    "We could improve the accuracy by training the model on more random samples (increase `train_size` value) or tweak the model architecture. With that being said, we managed to build a neural network that is capable of solving basic arithmetic operations on handwritten digits *without* explicitly computing their values."
   ],
   "metadata": {}
  },
  {
   "cell_type": "code",
   "execution_count": 33,
   "source": [
    "# save the model\r\n",
    "model_complete.save('model_complete')"
   ],
   "outputs": [],
   "metadata": {}
  },
  {
   "cell_type": "markdown",
   "source": [
    "# Conclusion and future work"
   ],
   "metadata": {}
  },
  {
   "cell_type": "markdown",
   "source": [
    "In this post, we designed an autoencoder that we trained on MNIST images. A neural network, based on the autoencoder was trained to perform arithmetic operations. During the autoencoder training, the **encoder** learns the most important features of the images, in order to reconstruct them later via the **decoder**. These features can be used in further operations (usually using dense or recurrent layers). We achieved more than 95% accuracy on all outputs.  \r\n",
    "\r\n",
    "Autoencoders are part of unsupervised learning. We are still scratching the surface of these amazing machine learning techniques. I will continue to explore this area, especially using recurrent neural networks and their applications in natural language processing and time series.  "
   ],
   "metadata": {}
  },
  {
   "cell_type": "markdown",
   "source": [
    "# References"
   ],
   "metadata": {}
  },
  {
   "cell_type": "markdown",
   "source": [
    "The notebook [https://jovian.ai/kara-mounir/mnist-autoencoder]  \r\n",
    "\r\n",
    "Machine learning mastery blog by Jason Brownlee [https://machinelearningmastery.com]  \r\n",
    "\r\n",
    "My Github [https://github.com/zaitrik]  \r\n",
    "\r\n",
    "My LinkedIn [https://www.linkedin.com/in/mounir-kara-zaitri-a01a00208/]"
   ],
   "metadata": {}
  },
  {
   "cell_type": "markdown",
   "source": [],
   "metadata": {}
  }
 ],
 "metadata": {
  "orig_nbformat": 4,
  "language_info": {
   "name": "python",
   "version": "3.7.9",
   "mimetype": "text/x-python",
   "codemirror_mode": {
    "name": "ipython",
    "version": 3
   },
   "pygments_lexer": "ipython3",
   "nbconvert_exporter": "python",
   "file_extension": ".py"
  },
  "kernelspec": {
   "name": "python3",
   "display_name": "Python 3.7.9 64-bit"
  },
  "interpreter": {
   "hash": "684b1123683431d89d3bfe9a89cc763215f4b8cd94b4aba1fb40ad45ff7c8b41"
  }
 },
 "nbformat": 4,
 "nbformat_minor": 2
}