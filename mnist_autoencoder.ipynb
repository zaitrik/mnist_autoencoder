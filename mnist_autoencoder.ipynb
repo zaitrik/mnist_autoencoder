{
 "cells": [
  {
   "cell_type": "markdown",
   "source": [
    "# This is how a neural network learns to add, multiply and compare handwritten digits Without knowing their values "
   ],
   "metadata": {}
  },
  {
   "cell_type": "markdown",
   "source": [
    "<p align=\"center\"> <img src=\"https://i.dlpng.com/static/png/6906777_preview.png\"> </p>   "
   ],
   "metadata": {}
  },
  {
   "cell_type": "markdown",
   "source": [
    "I described in a [previous post](https://blog.jovian.ai/how-to-train-supervised-machine-learning-algorithms-without-labeled-data-6ebddc01a00f), how useful are autoencoders in  automated labeling. The main property of these networks is their ability to learn features/patterns in the data. This is in fact not specific to autoencoders and can be implemented using other unsupervised techniques, mainly **PCA**.  \r\n",
    "The ability to detect and learn features in data can be used in other areas.  \r\n",
    "\r\n",
    "In this post, I will present some applications of convolutional autoencoders:  \r\n",
    "- First, a convolutional autoencoder will be trained on **MNIST** data.\r\n",
    "- After the training of the encoder and decoder, we will freeze their weights and use them with additional dense layers to \"learn\" arithmetic operations, namely addition, multiplication and comparison.  \r\n",
    "The trick is to *never* explicitly associate the handwritten digits in **MNIST** dataset with their respective labels. We will see that the neural networks will be nevertheless able to reach 97+% accuracy in all cases on unseen data.\r\n",
    "\r\n",
    "The first step is described in the following diagram:\r\n",
    "<p align=\"center\"> <img src=\"https://i.imgur.com/chLUEdp.png\"> </p>   "
   ],
   "metadata": {}
  },
  {
   "cell_type": "markdown",
   "source": [
    "In the second step, we will use the encoder in series with dense layers to perform arithmetic operations: addition, multiplication and comparison. We will train only the dense layer weights, and supply the results of the operations as labels. note that we will not supply the digits values (labels).\r\n",
    "\r\n",
    "<p align=\"center\"> <img src=\"https://i.imgur.com/s8U8up4.png\"> </p> \r\n"
   ],
   "metadata": {}
  },
  {
   "cell_type": "markdown",
   "source": [
    "# Training an autoencoder on MNIST data"
   ],
   "metadata": {}
  },
  {
   "cell_type": "markdown",
   "source": [
    "Similar to the previous article, we will use MNIST data in this experiment. The autoencoder will learn the handwritten digits features using 60000 training samples. We import MNIST using *KERAS* library."
   ],
   "metadata": {}
  },
  {
   "cell_type": "code",
   "execution_count": 33,
   "source": [
    "#import libraries and setup \r\n",
    "import keras\r\n",
    "import numpy as np\r\n",
    "import matplotlib.pyplot as plt\r\n",
    "%matplotlib inline\r\n",
    "import logging\r\n",
    "logging.getLogger('tensorflow').disabled = True\r\n",
    "from keras.models import Sequential, Model\r\n",
    "from keras.layers import Dense, Conv2D, Flatten, MaxPooling2D, UpSampling2D, Reshape, Concatenate, Input\r\n",
    "from keras.callbacks import EarlyStopping\r\n",
    "from keras.utils.vis_utils import plot_model\r\n",
    "from tensorflow.keras.utils import to_categorical\r\n",
    "es = EarlyStopping(monitor='val_loss', mode='min', verbose=2, patience=10, restore_best_weights=True)"
   ],
   "outputs": [],
   "metadata": {}
  },
  {
   "cell_type": "code",
   "execution_count": 4,
   "source": [
    "# import mnist\r\n",
    "(x_train, y_train), (x_test, y_test) = keras.datasets.mnist.load_data()\r\n",
    "print(x_train.shape,y_train.shape)"
   ],
   "outputs": [
    {
     "output_type": "stream",
     "name": "stdout",
     "text": [
      "(60000, 28, 28) (60000,)\n"
     ]
    }
   ],
   "metadata": {}
  },
  {
   "cell_type": "markdown",
   "source": [
    "We scale the data in the range `[0,1]` and reshape it to *KERAS* format for pictures (nbr_samples x width x height x channels) "
   ],
   "metadata": {}
  },
  {
   "cell_type": "code",
   "execution_count": 5,
   "source": [
    "#normalize data\r\n",
    "if x_train.max() >1:\r\n",
    "    x_train = x_train / 255\r\n",
    "    x_test = x_test / 255\r\n",
    "\r\n",
    "default_shape = x_train.shape\r\n",
    "#reshape input data to 1 channel\r\n",
    "x_train = x_train.reshape(-1,default_shape[1],default_shape[2],1)\r\n",
    "x_test = x_test.reshape(-1,default_shape[1],default_shape[2],1)\r\n",
    "image_dim = x_train.shape[1:]"
   ],
   "outputs": [],
   "metadata": {}
  },
  {
   "cell_type": "markdown",
   "source": [
    "We will implement a similar autoencoder architecture as in [[1]](https://blog.jovian.ai/how-to-train-supervised-machine-learning-algorithms-without-labeled-data-6ebddc01a00f). It is based on a series of convolutional layers, that will gradually encode the 28x28 image (784 pixel) into a 100 elements array, and decode that representation back to the original format. The resulting image -after the training step- will hopefully resemble to the original one."
   ],
   "metadata": {}
  },
  {
   "cell_type": "code",
   "execution_count": 12,
   "source": [
    "# create an autoencoder / decoder \r\n",
    "encoder = Sequential()\r\n",
    "encoder.add(Conv2D(32,kernel_size=(3,3), strides=(1,1),padding='same', activation='selu',input_shape=image_dim))\r\n",
    "encoder.add(MaxPooling2D(2,2))\r\n",
    "encoder.add(Conv2D(64,kernel_size=(3,3), strides=(1,1),padding='same',activation='selu'))\r\n",
    "encoder.add(MaxPooling2D(2,2))\r\n",
    "encoder.add(Conv2D(128,kernel_size=(3,3), strides=(1,1),padding='same',activation='selu'))\r\n",
    "encoder.add(Flatten())\r\n",
    "encoder.add(Dense(100,activation='sigmoid'))\r\n",
    "encoder.summary()"
   ],
   "outputs": [
    {
     "output_type": "stream",
     "name": "stdout",
     "text": [
      "Model: \"sequential_3\"\n",
      "_________________________________________________________________\n",
      "Layer (type)                 Output Shape              Param #   \n",
      "=================================================================\n",
      "conv2d_6 (Conv2D)            (None, 28, 28, 32)        320       \n",
      "_________________________________________________________________\n",
      "max_pooling2d_2 (MaxPooling2 (None, 14, 14, 32)        0         \n",
      "_________________________________________________________________\n",
      "conv2d_7 (Conv2D)            (None, 14, 14, 64)        18496     \n",
      "_________________________________________________________________\n",
      "max_pooling2d_3 (MaxPooling2 (None, 7, 7, 64)          0         \n",
      "_________________________________________________________________\n",
      "conv2d_8 (Conv2D)            (None, 7, 7, 128)         73856     \n",
      "_________________________________________________________________\n",
      "flatten_1 (Flatten)          (None, 6272)              0         \n",
      "_________________________________________________________________\n",
      "dense_2 (Dense)              (None, 100)               627300    \n",
      "=================================================================\n",
      "Total params: 719,972\n",
      "Trainable params: 719,972\n",
      "Non-trainable params: 0\n",
      "_________________________________________________________________\n"
     ]
    }
   ],
   "metadata": {}
  },
  {
   "cell_type": "code",
   "execution_count": 13,
   "source": [
    "encoder_out_dim = encoder.layers[-1].output_shape[1:] # dimension of the encoder output"
   ],
   "outputs": [],
   "metadata": {}
  },
  {
   "cell_type": "code",
   "execution_count": 14,
   "source": [
    "decoder = Sequential()\r\n",
    "decoder.add(Dense(6272, activation='sigmoid', input_shape=encoder_out_dim))\r\n",
    "decoder.add(Reshape(( 7, 7, 128)))\r\n",
    "decoder.add(Conv2D(128,kernel_size=(3,3), strides=(1,1),padding='same', activation='selu'))\r\n",
    "decoder.add(UpSampling2D((2,2)))\r\n",
    "decoder.add(Conv2D(64,kernel_size=(3,3), strides=(1,1),padding='same', activation='selu'))\r\n",
    "decoder.add(UpSampling2D((2,2)))\r\n",
    "decoder.add(Conv2D(1,kernel_size=(3,3), strides=(1,1),padding='same', activation='sigmoid'))\r\n",
    "\r\n",
    "decoder.summary()"
   ],
   "outputs": [
    {
     "output_type": "stream",
     "name": "stdout",
     "text": [
      "Model: \"sequential_4\"\n",
      "_________________________________________________________________\n",
      "Layer (type)                 Output Shape              Param #   \n",
      "=================================================================\n",
      "dense_3 (Dense)              (None, 6272)              633472    \n",
      "_________________________________________________________________\n",
      "reshape_1 (Reshape)          (None, 7, 7, 128)         0         \n",
      "_________________________________________________________________\n",
      "conv2d_9 (Conv2D)            (None, 7, 7, 128)         147584    \n",
      "_________________________________________________________________\n",
      "up_sampling2d_2 (UpSampling2 (None, 14, 14, 128)       0         \n",
      "_________________________________________________________________\n",
      "conv2d_10 (Conv2D)           (None, 14, 14, 64)        73792     \n",
      "_________________________________________________________________\n",
      "up_sampling2d_3 (UpSampling2 (None, 28, 28, 64)        0         \n",
      "_________________________________________________________________\n",
      "conv2d_11 (Conv2D)           (None, 28, 28, 1)         577       \n",
      "=================================================================\n",
      "Total params: 855,425\n",
      "Trainable params: 855,425\n",
      "Non-trainable params: 0\n",
      "_________________________________________________________________\n"
     ]
    }
   ],
   "metadata": {}
  },
  {
   "cell_type": "markdown",
   "source": [
    "The autoencoder is created using the encoder and the decoder:"
   ],
   "metadata": {}
  },
  {
   "cell_type": "code",
   "execution_count": 17,
   "source": [
    "enc_dec = Sequential([encoder,decoder])\r\n",
    "enc_dec.summary()"
   ],
   "outputs": [
    {
     "output_type": "stream",
     "name": "stdout",
     "text": [
      "Model: \"sequential_6\"\n",
      "_________________________________________________________________\n",
      "Layer (type)                 Output Shape              Param #   \n",
      "=================================================================\n",
      "sequential_3 (Sequential)    (None, 100)               719972    \n",
      "_________________________________________________________________\n",
      "sequential_4 (Sequential)    (None, 28, 28, 1)         855425    \n",
      "=================================================================\n",
      "Total params: 1,575,397\n",
      "Trainable params: 1,575,397\n",
      "Non-trainable params: 0\n",
      "_________________________________________________________________\n"
     ]
    }
   ],
   "metadata": {}
  },
  {
   "cell_type": "markdown",
   "source": [
    "It will be trained as a set of binary classifiers for each pixel."
   ],
   "metadata": {}
  },
  {
   "cell_type": "code",
   "execution_count": 18,
   "source": [
    "enc_dec.compile(optimizer='nadam', loss = 'binary_crossentropy')\r\n",
    "history = enc_dec.fit(x_train,x_train, batch_size=1000,epochs=1000,validation_split=0.2, verbose=2,callbacks=[es,es])"
   ],
   "outputs": [
    {
     "output_type": "stream",
     "name": "stdout",
     "text": [
      "Epoch 1/1000\n",
      "48/48 - 10s - loss: 0.3642 - val_loss: 0.2719\n",
      "Epoch 2/1000\n",
      "48/48 - 10s - loss: 0.2715 - val_loss: 0.2730\n",
      "Epoch 3/1000\n",
      "48/48 - 10s - loss: 0.2666 - val_loss: 0.2650\n",
      "Epoch 4/1000\n",
      "48/48 - 10s - loss: 0.2644 - val_loss: 0.2637\n",
      "Epoch 5/1000\n",
      "48/48 - 10s - loss: 0.2393 - val_loss: 0.2135\n",
      "Epoch 6/1000\n",
      "48/48 - 10s - loss: 0.1882 - val_loss: 0.1649\n",
      "Epoch 7/1000\n",
      "48/48 - 10s - loss: 0.1552 - val_loss: 0.1430\n",
      "Epoch 8/1000\n",
      "48/48 - 10s - loss: 0.1366 - val_loss: 0.1323\n",
      "Epoch 9/1000\n",
      "48/48 - 10s - loss: 0.1287 - val_loss: 0.1562\n",
      "Epoch 10/1000\n",
      "48/48 - 10s - loss: 0.4014 - val_loss: 0.1864\n",
      "Epoch 11/1000\n",
      "48/48 - 10s - loss: 0.1611 - val_loss: 0.1513\n",
      "Epoch 12/1000\n",
      "48/48 - 10s - loss: 0.1406 - val_loss: 0.1345\n",
      "Epoch 13/1000\n",
      "48/48 - 10s - loss: 0.1305 - val_loss: 0.1288\n",
      "Epoch 14/1000\n",
      "48/48 - 10s - loss: 0.1241 - val_loss: 0.1244\n",
      "Epoch 15/1000\n",
      "48/48 - 10s - loss: 0.1191 - val_loss: 0.1170\n",
      "Epoch 16/1000\n",
      "48/48 - 10s - loss: 0.1144 - val_loss: 0.1148\n",
      "Epoch 17/1000\n",
      "48/48 - 10s - loss: 0.1115 - val_loss: 0.1119\n",
      "Epoch 18/1000\n",
      "48/48 - 10s - loss: 0.1080 - val_loss: 0.1101\n",
      "Epoch 19/1000\n",
      "48/48 - 10s - loss: 0.1057 - val_loss: 0.1017\n",
      "Epoch 20/1000\n",
      "48/48 - 10s - loss: 0.1032 - val_loss: 0.1022\n",
      "Epoch 21/1000\n",
      "48/48 - 10s - loss: 0.1015 - val_loss: 0.0989\n",
      "Epoch 22/1000\n",
      "48/48 - 10s - loss: 0.0985 - val_loss: 0.1025\n",
      "Epoch 23/1000\n",
      "48/48 - 10s - loss: 0.0978 - val_loss: 0.0964\n",
      "Epoch 24/1000\n",
      "48/48 - 10s - loss: 0.0959 - val_loss: 0.0985\n",
      "Epoch 25/1000\n",
      "48/48 - 10s - loss: 0.0953 - val_loss: 0.0922\n",
      "Epoch 26/1000\n",
      "48/48 - 10s - loss: 0.0933 - val_loss: 0.0932\n",
      "Epoch 27/1000\n",
      "48/48 - 10s - loss: 0.0923 - val_loss: 0.0908\n",
      "Epoch 28/1000\n",
      "48/48 - 10s - loss: 0.0911 - val_loss: 0.0962\n",
      "Epoch 29/1000\n",
      "48/48 - 10s - loss: 0.0905 - val_loss: 0.0920\n",
      "Epoch 30/1000\n",
      "48/48 - 10s - loss: 0.0894 - val_loss: 0.0876\n",
      "Epoch 31/1000\n",
      "48/48 - 10s - loss: 0.0890 - val_loss: 0.0875\n",
      "Epoch 32/1000\n",
      "48/48 - 10s - loss: 0.0874 - val_loss: 0.0864\n",
      "Epoch 33/1000\n",
      "48/48 - 10s - loss: 0.0877 - val_loss: 0.0858\n",
      "Epoch 34/1000\n",
      "48/48 - 10s - loss: 0.0860 - val_loss: 0.0877\n",
      "Epoch 35/1000\n",
      "48/48 - 10s - loss: 0.0861 - val_loss: 0.0889\n",
      "Epoch 36/1000\n",
      "48/48 - 10s - loss: 0.0853 - val_loss: 0.0860\n",
      "Epoch 37/1000\n",
      "48/48 - 10s - loss: 0.0842 - val_loss: 0.0842\n",
      "Epoch 38/1000\n",
      "48/48 - 10s - loss: 0.0848 - val_loss: 0.0864\n",
      "Epoch 39/1000\n",
      "48/48 - 10s - loss: 0.0835 - val_loss: 0.0853\n",
      "Epoch 40/1000\n",
      "48/48 - 10s - loss: 0.0835 - val_loss: 0.0821\n",
      "Epoch 41/1000\n",
      "48/48 - 10s - loss: 0.0829 - val_loss: 0.0830\n",
      "Epoch 42/1000\n",
      "48/48 - 10s - loss: 0.0824 - val_loss: 0.0834\n",
      "Epoch 43/1000\n",
      "48/48 - 10s - loss: 0.0819 - val_loss: 0.0829\n",
      "Epoch 44/1000\n",
      "48/48 - 10s - loss: 0.0815 - val_loss: 0.0815\n",
      "Epoch 45/1000\n",
      "48/48 - 10s - loss: 0.0812 - val_loss: 0.0830\n",
      "Epoch 46/1000\n",
      "48/48 - 10s - loss: 0.1027 - val_loss: 0.3337\n",
      "Epoch 47/1000\n",
      "48/48 - 10s - loss: 0.1360 - val_loss: 0.1045\n",
      "Epoch 48/1000\n",
      "48/48 - 10s - loss: 0.1002 - val_loss: 0.0904\n",
      "Epoch 49/1000\n",
      "Restoring model weights from the end of the best epoch.\n",
      "Restoring model weights from the end of the best epoch.\n",
      "48/48 - 10s - loss: 0.0933 - val_loss: 0.0945\n",
      "Epoch 00049: early stopping\n",
      "Epoch 00049: early stopping\n"
     ]
    },
    {
     "output_type": "execute_result",
     "data": {
      "text/plain": [
       "<tensorflow.python.keras.callbacks.History at 0x1a02de33b48>"
      ]
     },
     "metadata": {},
     "execution_count": 18
    }
   ],
   "metadata": {}
  },
  {
   "cell_type": "markdown",
   "source": [
    "The early stopping will make sure the autoencoder will not overfit the training data. There are two ways to verify the network. First, we can evaluate the loss function on test data, and expect it to be close to the loss value on the training data."
   ],
   "metadata": {}
  },
  {
   "cell_type": "code",
   "execution_count": 21,
   "source": [
    "enc_dec.evaluate(x_test,x_test,batch_size=1000)"
   ],
   "outputs": [
    {
     "output_type": "stream",
     "name": "stdout",
     "text": [
      "10/10 [==============================] - 1s 75ms/step - loss: 0.0801\n"
     ]
    },
    {
     "output_type": "execute_result",
     "data": {
      "text/plain": [
       "0.08007277548313141"
      ]
     },
     "metadata": {},
     "execution_count": 21
    }
   ],
   "metadata": {}
  },
  {
   "cell_type": "code",
   "execution_count": 22,
   "source": [
    "enc_dec.evaluate(x_train,x_train,batch_size=1000)"
   ],
   "outputs": [
    {
     "output_type": "stream",
     "name": "stdout",
     "text": [
      "60/60 [==============================] - 5s 75ms/step - loss: 0.0806\n"
     ]
    },
    {
     "output_type": "execute_result",
     "data": {
      "text/plain": [
       "0.08060310781002045"
      ]
     },
     "metadata": {},
     "execution_count": 22
    }
   ],
   "metadata": {}
  },
  {
   "cell_type": "markdown",
   "source": [
    "It is very close, around `0.08` for both data sets. The second method is to check the resulting reconstitution that we obtain for a random sample from the test data."
   ],
   "metadata": {}
  },
  {
   "cell_type": "code",
   "execution_count": 28,
   "source": [
    "random_label = np.random.randint(0,9999)\r\n",
    "img_sample = x_test[random_label,:,:].reshape((1,28,28,1))\r\n",
    "plt.imshow(img_sample.reshape(28,28), cmap='gray');\r\n",
    "pred_img = enc_dec.predict(img_sample) \r\n",
    "plt.figure();\r\n",
    "plt.imshow(pred_img.reshape(28,28), cmap='gray');"
   ],
   "outputs": [
    {
     "output_type": "display_data",
     "data": {
      "image/png": "[encoded data removed]",
      "text/plain": [
       "<Figure size 432x288 with 1 Axes>"
      ]
     },
     "metadata": {
      "needs_background": "light"
     }
    },
    {
     "output_type": "display_data",
     "data": {
      "image/png": "[encoded data removed]",
      "text/plain": [
       "<Figure size 432x288 with 1 Axes>"
      ]
     },
     "metadata": {
      "needs_background": "light"
     }
    }
   ],
   "metadata": {}
  },
  {
   "cell_type": "markdown",
   "source": [
    "*A picture is worth a thousand words!* Just to be on the safe side, I ran this test multiple times and the results were consistent. Let's save the encoder and the decoder."
   ],
   "metadata": {}
  },
  {
   "cell_type": "code",
   "execution_count": 29,
   "source": [
    "# save models\r\n",
    "encoder.save('encoder')\r\n",
    "decoder.save('decoder')"
   ],
   "outputs": [],
   "metadata": {}
  },
  {
   "cell_type": "markdown",
   "source": [
    "Now we have a trained encoder and decoder, let's focus on the *encoder*. For each image, is associated a representation that captures most of the interesting features. This representation is sufficient to reconstitute the image using the decoder. Here is the representation of the sample image we used earlier: "
   ],
   "metadata": {}
  },
  {
   "cell_type": "code",
   "execution_count": 30,
   "source": [
    "representation_sample = encoder.predict(img_sample)\r\n",
    "print(representation_sample) "
   ],
   "outputs": [
    {
     "output_type": "stream",
     "name": "stdout",
     "text": [
      "[[0.18486543 0.5697806  0.25546345 0.513535   0.47046018 0.23013075\n",
      "  0.11007436 0.08223282 0.92961174 0.34727788 0.20599699 0.31574652\n",
      "  0.5037295  0.67289937 0.4258053  0.05625024 0.6901649  0.32541478\n",
      "  0.72563386 0.1158777  0.22629336 0.10287777 0.38414446 0.880189\n",
      "  0.18952799 0.22327262 0.49226147 0.04139815 0.6070379  0.67899853\n",
      "  0.1930634  0.9533057  0.26226565 0.3571257  0.10029613 0.64641505\n",
      "  0.7480828  0.6451894  0.19870374 0.8850102  0.65947354 0.6287513\n",
      "  0.6176214  0.5163804  0.25737226 0.14717074 0.09626418 0.78674656\n",
      "  0.8884231  0.7183272  0.40912864 0.25173852 0.6504716  0.73822445\n",
      "  0.21953063 0.794006   0.36661652 0.29903716 0.9652254  0.56687284\n",
      "  0.819398   0.10387004 0.18816645 0.631493   0.17954373 0.8222881\n",
      "  0.37873647 0.8320993  0.1338265  0.6080741  0.35885492 0.6325537\n",
      "  0.6959548  0.06192173 0.29763156 0.75721514 0.665339   0.24818887\n",
      "  0.19820885 0.23145263 0.32199287 0.87531734 0.49698454 0.5838976\n",
      "  0.2733242  0.7204009  0.9374683  0.5761113  0.94386744 0.5706298\n",
      "  0.14885998 0.9650065  0.30205414 0.67331403 0.43952814 0.7002536\n",
      "  0.5170414  0.36596012 0.20525713 0.72305924]]\n"
     ]
    }
   ],
   "metadata": {}
  },
  {
   "cell_type": "markdown",
   "source": [
    "Using these 100 numbers, we generate a 28x28 image (784 pixels)."
   ],
   "metadata": {}
  },
  {
   "cell_type": "code",
   "execution_count": 31,
   "source": [
    "recons_image = decoder.predict(representation_sample)\r\n",
    "plt.imshow(recons_image.reshape(28,28), cmap='gray');"
   ],
   "outputs": [
    {
     "output_type": "display_data",
     "data": {
      "image/png": "[encoded data removed]",
      "text/plain": [
       "<Figure size 432x288 with 1 Axes>"
      ]
     },
     "metadata": {
      "needs_background": "light"
     }
    }
   ],
   "metadata": {}
  },
  {
   "cell_type": "markdown",
   "source": [
    "And here is where the *fun part* begins! using the lower-dimension representation, let's do some math."
   ],
   "metadata": {}
  },
  {
   "cell_type": "markdown",
   "source": [
    "# Learning how to add two handwritten digits"
   ],
   "metadata": {}
  },
  {
   "cell_type": "markdown",
   "source": [
    "The idea is simple. Using the representation of two images, we train a neural network to compute their sum. We will not provide the value of each digit, but we will provide the sum during the training step.  \r\n",
    "We will be performing addition between numbers in the range [0-9]. The results will be in the range [0-18]. So the results will be coded using two outputs:  \r\n",
    "1- Units, multiclass output [0,1,2,3,4,5,6,7,8,9]  \r\n",
    "2- Tens, binary output [0,1]  \r\n",
    "\r\n",
    "<p align=\"center\"> <img src=\"https://i.imgur.com/Zgnd82F.png\"> </p> \r\n"
   ],
   "metadata": {}
  },
  {
   "cell_type": "markdown",
   "source": [
    "Using the functional API in *KERAS* we define the network architecture. First, we import the encoder *twice* and freeze its weights:"
   ],
   "metadata": {}
  },
  {
   "cell_type": "code",
   "execution_count": 32,
   "source": [
    "# duplicate encoders and freeze weights\r\n",
    "encoder1 = keras.models.load_model('encoder') \r\n",
    "encoder1._name = 'encoder1'\r\n",
    "encoder1.trainable = False\r\n",
    "\r\n",
    "encoder2 = keras.models.load_model('encoder')\r\n",
    "encoder2._name = 'encoder2'\r\n",
    "encoder2.trainable = False"
   ],
   "outputs": [],
   "metadata": {}
  },
  {
   "cell_type": "markdown",
   "source": [
    "Using the encoders, we build the 'addition' model:"
   ],
   "metadata": {}
  },
  {
   "cell_type": "code",
   "execution_count": 36,
   "source": [
    "# create model to learn addition\r\n",
    "input1 = Input(shape=image_dim)\r\n",
    "input2 = Input(shape=image_dim)\r\n",
    "enc1_out = encoder1(input1)\r\n",
    "enc2_out = encoder2(input2)\r\n",
    "model_c = Concatenate()([enc1_out,enc2_out])\r\n",
    "model_c = Dense(1000,activation='relu')(model_c)\r\n",
    "\r\n",
    "model_b1 = Dense(200,activation='relu')(model_c)\r\n",
    "model_b2 = Dense(200,activation='relu')(model_c)\r\n",
    "\r\n",
    "model_b1 = Dense(100,activation='relu')(model_b1)\r\n",
    "model_b2 = Dense(100,activation='relu')(model_b2)\r\n",
    "\r\n",
    "units =  Dense(10,activation='softmax',name ='units')(model_b1)\r\n",
    "tens = Dense(1,activation='sigmoid',name ='tens')(model_b2)\r\n",
    "\r\n",
    "model_addition = Model(inputs=[input1,input2],outputs=[units,tens])\r\n",
    "\r\n",
    "model_addition.compile(optimizer='nadam', loss = ['categorical_crossentropy','binary_crossentropy'], metrics=['acc'])"
   ],
   "outputs": [],
   "metadata": {}
  },
  {
   "cell_type": "markdown",
   "source": [
    "This model has two inputs (the two handwritten digits images) and two outputs (units and tens of the sum). We will use two different losses due to the nature of the outputs. Note that there is a common hidden layer of 1000 units, and then two branches (one for each output).  \r\n",
    "We need to create datasets to train and test our model. Inputs will be random combinations of handwritten digits. Outputs will be the sums for each combination. "
   ],
   "metadata": {}
  },
  {
   "cell_type": "code",
   "execution_count": 39,
   "source": [
    "# generate a dataset for additions\r\n",
    "train_size = 200000\r\n",
    "random_labels1 = np.random.randint(0,25000,train_size)\r\n",
    "random_labels2 = np.random.randint(0,25000,train_size)\r\n",
    "\r\n",
    "x_train_1 = x_train[random_labels1]\r\n",
    "x_train_2 = x_train[random_labels2]\r\n",
    "\r\n",
    "y_train_1 = y_train[random_labels1]\r\n",
    "y_train_2 = y_train[random_labels2]\r\n",
    "\r\n",
    "y_add = y_train_1 + y_train_2\r\n",
    "y_add_tens = y_add //10 \r\n",
    "y_add_units = y_add %10 \r\n",
    "y_add_units_cat = to_categorical(y_add_units)\r\n",
    "\r\n",
    "\r\n",
    "# the same with x_test\r\n",
    "test_size = 5000\r\n",
    "random_labels1 = np.random.randint(0,10000,test_size)\r\n",
    "random_labels2 = np.random.randint(0,10000,test_size)\r\n",
    "\r\n",
    "x_test_1 = x_test[random_labels1]\r\n",
    "x_test_2 = x_test[random_labels2]\r\n",
    "\r\n",
    "y_test_1 = y_test[random_labels1]\r\n",
    "y_test_2 = y_test[random_labels2]\r\n",
    "\r\n",
    "y_test_add = y_test_1 + y_test_2\r\n",
    "y_test_add_tens = y_test_add //10 \r\n",
    "y_test_add_units = y_test_add %10 \r\n",
    "y_test_add_units_cat = to_categorical(y_test_add_units)"
   ],
   "outputs": [],
   "metadata": {}
  },
  {
   "cell_type": "markdown",
   "source": [
    "Now we are ready to train our model! "
   ],
   "metadata": {}
  },
  {
   "cell_type": "code",
   "execution_count": 40,
   "source": [
    "history_addition = model_addition.fit([x_train_1,x_train_2],[y_add_units_cat,y_add_tens], batch_size=100,epochs=1000,validation_split=0.2, verbose=2,callbacks=[es,es])"
   ],
   "outputs": [
    {
     "output_type": "stream",
     "name": "stdout",
     "text": [
      "Epoch 1/1000\n",
      "1600/1600 - 32s - loss: 1.2062 - units_loss: 0.9615 - tens_loss: 0.2448 - units_acc: 0.6746 - tens_acc: 0.8922 - val_loss: 0.5480 - val_units_loss: 0.4246 - val_tens_loss: 0.1234 - val_units_acc: 0.8713 - val_tens_acc: 0.9549\n",
      "Epoch 2/1000\n",
      "1600/1600 - 29s - loss: 0.4051 - units_loss: 0.3110 - tens_loss: 0.0941 - units_acc: 0.9051 - tens_acc: 0.9653 - val_loss: 0.3432 - val_units_loss: 0.2617 - val_tens_loss: 0.0816 - val_units_acc: 0.9190 - val_tens_acc: 0.9695\n",
      "Epoch 3/1000\n",
      "1600/1600 - 29s - loss: 0.2549 - units_loss: 0.1957 - tens_loss: 0.0592 - units_acc: 0.9396 - tens_acc: 0.9786 - val_loss: 0.2623 - val_units_loss: 0.1953 - val_tens_loss: 0.0670 - val_units_acc: 0.9401 - val_tens_acc: 0.9749\n",
      "Epoch 4/1000\n",
      "1600/1600 - 32s - loss: 0.1781 - units_loss: 0.1367 - tens_loss: 0.0413 - units_acc: 0.9570 - tens_acc: 0.9849 - val_loss: 0.2058 - val_units_loss: 0.1577 - val_tens_loss: 0.0481 - val_units_acc: 0.9503 - val_tens_acc: 0.9823\n",
      "Epoch 5/1000\n",
      "1600/1600 - 29s - loss: 0.1319 - units_loss: 0.1025 - tens_loss: 0.0294 - units_acc: 0.9674 - tens_acc: 0.9893 - val_loss: 0.1854 - val_units_loss: 0.1428 - val_tens_loss: 0.0426 - val_units_acc: 0.9550 - val_tens_acc: 0.9843\n",
      "Epoch 6/1000\n",
      "1600/1600 - 30s - loss: 0.1023 - units_loss: 0.0789 - tens_loss: 0.0234 - units_acc: 0.9737 - tens_acc: 0.9914 - val_loss: 0.1459 - val_units_loss: 0.1107 - val_tens_loss: 0.0352 - val_units_acc: 0.9659 - val_tens_acc: 0.9876\n",
      "Epoch 7/1000\n",
      "1600/1600 - 32s - loss: 0.0835 - units_loss: 0.0651 - tens_loss: 0.0184 - units_acc: 0.9787 - tens_acc: 0.9933 - val_loss: 0.1337 - val_units_loss: 0.1021 - val_tens_loss: 0.0316 - val_units_acc: 0.9679 - val_tens_acc: 0.9890\n",
      "Epoch 8/1000\n",
      "1600/1600 - 29s - loss: 0.0725 - units_loss: 0.0563 - tens_loss: 0.0162 - units_acc: 0.9813 - tens_acc: 0.9942 - val_loss: 0.1440 - val_units_loss: 0.1073 - val_tens_loss: 0.0367 - val_units_acc: 0.9671 - val_tens_acc: 0.9881\n",
      "Epoch 9/1000\n",
      "1600/1600 - 29s - loss: 0.0623 - units_loss: 0.0487 - tens_loss: 0.0136 - units_acc: 0.9838 - tens_acc: 0.9952 - val_loss: 0.1145 - val_units_loss: 0.0880 - val_tens_loss: 0.0265 - val_units_acc: 0.9747 - val_tens_acc: 0.9916\n",
      "Epoch 10/1000\n",
      "1600/1600 - 29s - loss: 0.0570 - units_loss: 0.0443 - tens_loss: 0.0127 - units_acc: 0.9852 - tens_acc: 0.9954 - val_loss: 0.1104 - val_units_loss: 0.0838 - val_tens_loss: 0.0266 - val_units_acc: 0.9759 - val_tens_acc: 0.9913\n",
      "Epoch 11/1000\n",
      "1600/1600 - 29s - loss: 0.0486 - units_loss: 0.0381 - tens_loss: 0.0105 - units_acc: 0.9872 - tens_acc: 0.9962 - val_loss: 0.1217 - val_units_loss: 0.0893 - val_tens_loss: 0.0324 - val_units_acc: 0.9742 - val_tens_acc: 0.9898\n",
      "Epoch 12/1000\n",
      "1600/1600 - 29s - loss: 0.0461 - units_loss: 0.0360 - tens_loss: 0.0101 - units_acc: 0.9880 - tens_acc: 0.9967 - val_loss: 0.1138 - val_units_loss: 0.0833 - val_tens_loss: 0.0305 - val_units_acc: 0.9751 - val_tens_acc: 0.9904\n",
      "Epoch 13/1000\n",
      "1600/1600 - 29s - loss: 0.0441 - units_loss: 0.0344 - tens_loss: 0.0097 - units_acc: 0.9886 - tens_acc: 0.9966 - val_loss: 0.1336 - val_units_loss: 0.0990 - val_tens_loss: 0.0345 - val_units_acc: 0.9719 - val_tens_acc: 0.9895\n",
      "Epoch 14/1000\n",
      "1600/1600 - 30s - loss: 0.0390 - units_loss: 0.0304 - tens_loss: 0.0086 - units_acc: 0.9901 - tens_acc: 0.9972 - val_loss: 0.1017 - val_units_loss: 0.0766 - val_tens_loss: 0.0251 - val_units_acc: 0.9776 - val_tens_acc: 0.9921\n",
      "Epoch 15/1000\n",
      "1600/1600 - 29s - loss: 0.0398 - units_loss: 0.0314 - tens_loss: 0.0084 - units_acc: 0.9892 - tens_acc: 0.9972 - val_loss: 0.1147 - val_units_loss: 0.0855 - val_tens_loss: 0.0292 - val_units_acc: 0.9761 - val_tens_acc: 0.9911\n",
      "Epoch 16/1000\n",
      "1600/1600 - 29s - loss: 0.0324 - units_loss: 0.0254 - tens_loss: 0.0071 - units_acc: 0.9915 - tens_acc: 0.9976 - val_loss: 0.1070 - val_units_loss: 0.0790 - val_tens_loss: 0.0279 - val_units_acc: 0.9780 - val_tens_acc: 0.9906\n",
      "Epoch 17/1000\n",
      "1600/1600 - 29s - loss: 0.0332 - units_loss: 0.0265 - tens_loss: 0.0067 - units_acc: 0.9912 - tens_acc: 0.9977 - val_loss: 0.0882 - val_units_loss: 0.0661 - val_tens_loss: 0.0221 - val_units_acc: 0.9816 - val_tens_acc: 0.9935\n",
      "Epoch 18/1000\n",
      "1600/1600 - 29s - loss: 0.0307 - units_loss: 0.0242 - tens_loss: 0.0064 - units_acc: 0.9922 - tens_acc: 0.9978 - val_loss: 0.1062 - val_units_loss: 0.0800 - val_tens_loss: 0.0262 - val_units_acc: 0.9776 - val_tens_acc: 0.9922\n",
      "Epoch 19/1000\n",
      "1600/1600 - 29s - loss: 0.0328 - units_loss: 0.0260 - tens_loss: 0.0068 - units_acc: 0.9913 - tens_acc: 0.9975 - val_loss: 0.1073 - val_units_loss: 0.0815 - val_tens_loss: 0.0258 - val_units_acc: 0.9777 - val_tens_acc: 0.9924\n",
      "Epoch 20/1000\n",
      "1600/1600 - 29s - loss: 0.0294 - units_loss: 0.0231 - tens_loss: 0.0064 - units_acc: 0.9925 - tens_acc: 0.9978 - val_loss: 0.1034 - val_units_loss: 0.0744 - val_tens_loss: 0.0290 - val_units_acc: 0.9801 - val_tens_acc: 0.9919\n",
      "Epoch 21/1000\n",
      "1600/1600 - 29s - loss: 0.0273 - units_loss: 0.0217 - tens_loss: 0.0056 - units_acc: 0.9927 - tens_acc: 0.9982 - val_loss: 0.0985 - val_units_loss: 0.0719 - val_tens_loss: 0.0266 - val_units_acc: 0.9809 - val_tens_acc: 0.9925\n",
      "Epoch 22/1000\n",
      "Restoring model weights from the end of the best epoch.\n",
      "Restoring model weights from the end of the best epoch.\n",
      "1600/1600 - 29s - loss: 0.0262 - units_loss: 0.0211 - tens_loss: 0.0051 - units_acc: 0.9932 - tens_acc: 0.9982 - val_loss: 0.1014 - val_units_loss: 0.0799 - val_tens_loss: 0.0215 - val_units_acc: 0.9799 - val_tens_acc: 0.9942\n",
      "Epoch 00022: early stopping\n",
      "Epoch 00022: early stopping\n"
     ]
    },
    {
     "output_type": "execute_result",
     "data": {
      "text/plain": [
       "<tensorflow.python.keras.callbacks.History at 0x1a03037eb48>"
      ]
     },
     "metadata": {},
     "execution_count": 40
    }
   ],
   "metadata": {}
  },
  {
   "cell_type": "markdown",
   "source": [
    "At the end of the training, the accuracy on both outputs is pretty good (98% and 99,5%). Let's see first how the model performs on the test data."
   ],
   "metadata": {}
  },
  {
   "cell_type": "code",
   "execution_count": 41,
   "source": [
    "test_results = model_addition.evaluate([x_test_1,x_test_2],[y_test_add_units_cat,y_test_add_tens],batch_size=1000)"
   ],
   "outputs": [
    {
     "output_type": "stream",
     "name": "stdout",
     "text": [
      "5/5 [==============================] - 0s 51ms/step - loss: 0.4157 - units_loss: 0.3104 - tens_loss: 0.1052 - units_acc: 0.9398 - tens_acc: 0.9806\n"
     ]
    }
   ],
   "metadata": {}
  },
  {
   "cell_type": "markdown",
   "source": [
    "Results are still in the 9x%. We can show a random sample of the model predictions."
   ],
   "metadata": {}
  },
  {
   "cell_type": "code",
   "execution_count": 60,
   "source": [
    "random_label_1 = np.random.randint(0,9999)\r\n",
    "random_label_2 = np.random.randint(0,9999)\r\n",
    "\r\n",
    "img_sample1 = x_test[random_label_1,:,:].reshape((1,28,28,1))\r\n",
    "img_sample2 = x_test[random_label_2,:,:].reshape((1,28,28,1))\r\n",
    "\r\n",
    "plt.subplot(1,2,1)\r\n",
    "plt.imshow(img_sample1.reshape(28,28), cmap='gray');\r\n",
    "\r\n",
    "plt.subplot(1,2,2)\r\n",
    "plt.imshow(img_sample2.reshape(28,28), cmap='gray');\r\n",
    "\r\n",
    "prediction = model_addition.predict([img_sample1,img_sample2])\r\n",
    "unit = prediction[0]\r\n",
    "ten = prediction[1]\r\n",
    "\r\n",
    "sum_images = np.argmax(unit)+10*np.round(ten)\r\n",
    "print('sum =',sum_images)"
   ],
   "outputs": [
    {
     "output_type": "stream",
     "name": "stdout",
     "text": [
      "sum = [[4.]]\n"
     ]
    },
    {
     "output_type": "display_data",
     "data": {
      "image/png": "[encoded data removed]",
      "text/plain": [
       "<Figure size 432x288 with 2 Axes>"
      ]
     },
     "metadata": {
      "needs_background": "light"
     }
    }
   ],
   "metadata": {}
  },
  {
   "cell_type": "markdown",
   "source": [
    "Results look promising! We actually could improve the accuracy by training the model on more random samples (increase `train_size` value) or tweak the model architecture. One last thing: save the model!"
   ],
   "metadata": {}
  },
  {
   "cell_type": "code",
   "execution_count": 58,
   "source": [
    "# save the model\r\n",
    "model_addition.save('model_addition')"
   ],
   "outputs": [],
   "metadata": {}
  },
  {
   "cell_type": "markdown",
   "source": [
    "# Learning how to multiply two handwritten digits"
   ],
   "metadata": {}
  },
  {
   "cell_type": "markdown",
   "source": [
    "Using a similar method, we can train a neural network to compute multiplication result of two handwritten digits. The main difference is that the output will be in the range [0,81]. The network will output two values:  \r\n",
    "1- units, multiclass [0,1,2,3,4,5,6,7,8,9]  \r\n",
    "2- tens, multiclass [0,1,2,3,4,5,6,7,8] \r\n",
    "\r\n",
    "We will use the same architecture as previously, with a slight modification in the output layer (softmax instead of sigmoid, and 8 neurons instead of 1)"
   ],
   "metadata": {}
  },
  {
   "cell_type": "code",
   "execution_count": 61,
   "source": [
    "# duplicate encoders and freeze weights\r\n",
    "encoder3 = keras.models.load_model('encoder') \r\n",
    "encoder3._name = 'encoder1'\r\n",
    "encoder3.trainable = False\r\n",
    "\r\n",
    "encoder4 = keras.models.load_model('encoder')\r\n",
    "encoder4._name = 'encoder2'\r\n",
    "encoder4.trainable = False"
   ],
   "outputs": [],
   "metadata": {}
  },
  {
   "cell_type": "code",
   "execution_count": 64,
   "source": [
    "# create model to learn multiplication\r\n",
    "input1 = Input(shape=image_dim)\r\n",
    "input2 = Input(shape=image_dim)\r\n",
    "enc1_out = encoder3(input1)\r\n",
    "enc2_out = encoder4(input2)\r\n",
    "model_c = Concatenate()([enc1_out,enc2_out])\r\n",
    "model_c = Dense(1000,activation='relu')(model_c)\r\n",
    "\r\n",
    "model_b1 = Dense(200,activation='relu')(model_c)\r\n",
    "model_b2 = Dense(200,activation='relu')(model_c)\r\n",
    "\r\n",
    "model_b1 = Dense(100,activation='relu')(model_b1)\r\n",
    "model_b2 = Dense(100,activation='relu')(model_b2)\r\n",
    "\r\n",
    "units =  Dense(10,activation='softmax',name ='units')(model_b1)\r\n",
    "tens = Dense(9,activation='softmax',name ='tens')(model_b2)\r\n",
    "\r\n",
    "model_mult = Model(inputs=[input1,input2],outputs=[units,tens])\r\n",
    "\r\n",
    "model_mult.compile(optimizer='nadam', loss = ['categorical_crossentropy','categorical_crossentropy'], metrics=['acc'])"
   ],
   "outputs": [],
   "metadata": {}
  },
  {
   "cell_type": "markdown",
   "source": [
    "Now we need to create data for training and testing as we did previously. We already generated random images, so all we need now is to create labels by multiplying the values."
   ],
   "metadata": {}
  },
  {
   "cell_type": "code",
   "execution_count": 66,
   "source": [
    "# generate a dataset for multiplication\r\n",
    "\r\n",
    "y_mult = y_train_1 * y_train_2\r\n",
    "y_mult_tens = y_mult //10 \r\n",
    "y_mult_units = y_mult %10 \r\n",
    "y_mult_units_cat = to_categorical(y_mult_units)\r\n",
    "y_mult_tens_cat = to_categorical(y_mult_tens)\r\n",
    "\r\n",
    "# the same with x_test\r\n",
    "\r\n",
    "y_test_mult = y_test_1 * y_test_2\r\n",
    "y_test_mult_tens = y_test_mult //10 \r\n",
    "y_test_mult_units = y_test_mult %10 \r\n",
    "y_test_mult_units_cat = to_categorical(y_test_mult_units)\r\n",
    "y_test_mult_tens_cat = to_categorical(y_test_mult_tens)"
   ],
   "outputs": [],
   "metadata": {}
  },
  {
   "cell_type": "markdown",
   "source": [
    "Next step is to train the model, and test it."
   ],
   "metadata": {}
  },
  {
   "cell_type": "code",
   "execution_count": 65,
   "source": [
    "history_mult = model_mult.fit([x_train_1,x_train_2],[y_mult_units_cat,y_mult_tens_cat], batch_size=100,epochs=1000,validation_split=0.2, verbose=2,callbacks=[es,es])"
   ],
   "outputs": [
    {
     "output_type": "stream",
     "name": "stdout",
     "text": [
      "Epoch 1/1000\n",
      "1600/1600 - 31s - loss: 1.2452 - units_loss: 0.6768 - tens_loss: 0.5684 - units_acc: 0.7661 - tens_acc: 0.7980 - val_loss: 0.5906 - val_units_loss: 0.3276 - val_tens_loss: 0.2630 - val_units_acc: 0.8949 - val_tens_acc: 0.9129\n",
      "Epoch 2/1000\n",
      "1600/1600 - 30s - loss: 0.4313 - units_loss: 0.2278 - tens_loss: 0.2034 - units_acc: 0.9279 - tens_acc: 0.9327 - val_loss: 0.3499 - val_units_loss: 0.1837 - val_tens_loss: 0.1662 - val_units_acc: 0.9413 - val_tens_acc: 0.9459\n",
      "Epoch 3/1000\n",
      "1600/1600 - 29s - loss: 0.2800 - units_loss: 0.1479 - tens_loss: 0.1321 - units_acc: 0.9523 - tens_acc: 0.9569 - val_loss: 0.2667 - val_units_loss: 0.1405 - val_tens_loss: 0.1262 - val_units_acc: 0.9544 - val_tens_acc: 0.9579\n",
      "Epoch 4/1000\n",
      "1600/1600 - 30s - loss: 0.2003 - units_loss: 0.1051 - tens_loss: 0.0952 - units_acc: 0.9653 - tens_acc: 0.9683 - val_loss: 0.2363 - val_units_loss: 0.1202 - val_tens_loss: 0.1161 - val_units_acc: 0.9620 - val_tens_acc: 0.9636\n",
      "Epoch 5/1000\n",
      "1600/1600 - 31s - loss: 0.1500 - units_loss: 0.0783 - tens_loss: 0.0717 - units_acc: 0.9746 - tens_acc: 0.9758 - val_loss: 0.2043 - val_units_loss: 0.1018 - val_tens_loss: 0.1025 - val_units_acc: 0.9682 - val_tens_acc: 0.9657\n",
      "Epoch 6/1000\n",
      "1600/1600 - 31s - loss: 0.1183 - units_loss: 0.0619 - tens_loss: 0.0564 - units_acc: 0.9793 - tens_acc: 0.9801 - val_loss: 0.1833 - val_units_loss: 0.0901 - val_tens_loss: 0.0932 - val_units_acc: 0.9706 - val_tens_acc: 0.9699\n",
      "Epoch 7/1000\n",
      "1600/1600 - 31s - loss: 0.0994 - units_loss: 0.0520 - tens_loss: 0.0475 - units_acc: 0.9827 - tens_acc: 0.9838 - val_loss: 0.1609 - val_units_loss: 0.0829 - val_tens_loss: 0.0781 - val_units_acc: 0.9740 - val_tens_acc: 0.9757\n",
      "Epoch 8/1000\n",
      "1600/1600 - 31s - loss: 0.0837 - units_loss: 0.0446 - tens_loss: 0.0391 - units_acc: 0.9849 - tens_acc: 0.9864 - val_loss: 0.1552 - val_units_loss: 0.0802 - val_tens_loss: 0.0750 - val_units_acc: 0.9764 - val_tens_acc: 0.9765\n",
      "Epoch 9/1000\n",
      "1600/1600 - 29s - loss: 0.0734 - units_loss: 0.0386 - tens_loss: 0.0348 - units_acc: 0.9869 - tens_acc: 0.9880 - val_loss: 0.1380 - val_units_loss: 0.0685 - val_tens_loss: 0.0696 - val_units_acc: 0.9786 - val_tens_acc: 0.9782\n",
      "Epoch 10/1000\n",
      "1600/1600 - 28s - loss: 0.0612 - units_loss: 0.0317 - tens_loss: 0.0295 - units_acc: 0.9894 - tens_acc: 0.9900 - val_loss: 0.1225 - val_units_loss: 0.0653 - val_tens_loss: 0.0573 - val_units_acc: 0.9801 - val_tens_acc: 0.9824\n",
      "Epoch 11/1000\n",
      "1600/1600 - 28s - loss: 0.0598 - units_loss: 0.0318 - tens_loss: 0.0280 - units_acc: 0.9894 - tens_acc: 0.9900 - val_loss: 0.1275 - val_units_loss: 0.0649 - val_tens_loss: 0.0626 - val_units_acc: 0.9794 - val_tens_acc: 0.9798\n",
      "Epoch 12/1000\n",
      "1600/1600 - 30s - loss: 0.0533 - units_loss: 0.0281 - tens_loss: 0.0252 - units_acc: 0.9902 - tens_acc: 0.9912 - val_loss: 0.1196 - val_units_loss: 0.0634 - val_tens_loss: 0.0562 - val_units_acc: 0.9807 - val_tens_acc: 0.9820\n",
      "Epoch 13/1000\n",
      "1600/1600 - 30s - loss: 0.0471 - units_loss: 0.0248 - tens_loss: 0.0223 - units_acc: 0.9916 - tens_acc: 0.9924 - val_loss: 0.1462 - val_units_loss: 0.0780 - val_tens_loss: 0.0682 - val_units_acc: 0.9780 - val_tens_acc: 0.9805\n",
      "Epoch 14/1000\n",
      "1600/1600 - 29s - loss: 0.0434 - units_loss: 0.0229 - tens_loss: 0.0205 - units_acc: 0.9925 - tens_acc: 0.9931 - val_loss: 0.1304 - val_units_loss: 0.0649 - val_tens_loss: 0.0655 - val_units_acc: 0.9812 - val_tens_acc: 0.9809\n",
      "Epoch 15/1000\n",
      "1600/1600 - 29s - loss: 0.0435 - units_loss: 0.0226 - tens_loss: 0.0209 - units_acc: 0.9925 - tens_acc: 0.9931 - val_loss: 0.1106 - val_units_loss: 0.0592 - val_tens_loss: 0.0514 - val_units_acc: 0.9827 - val_tens_acc: 0.9837\n",
      "Epoch 16/1000\n",
      "1600/1600 - 29s - loss: 0.0379 - units_loss: 0.0200 - tens_loss: 0.0179 - units_acc: 0.9932 - tens_acc: 0.9939 - val_loss: 0.1114 - val_units_loss: 0.0586 - val_tens_loss: 0.0528 - val_units_acc: 0.9827 - val_tens_acc: 0.9849\n",
      "Epoch 17/1000\n",
      "1600/1600 - 28s - loss: 0.0380 - units_loss: 0.0200 - tens_loss: 0.0180 - units_acc: 0.9932 - tens_acc: 0.9941 - val_loss: 0.1007 - val_units_loss: 0.0533 - val_tens_loss: 0.0474 - val_units_acc: 0.9851 - val_tens_acc: 0.9869\n",
      "Epoch 18/1000\n",
      "1600/1600 - 29s - loss: 0.0333 - units_loss: 0.0179 - tens_loss: 0.0154 - units_acc: 0.9940 - tens_acc: 0.9949 - val_loss: 0.1065 - val_units_loss: 0.0540 - val_tens_loss: 0.0525 - val_units_acc: 0.9845 - val_tens_acc: 0.9853\n",
      "Epoch 19/1000\n",
      "1600/1600 - 30s - loss: 0.0346 - units_loss: 0.0178 - tens_loss: 0.0168 - units_acc: 0.9940 - tens_acc: 0.9944 - val_loss: 0.1086 - val_units_loss: 0.0569 - val_tens_loss: 0.0517 - val_units_acc: 0.9848 - val_tens_acc: 0.9855\n",
      "Epoch 20/1000\n",
      "1600/1600 - 30s - loss: 0.0315 - units_loss: 0.0165 - tens_loss: 0.0150 - units_acc: 0.9947 - tens_acc: 0.9949 - val_loss: 0.1352 - val_units_loss: 0.0708 - val_tens_loss: 0.0644 - val_units_acc: 0.9814 - val_tens_acc: 0.9818\n",
      "Epoch 21/1000\n",
      "1600/1600 - 30s - loss: 0.0300 - units_loss: 0.0160 - tens_loss: 0.0140 - units_acc: 0.9950 - tens_acc: 0.9955 - val_loss: 0.1064 - val_units_loss: 0.0582 - val_tens_loss: 0.0482 - val_units_acc: 0.9843 - val_tens_acc: 0.9863\n",
      "Epoch 22/1000\n",
      "Restoring model weights from the end of the best epoch.\n",
      "Restoring model weights from the end of the best epoch.\n",
      "1600/1600 - 30s - loss: 0.0288 - units_loss: 0.0152 - tens_loss: 0.0136 - units_acc: 0.9951 - tens_acc: 0.9954 - val_loss: 0.1575 - val_units_loss: 0.0798 - val_tens_loss: 0.0777 - val_units_acc: 0.9800 - val_tens_acc: 0.9797\n",
      "Epoch 00022: early stopping\n",
      "Epoch 00022: early stopping\n"
     ]
    },
    {
     "output_type": "execute_result",
     "data": {
      "text/plain": [
       "<tensorflow.python.keras.callbacks.History at 0x1a0365dac48>"
      ]
     },
     "metadata": {},
     "execution_count": 65
    }
   ],
   "metadata": {}
  },
  {
   "cell_type": "code",
   "execution_count": 67,
   "source": [
    "test_results = model_mult.evaluate([x_test_1,x_test_2],[y_test_mult_units_cat,y_test_mult_tens_cat],batch_size=1000)"
   ],
   "outputs": [
    {
     "output_type": "stream",
     "name": "stdout",
     "text": [
      "5/5 [==============================] - 0s 45ms/step - loss: 0.4278 - units_loss: 0.2224 - tens_loss: 0.2053 - units_acc: 0.9544 - tens_acc: 0.9602\n"
     ]
    }
   ],
   "metadata": {}
  },
  {
   "cell_type": "markdown",
   "source": [
    "We achieve similar performances (slightly better actually!) when compared to addition. Let's see how the model works on sample data: "
   ],
   "metadata": {}
  },
  {
   "cell_type": "code",
   "execution_count": 81,
   "source": [
    "random_label_1 = np.random.randint(0,9999)\r\n",
    "random_label_2 = np.random.randint(0,9999)\r\n",
    "\r\n",
    "img_sample1 = x_test[random_label_1,:,:].reshape((1,28,28,1))\r\n",
    "img_sample2 = x_test[random_label_2,:,:].reshape((1,28,28,1))\r\n",
    "\r\n",
    "plt.subplot(1,2,1)\r\n",
    "plt.imshow(img_sample1.reshape(28,28), cmap='gray');\r\n",
    "\r\n",
    "plt.subplot(1,2,2)\r\n",
    "plt.imshow(img_sample2.reshape(28,28), cmap='gray');\r\n",
    "\r\n",
    "prediction = model_mult.predict([img_sample1,img_sample2])\r\n",
    "unit = prediction[0]\r\n",
    "ten = prediction[1]\r\n",
    "\r\n",
    "mult_images = np.argmax(unit)+10*np.argmax(ten)\r\n",
    "print('multiplication result =',mult_images)"
   ],
   "outputs": [
    {
     "output_type": "stream",
     "name": "stdout",
     "text": [
      "multiplication result = 63\n"
     ]
    },
    {
     "output_type": "display_data",
     "data": {
      "image/png": "[encoded data removed]",
      "text/plain": [
       "<Figure size 432x288 with 2 Axes>"
      ]
     },
     "metadata": {
      "needs_background": "light"
     }
    }
   ],
   "metadata": {}
  },
  {
   "cell_type": "code",
   "execution_count": 70,
   "source": [
    "# save the model\r\n",
    "model_mult.save('model_mult')"
   ],
   "outputs": [],
   "metadata": {}
  },
  {
   "cell_type": "markdown",
   "source": [
    "# Learning how to compare two handwritten digits"
   ],
   "metadata": {}
  },
  {
   "cell_type": "markdown",
   "source": [
    "The last arithmetic operation our model will predict is the comparison. The model will have one binary output (1 if image1 > image2 and 0 elsewhere). We proceed the same way as previously."
   ],
   "metadata": {}
  },
  {
   "cell_type": "code",
   "execution_count": 71,
   "source": [
    "# duplicate encoders and freeze weights\r\n",
    "encoder5 = keras.models.load_model('encoder') \r\n",
    "encoder5._name = 'encoder1'\r\n",
    "encoder5.trainable = False\r\n",
    "\r\n",
    "encoder6 = keras.models.load_model('encoder')\r\n",
    "encoder6._name = 'encoder2'\r\n",
    "encoder6.trainable = False"
   ],
   "outputs": [],
   "metadata": {}
  },
  {
   "cell_type": "code",
   "execution_count": 72,
   "source": [
    "# create model to learn comparison\r\n",
    "input1 = Input(shape=image_dim)\r\n",
    "input2 = Input(shape=image_dim)\r\n",
    "enc1_out = encoder5(input1)\r\n",
    "enc2_out = encoder6(input2)\r\n",
    "model_c = Concatenate()([enc1_out,enc2_out])\r\n",
    "model_c = Dense(1000,activation='relu')(model_c)\r\n",
    "\r\n",
    "model_c = Dense(200,activation='relu')(model_c)\r\n",
    "\r\n",
    "model_c = Dense(100,activation='relu')(model_c)\r\n",
    "\r\n",
    "comp =  Dense(1,activation='sigmoid',name ='units')(model_c)\r\n",
    "\r\n",
    "\r\n",
    "model_comp = Model(inputs=[input1,input2],outputs=[comp])\r\n",
    "\r\n",
    "model_comp.compile(optimizer='nadam', loss = ['binary_crossentropy'], metrics=['acc'])"
   ],
   "outputs": [],
   "metadata": {}
  },
  {
   "cell_type": "code",
   "execution_count": 76,
   "source": [
    "# generate a dataset for comparison\r\n",
    "y_comp = y_train_1 > y_train_2\r\n",
    "\r\n",
    "# the same with x_test\r\n",
    "y_test_comp = y_test_1 > y_test_2"
   ],
   "outputs": [],
   "metadata": {}
  },
  {
   "cell_type": "code",
   "execution_count": 74,
   "source": [
    "history_comp = model_comp.fit([x_train_1,x_train_2],y_comp, batch_size=100,epochs=1000,validation_split=0.2, verbose=2,callbacks=[es])"
   ],
   "outputs": [
    {
     "output_type": "stream",
     "name": "stdout",
     "text": [
      "Epoch 1/1000\n",
      "1600/1600 - 24s - loss: 0.2903 - acc: 0.8694 - val_loss: 0.1704 - val_acc: 0.9336\n",
      "Epoch 2/1000\n",
      "1600/1600 - 22s - loss: 0.1518 - acc: 0.9406 - val_loss: 0.1260 - val_acc: 0.9513\n",
      "Epoch 3/1000\n",
      "1600/1600 - 23s - loss: 0.1121 - acc: 0.9570 - val_loss: 0.1129 - val_acc: 0.9569\n",
      "Epoch 4/1000\n",
      "1600/1600 - 22s - loss: 0.0887 - acc: 0.9670 - val_loss: 0.0984 - val_acc: 0.9627\n",
      "Epoch 5/1000\n",
      "1600/1600 - 22s - loss: 0.0733 - acc: 0.9727 - val_loss: 0.0882 - val_acc: 0.9678\n",
      "Epoch 6/1000\n",
      "1600/1600 - 22s - loss: 0.0635 - acc: 0.9763 - val_loss: 0.0821 - val_acc: 0.9700\n",
      "Epoch 7/1000\n",
      "1600/1600 - 23s - loss: 0.0554 - acc: 0.9795 - val_loss: 0.0670 - val_acc: 0.9762\n",
      "Epoch 8/1000\n",
      "1600/1600 - 23s - loss: 0.0487 - acc: 0.9820 - val_loss: 0.0719 - val_acc: 0.9739\n",
      "Epoch 9/1000\n",
      "1600/1600 - 24s - loss: 0.0430 - acc: 0.9843 - val_loss: 0.0620 - val_acc: 0.9775\n",
      "Epoch 10/1000\n",
      "1600/1600 - 25s - loss: 0.0385 - acc: 0.9857 - val_loss: 0.0671 - val_acc: 0.9771\n",
      "Epoch 11/1000\n",
      "1600/1600 - 23s - loss: 0.0345 - acc: 0.9874 - val_loss: 0.0683 - val_acc: 0.9771\n",
      "Epoch 12/1000\n",
      "1600/1600 - 23s - loss: 0.0322 - acc: 0.9880 - val_loss: 0.0555 - val_acc: 0.9804\n",
      "Epoch 13/1000\n",
      "1600/1600 - 22s - loss: 0.0284 - acc: 0.9895 - val_loss: 0.0555 - val_acc: 0.9812\n",
      "Epoch 14/1000\n",
      "1600/1600 - 22s - loss: 0.0253 - acc: 0.9907 - val_loss: 0.0598 - val_acc: 0.9806\n",
      "Epoch 15/1000\n",
      "1600/1600 - 22s - loss: 0.0247 - acc: 0.9911 - val_loss: 0.0552 - val_acc: 0.9827\n",
      "Epoch 16/1000\n",
      "1600/1600 - 21s - loss: 0.0217 - acc: 0.9919 - val_loss: 0.0573 - val_acc: 0.9823\n",
      "Epoch 17/1000\n",
      "1600/1600 - 22s - loss: 0.0202 - acc: 0.9927 - val_loss: 0.0622 - val_acc: 0.9799\n",
      "Epoch 18/1000\n",
      "1600/1600 - 21s - loss: 0.0195 - acc: 0.9928 - val_loss: 0.0624 - val_acc: 0.9805\n",
      "Epoch 19/1000\n",
      "1600/1600 - 21s - loss: 0.0177 - acc: 0.9938 - val_loss: 0.0570 - val_acc: 0.9809\n",
      "Epoch 20/1000\n",
      "1600/1600 - 22s - loss: 0.0167 - acc: 0.9940 - val_loss: 0.0566 - val_acc: 0.9818\n",
      "Epoch 21/1000\n",
      "1600/1600 - 22s - loss: 0.0167 - acc: 0.9939 - val_loss: 0.0613 - val_acc: 0.9826\n",
      "Epoch 22/1000\n",
      "1600/1600 - 21s - loss: 0.0154 - acc: 0.9945 - val_loss: 0.0543 - val_acc: 0.9832\n",
      "Epoch 23/1000\n",
      "1600/1600 - 21s - loss: 0.0149 - acc: 0.9948 - val_loss: 0.0521 - val_acc: 0.9852\n",
      "Epoch 24/1000\n",
      "1600/1600 - 22s - loss: 0.0134 - acc: 0.9951 - val_loss: 0.0577 - val_acc: 0.9838\n",
      "Epoch 25/1000\n",
      "1600/1600 - 22s - loss: 0.0139 - acc: 0.9948 - val_loss: 0.0620 - val_acc: 0.9821\n",
      "Epoch 26/1000\n",
      "1600/1600 - 23s - loss: 0.0130 - acc: 0.9952 - val_loss: 0.0533 - val_acc: 0.9846\n",
      "Epoch 27/1000\n",
      "1600/1600 - 22s - loss: 0.0115 - acc: 0.9960 - val_loss: 0.0638 - val_acc: 0.9827\n",
      "Epoch 28/1000\n",
      "1600/1600 - 22s - loss: 0.0133 - acc: 0.9953 - val_loss: 0.0651 - val_acc: 0.9825\n",
      "Epoch 29/1000\n",
      "1600/1600 - 22s - loss: 0.0102 - acc: 0.9963 - val_loss: 0.0560 - val_acc: 0.9854\n",
      "Epoch 30/1000\n",
      "1600/1600 - 22s - loss: 0.0111 - acc: 0.9961 - val_loss: 0.0569 - val_acc: 0.9839\n",
      "Epoch 31/1000\n",
      "1600/1600 - 21s - loss: 0.0114 - acc: 0.9960 - val_loss: 0.0621 - val_acc: 0.9833\n",
      "Epoch 32/1000\n",
      "1600/1600 - 21s - loss: 0.0097 - acc: 0.9965 - val_loss: 0.0645 - val_acc: 0.9830\n",
      "Epoch 33/1000\n",
      "Restoring model weights from the end of the best epoch.\n",
      "1600/1600 - 22s - loss: 0.0099 - acc: 0.9967 - val_loss: 0.0584 - val_acc: 0.9845\n",
      "Epoch 00033: early stopping\n"
     ]
    },
    {
     "output_type": "execute_result",
     "data": {
      "text/plain": [
       "<tensorflow.python.keras.callbacks.History at 0x1a0368af1c8>"
      ]
     },
     "metadata": {},
     "execution_count": 74
    }
   ],
   "metadata": {}
  },
  {
   "cell_type": "code",
   "execution_count": 77,
   "source": [
    "test_results = model_comp.evaluate([x_test_1,x_test_2],y_test_comp,batch_size=1000)"
   ],
   "outputs": [
    {
     "output_type": "stream",
     "name": "stdout",
     "text": [
      "5/5 [==============================] - 0s 50ms/step - loss: 0.1200 - acc: 0.9700\n"
     ]
    }
   ],
   "metadata": {}
  },
  {
   "cell_type": "code",
   "execution_count": 80,
   "source": [
    "random_label_1 = np.random.randint(0,9999)\r\n",
    "random_label_2 = np.random.randint(0,9999)\r\n",
    "\r\n",
    "img_sample1 = x_test[random_label_1,:,:].reshape((1,28,28,1))\r\n",
    "img_sample2 = x_test[random_label_2,:,:].reshape((1,28,28,1))\r\n",
    "\r\n",
    "plt.subplot(1,2,1)\r\n",
    "plt.imshow(img_sample1.reshape(28,28), cmap='gray');\r\n",
    "\r\n",
    "plt.subplot(1,2,2)\r\n",
    "plt.imshow(img_sample2.reshape(28,28), cmap='gray');\r\n",
    "\r\n",
    "prediction = np.round(model_comp.predict([img_sample1,img_sample2]))\r\n",
    "\r\n",
    "\r\n",
    "print('comparison result =',prediction,'1 if the number on the left is greater, 0 elsewhere')"
   ],
   "outputs": [
    {
     "output_type": "stream",
     "name": "stdout",
     "text": [
      "comparison result = [[0.]] 1 if the number on the left is greater, 0 elsewhere\n"
     ]
    },
    {
     "output_type": "display_data",
     "data": {
      "image/png": "[encoded data removed]",
      "text/plain": [
       "<Figure size 432x288 with 2 Axes>"
      ]
     },
     "metadata": {
      "needs_background": "light"
     }
    }
   ],
   "metadata": {}
  },
  {
   "cell_type": "code",
   "execution_count": null,
   "source": [
    "# save the model\r\n",
    "model_comp.save('model_comp')"
   ],
   "outputs": [],
   "metadata": {}
  },
  {
   "cell_type": "markdown",
   "source": [
    "# Conclusion and future work"
   ],
   "metadata": {}
  },
  {
   "cell_type": "markdown",
   "source": [],
   "metadata": {}
  }
 ],
 "metadata": {
  "orig_nbformat": 4,
  "language_info": {
   "name": "python",
   "version": "3.7.9",
   "mimetype": "text/x-python",
   "codemirror_mode": {
    "name": "ipython",
    "version": 3
   },
   "pygments_lexer": "ipython3",
   "nbconvert_exporter": "python",
   "file_extension": ".py"
  },
  "kernelspec": {
   "name": "python3",
   "display_name": "Python 3.7.9 64-bit"
  },
  "interpreter": {
   "hash": "684b1123683431d89d3bfe9a89cc763215f4b8cd94b4aba1fb40ad45ff7c8b41"
  }
 },
 "nbformat": 4,
 "nbformat_minor": 2
}