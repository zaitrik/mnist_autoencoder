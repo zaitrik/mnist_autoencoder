{
 "cells": [
  {
   "cell_type": "markdown",
   "source": [
    "# This is how a neural network learns to add, multiply and compare handwritten digits WITHOUT knowing their values "
   ],
   "metadata": {}
  },
  {
   "cell_type": "markdown",
   "source": [
    "<p align=\"center\"> <img src=\"https://i.dlpng.com/static/png/6906777_preview.png\"> </p>   "
   ],
   "metadata": {}
  },
  {
   "cell_type": "markdown",
   "source": [
    "I described in a [previous post](https://blog.jovian.ai/how-to-train-supervised-machine-learning-algorithms-without-labeled-data-6ebddc01a00f), how useful are autoencoders in  automated labeling. The main property of these networks is their ability to learn features/patterns in the data. This is in fact not specific to autoencoders and can be implemented using other unsupervised techniques, mainly **PCA**.  \r\n",
    "The ability to detect and learn features in data can be used in other areas.  \r\n",
    "\r\n",
    "In this post, I will present some applications of convolutional autoencoders:  \r\n",
    "- First, a convolutional autoencoder will be trained on **MNIST** data.\r\n",
    "- After the training of the encoder and decoder, we will freeze their weights and use them with additional dense layers to \"learn\" arithmetic operations, namely addition, multiplication and comparison.  \r\n",
    "The trick is to *never* explicitly associate the handwritten digits in **MNIST** dataset with their respective labels. We will see that the neural networks will be nevertheless able to reach 97+% accuracy in all cases on unseen data.\r\n",
    "\r\n",
    "The first step is described in the following diagram:\r\n",
    "<p align=\"center\"> <img src=\"https://i.imgur.com/chLUEdp.png\"> </p>   "
   ],
   "metadata": {}
  },
  {
   "cell_type": "markdown",
   "source": [
    "In the second step, we will use the encoder in series with dense layers to perform arithmetic operations: addition, multiplication and comparison. We will train only the dense layer weights, and supply the results of the operations as labels. note that we will not supply the digits values (labels).\r\n",
    "\r\n",
    "<p align=\"center\"> <img src=\"https://i.imgur.com/s8U8up4.png\"> </p> \r\n"
   ],
   "metadata": {}
  },
  {
   "cell_type": "markdown",
   "source": [
    "# Training an autoencoder on MNIST data"
   ],
   "metadata": {}
  },
  {
   "cell_type": "markdown",
   "source": [
    "Similar to the previous article, we will use MNIST data in this experiment. The autoencoder will learn the handwritten digits features using 60000 training samples. We import MNIST using *KERAS* library."
   ],
   "metadata": {}
  },
  {
   "cell_type": "code",
   "execution_count": 1,
   "source": [
    "#import libraries and setup \r\n",
    "import keras\r\n",
    "import numpy as np\r\n",
    "import matplotlib.pyplot as plt\r\n",
    "%matplotlib inline\r\n",
    "import logging\r\n",
    "logging.getLogger('tensorflow').disabled = True\r\n",
    "from keras.models import Sequential, Model\r\n",
    "from keras.layers import Dense, Conv2D, Flatten, MaxPooling2D, UpSampling2D, Reshape, Concatenate, Input\r\n",
    "from keras.callbacks import EarlyStopping\r\n",
    "from tensorflow.keras.utils import to_categorical\r\n",
    "es = EarlyStopping(monitor='val_loss', mode='min', verbose=2, patience=10, restore_best_weights=True)"
   ],
   "outputs": [],
   "metadata": {}
  },
  {
   "cell_type": "code",
   "execution_count": 2,
   "source": [
    "# import mnist\r\n",
    "(x_train, y_train), (x_test, y_test) = keras.datasets.mnist.load_data()\r\n",
    "print(x_train.shape,y_train.shape)"
   ],
   "outputs": [
    {
     "output_type": "stream",
     "name": "stdout",
     "text": [
      "(60000, 28, 28) (60000,)\n"
     ]
    }
   ],
   "metadata": {}
  },
  {
   "cell_type": "markdown",
   "source": [
    "We scale the data in the range `[0,1]` and reshape it to *KERAS* format for pictures (nbr_samples x width x height x channels) "
   ],
   "metadata": {}
  },
  {
   "cell_type": "code",
   "execution_count": 3,
   "source": [
    "#normalize data\r\n",
    "if x_train.max() >1:\r\n",
    "    x_train = x_train / 255\r\n",
    "    x_test = x_test / 255\r\n",
    "\r\n",
    "default_shape = x_train.shape\r\n",
    "#reshape input data to 1 channel\r\n",
    "x_train = x_train.reshape(-1,default_shape[1],default_shape[2],1)\r\n",
    "x_test = x_test.reshape(-1,default_shape[1],default_shape[2],1)\r\n",
    "image_dim = x_train.shape[1:]"
   ],
   "outputs": [],
   "metadata": {}
  },
  {
   "cell_type": "markdown",
   "source": [
    "We will implement a similar autoencoder architecture as in [[1]](https://blog.jovian.ai/how-to-train-supervised-machine-learning-algorithms-without-labeled-data-6ebddc01a00f). It is based on a series of convolutional layers, that will gradually encode the 28x28 image (784 pixel) into a 100 elements array, and decode that representation back to the original format. The resulting image -after the training step- will hopefully resemble to the original one."
   ],
   "metadata": {}
  },
  {
   "cell_type": "code",
   "execution_count": 4,
   "source": [
    "# create an autoencoder / decoder \r\n",
    "encoder = Sequential()\r\n",
    "encoder.add(Conv2D(32,kernel_size=(3,3), strides=(1,1),padding='same', activation='selu',input_shape=image_dim))\r\n",
    "encoder.add(MaxPooling2D(2,2))\r\n",
    "encoder.add(Conv2D(64,kernel_size=(3,3), strides=(1,1),padding='same',activation='selu'))\r\n",
    "encoder.add(MaxPooling2D(2,2))\r\n",
    "encoder.add(Conv2D(128,kernel_size=(3,3), strides=(1,1),padding='same',activation='selu'))\r\n",
    "encoder.add(Flatten())\r\n",
    "encoder.add(Dense(100,activation='sigmoid'))\r\n",
    "encoder.summary()"
   ],
   "outputs": [
    {
     "output_type": "stream",
     "name": "stdout",
     "text": [
      "Model: \"sequential\"\n",
      "_________________________________________________________________\n",
      "Layer (type)                 Output Shape              Param #   \n",
      "=================================================================\n",
      "conv2d (Conv2D)              (None, 28, 28, 32)        320       \n",
      "_________________________________________________________________\n",
      "max_pooling2d (MaxPooling2D) (None, 14, 14, 32)        0         \n",
      "_________________________________________________________________\n",
      "conv2d_1 (Conv2D)            (None, 14, 14, 64)        18496     \n",
      "_________________________________________________________________\n",
      "max_pooling2d_1 (MaxPooling2 (None, 7, 7, 64)          0         \n",
      "_________________________________________________________________\n",
      "conv2d_2 (Conv2D)            (None, 7, 7, 128)         73856     \n",
      "_________________________________________________________________\n",
      "flatten (Flatten)            (None, 6272)              0         \n",
      "_________________________________________________________________\n",
      "dense (Dense)                (None, 100)               627300    \n",
      "=================================================================\n",
      "Total params: 719,972\n",
      "Trainable params: 719,972\n",
      "Non-trainable params: 0\n",
      "_________________________________________________________________\n"
     ]
    }
   ],
   "metadata": {}
  },
  {
   "cell_type": "code",
   "execution_count": 5,
   "source": [
    "encoder_out_dim = encoder.layers[-1].output_shape[1:] # dimension of the encoder output"
   ],
   "outputs": [],
   "metadata": {}
  },
  {
   "cell_type": "code",
   "execution_count": 6,
   "source": [
    "decoder = Sequential()\r\n",
    "decoder.add(Dense(6272, activation='sigmoid', input_shape=encoder_out_dim))\r\n",
    "decoder.add(Reshape(( 7, 7, 128)))\r\n",
    "decoder.add(Conv2D(128,kernel_size=(3,3), strides=(1,1),padding='same', activation='selu'))\r\n",
    "decoder.add(UpSampling2D((2,2)))\r\n",
    "decoder.add(Conv2D(64,kernel_size=(3,3), strides=(1,1),padding='same', activation='selu'))\r\n",
    "decoder.add(UpSampling2D((2,2)))\r\n",
    "decoder.add(Conv2D(1,kernel_size=(3,3), strides=(1,1),padding='same', activation='sigmoid'))\r\n",
    "\r\n",
    "decoder.summary()"
   ],
   "outputs": [
    {
     "output_type": "stream",
     "name": "stdout",
     "text": [
      "Model: \"sequential_1\"\n",
      "_________________________________________________________________\n",
      "Layer (type)                 Output Shape              Param #   \n",
      "=================================================================\n",
      "dense_1 (Dense)              (None, 6272)              633472    \n",
      "_________________________________________________________________\n",
      "reshape (Reshape)            (None, 7, 7, 128)         0         \n",
      "_________________________________________________________________\n",
      "conv2d_3 (Conv2D)            (None, 7, 7, 128)         147584    \n",
      "_________________________________________________________________\n",
      "up_sampling2d (UpSampling2D) (None, 14, 14, 128)       0         \n",
      "_________________________________________________________________\n",
      "conv2d_4 (Conv2D)            (None, 14, 14, 64)        73792     \n",
      "_________________________________________________________________\n",
      "up_sampling2d_1 (UpSampling2 (None, 28, 28, 64)        0         \n",
      "_________________________________________________________________\n",
      "conv2d_5 (Conv2D)            (None, 28, 28, 1)         577       \n",
      "=================================================================\n",
      "Total params: 855,425\n",
      "Trainable params: 855,425\n",
      "Non-trainable params: 0\n",
      "_________________________________________________________________\n"
     ]
    }
   ],
   "metadata": {}
  },
  {
   "cell_type": "markdown",
   "source": [
    "The autoencoder is created using the encoder and the decoder:"
   ],
   "metadata": {}
  },
  {
   "cell_type": "code",
   "execution_count": 7,
   "source": [
    "enc_dec = Sequential([encoder,decoder])\r\n",
    "enc_dec.summary()"
   ],
   "outputs": [
    {
     "output_type": "stream",
     "name": "stdout",
     "text": [
      "Model: \"sequential_2\"\n",
      "_________________________________________________________________\n",
      "Layer (type)                 Output Shape              Param #   \n",
      "=================================================================\n",
      "sequential (Sequential)      (None, 100)               719972    \n",
      "_________________________________________________________________\n",
      "sequential_1 (Sequential)    (None, 28, 28, 1)         855425    \n",
      "=================================================================\n",
      "Total params: 1,575,397\n",
      "Trainable params: 1,575,397\n",
      "Non-trainable params: 0\n",
      "_________________________________________________________________\n"
     ]
    }
   ],
   "metadata": {}
  },
  {
   "cell_type": "markdown",
   "source": [
    "It will be trained as a set of binary classifiers for each pixel."
   ],
   "metadata": {}
  },
  {
   "cell_type": "code",
   "execution_count": 8,
   "source": [
    "enc_dec.compile(optimizer='nadam', loss = 'binary_crossentropy')\r\n",
    "history = enc_dec.fit(x_train,x_train, batch_size=100,epochs=1000,validation_split=0.2, verbose=2,callbacks=[es,es])"
   ],
   "outputs": [
    {
     "output_type": "stream",
     "name": "stdout",
     "text": [
      "Epoch 1/1000\n",
      "480/480 - 14s - loss: 0.2756 - val_loss: 0.2126\n",
      "Epoch 2/1000\n",
      "480/480 - 14s - loss: 0.1451 - val_loss: 0.1127\n",
      "Epoch 3/1000\n",
      "480/480 - 14s - loss: 0.1053 - val_loss: 0.0915\n",
      "Epoch 4/1000\n",
      "480/480 - 14s - loss: 0.0881 - val_loss: 0.0849\n",
      "Epoch 5/1000\n",
      "480/480 - 14s - loss: 0.0805 - val_loss: 0.0781\n",
      "Epoch 6/1000\n",
      "480/480 - 14s - loss: 0.0771 - val_loss: 0.0765\n",
      "Epoch 7/1000\n",
      "480/480 - 14s - loss: 0.0749 - val_loss: 0.0744\n",
      "Epoch 8/1000\n",
      "480/480 - 14s - loss: 0.0734 - val_loss: 0.0736\n",
      "Epoch 9/1000\n",
      "480/480 - 14s - loss: 0.0724 - val_loss: 0.0735\n",
      "Epoch 10/1000\n",
      "480/480 - 14s - loss: 0.0715 - val_loss: 0.0724\n",
      "Epoch 11/1000\n",
      "480/480 - 14s - loss: 0.0707 - val_loss: 0.0717\n",
      "Epoch 12/1000\n",
      "480/480 - 14s - loss: 0.3967 - val_loss: 0.2242\n",
      "Epoch 13/1000\n",
      "480/480 - 14s - loss: 0.2060 - val_loss: 0.1908\n",
      "Epoch 14/1000\n",
      "480/480 - 14s - loss: 0.1805 - val_loss: 0.1718\n",
      "Epoch 15/1000\n",
      "480/480 - 14s - loss: 0.1670 - val_loss: 0.1583\n",
      "Epoch 16/1000\n",
      "Restoring model weights from the end of the best epoch.\n",
      "Restoring model weights from the end of the best epoch.\n",
      "480/480 - 14s - loss: 0.1597 - val_loss: 0.1598\n",
      "Epoch 00016: early stopping\n",
      "Epoch 00016: early stopping\n"
     ]
    }
   ],
   "metadata": {}
  },
  {
   "cell_type": "markdown",
   "source": [
    "The early stopping will make sure the autoencoder will not overfit the training data. There are two ways to verify the network. First, we can evaluate the loss function on test data, and expect it to be close to the loss value on the training data."
   ],
   "metadata": {}
  },
  {
   "cell_type": "code",
   "execution_count": 9,
   "source": [
    "enc_dec.evaluate(x_test,x_test,batch_size=1000)"
   ],
   "outputs": [
    {
     "output_type": "stream",
     "name": "stdout",
     "text": [
      "10/10 [==============================] - 1s 69ms/step - loss: 0.0706\n"
     ]
    },
    {
     "output_type": "execute_result",
     "data": {
      "text/plain": [
       "0.07063404470682144"
      ]
     },
     "metadata": {},
     "execution_count": 9
    }
   ],
   "metadata": {}
  },
  {
   "cell_type": "code",
   "execution_count": 10,
   "source": [
    "enc_dec.evaluate(x_train,x_train,batch_size=1000)"
   ],
   "outputs": [
    {
     "output_type": "stream",
     "name": "stdout",
     "text": [
      "60/60 [==============================] - 4s 75ms/step - loss: 0.0709\n"
     ]
    },
    {
     "output_type": "execute_result",
     "data": {
      "text/plain": [
       "0.0709402784705162"
      ]
     },
     "metadata": {},
     "execution_count": 10
    }
   ],
   "metadata": {}
  },
  {
   "cell_type": "markdown",
   "source": [
    "It is very close, around `0.08` for both data sets. The second method is to check the resulting reconstitution that we obtain for a random sample from the test data."
   ],
   "metadata": {}
  },
  {
   "cell_type": "code",
   "execution_count": 11,
   "source": [
    "random_label = np.random.randint(0,9999)\r\n",
    "img_sample = x_test[random_label,:,:].reshape((1,28,28,1))\r\n",
    "plt.imshow(img_sample.reshape(28,28), cmap='gray');\r\n",
    "pred_img = enc_dec.predict(img_sample) \r\n",
    "plt.figure();\r\n",
    "plt.imshow(pred_img.reshape(28,28), cmap='gray');"
   ],
   "outputs": [
    {
     "output_type": "display_data",
     "data": {
      "image/png": "[encoded data removed]",
      "text/plain": [
       "<Figure size 432x288 with 1 Axes>"
      ]
     },
     "metadata": {
      "needs_background": "light"
     }
    },
    {
     "output_type": "display_data",
     "data": {
      "image/png": "[encoded data removed]",
      "text/plain": [
       "<Figure size 432x288 with 1 Axes>"
      ]
     },
     "metadata": {
      "needs_background": "light"
     }
    }
   ],
   "metadata": {}
  },
  {
   "cell_type": "markdown",
   "source": [
    "*A picture is worth a thousand words!*"
   ],
   "metadata": {}
  },
  {
   "cell_type": "code",
   "execution_count": 12,
   "source": [
    "# save models\r\n",
    "encoder.save('encoder')\r\n",
    "decoder.save('decoder')"
   ],
   "outputs": [],
   "metadata": {}
  },
  {
   "cell_type": "markdown",
   "source": [
    "Now we have a trained encoder and decoder, let's focus on the *encoder*. For each image, the encoder generates a representation that captures most of the interesting features. This representation is sufficient to reconstitute the image using the decoder. Here is the representation of the sample image we used earlier: "
   ],
   "metadata": {}
  },
  {
   "cell_type": "code",
   "execution_count": 15,
   "source": [
    "representation_sample = encoder.predict(img_sample)\r\n",
    "print(representation_sample) "
   ],
   "outputs": [
    {
     "output_type": "stream",
     "name": "stdout",
     "text": [
      "[[0.6849651  0.34472713 0.25619155 0.23160648 0.35074276 0.4103539\n",
      "  0.55013055 0.42363262 0.7040259  0.23800915 0.53551245 0.24630167\n",
      "  0.2833512  0.69841975 0.3863604  0.43630293 0.28270313 0.5658907\n",
      "  0.49058506 0.3138075  0.29558608 0.14503041 0.75979453 0.30793226\n",
      "  0.6165079  0.8603799  0.11150015 0.29174513 0.20776507 0.6789288\n",
      "  0.4460373  0.49379033 0.3403997  0.36270043 0.57579    0.04207095\n",
      "  0.3040763  0.23057008 0.29035312 0.25128216 0.6152144  0.32471436\n",
      "  0.38769412 0.5180744  0.24011672 0.4718439  0.36379343 0.27261958\n",
      "  0.28814137 0.6392059  0.17767033 0.71380717 0.4549716  0.5914341\n",
      "  0.23667179 0.7512161  0.12477065 0.8605879  0.45556203 0.56907356\n",
      "  0.18660522 0.8400206  0.23126473 0.46350786 0.4202994  0.82483053\n",
      "  0.3710613  0.641825   0.6676602  0.6502603  0.43319064 0.3773252\n",
      "  0.5582269  0.29559913 0.39784604 0.35061973 0.2739762  0.83289695\n",
      "  0.27447444 0.8513281  0.31333598 0.8286474  0.23605205 0.66181344\n",
      "  0.41684836 0.18566875 0.17606455 0.08330443 0.2633508  0.2381282\n",
      "  0.18036781 0.18296862 0.4178621  0.31270486 0.718782   0.6546726\n",
      "  0.57775927 0.8699209  0.70749027 0.5330907 ]]\n"
     ]
    }
   ],
   "metadata": {}
  },
  {
   "cell_type": "markdown",
   "source": [
    "Using these 100 numbers, we generate a 28x28 image (784 pixels)."
   ],
   "metadata": {}
  },
  {
   "cell_type": "code",
   "execution_count": 16,
   "source": [
    "recons_image = decoder.predict(representation_sample)\r\n",
    "plt.imshow(recons_image.reshape(28,28), cmap='gray');"
   ],
   "outputs": [
    {
     "output_type": "display_data",
     "data": {
      "image/png": "[encoded data removed]",
      "text/plain": [
       "<Figure size 432x288 with 1 Axes>"
      ]
     },
     "metadata": {
      "needs_background": "light"
     }
    }
   ],
   "metadata": {}
  },
  {
   "cell_type": "markdown",
   "source": [
    "And here is where the *fun part* begins! using the lower-dimension representation, let's do some math."
   ],
   "metadata": {}
  },
  {
   "cell_type": "markdown",
   "source": [
    "# Learning arithmetic operations on handwritten digits"
   ],
   "metadata": {}
  },
  {
   "cell_type": "markdown",
   "source": [
    "The idea is simple. Using the representation of two images, we train a neural network to compute their sum, product and to compare them. We will not provide the value of each digit, but we will provide the results during the training step.  \r\n",
    "We will be performing addition and multiplication between numbers in the range [0-9]. The results will be in the range [0-18] and [0-81] respectively. So the results will be coded using multiple outputs:  \r\n",
    "1- Sum Units, multiclass output [0,1,2,3,4,5,6,7,8,9]  \r\n",
    "2- Sum tens, binary output [0,1]  \r\n",
    "3- Multiplication Units, multiclass output [0,1,2,3,4,5,6,7,8,9]  \r\n",
    "4- Multiplication tens, multiclass output [0,1,2,3,4,5,6,7,8]  \r\n",
    "5- Comparison, binary output [0,1]  \r\n",
    "\r\n",
    "\r\n",
    "<p align=\"center\"> <img src=\"https://i.imgur.com/E5unC7Y.png\"> </p> \r\n"
   ],
   "metadata": {}
  },
  {
   "cell_type": "markdown",
   "source": [
    "Using the functional API in *KERAS* we define the network architecture. First, we import the encoder *twice* and freeze its weights:"
   ],
   "metadata": {}
  },
  {
   "cell_type": "code",
   "execution_count": 17,
   "source": [
    "# duplicate encoders and freeze weights\r\n",
    "encoder1 = keras.models.load_model('encoder') \r\n",
    "encoder1._name = 'encoder1'\r\n",
    "encoder1.trainable = False\r\n",
    "\r\n",
    "encoder2 = keras.models.load_model('encoder')\r\n",
    "encoder2._name = 'encoder2'\r\n",
    "encoder2.trainable = False"
   ],
   "outputs": [],
   "metadata": {}
  },
  {
   "cell_type": "markdown",
   "source": [
    "Using the encoders, we build the model:"
   ],
   "metadata": {}
  },
  {
   "cell_type": "code",
   "execution_count": 18,
   "source": [
    "# create model to learn it all\r\n",
    "input1 = Input(shape=image_dim)\r\n",
    "input2 = Input(shape=image_dim)\r\n",
    "enc1_out = encoder1(input1)\r\n",
    "enc2_out = encoder2(input2)\r\n",
    "model_c = Concatenate()([enc1_out,enc2_out])\r\n",
    "model_c = Dense(1000,activation='relu')(model_c)\r\n",
    "\r\n",
    "model_b1 = Dense(200,activation='relu')(model_c)\r\n",
    "model_b2 = Dense(200,activation='relu')(model_c)\r\n",
    "model_b3 = Dense(200,activation='relu')(model_c)\r\n",
    "model_b4 = Dense(200,activation='relu')(model_c)\r\n",
    "model_b5 = Dense(200,activation='relu')(model_c)\r\n",
    "\r\n",
    "\r\n",
    "\r\n",
    "units_add =  Dense(10,activation='softmax',name ='units_add')(model_b1)\r\n",
    "tens_add = Dense(1,activation='sigmoid',name ='tens_add')(model_b2)\r\n",
    "\r\n",
    "units_mult =  Dense(10,activation='softmax',name ='units_mult')(model_b3)\r\n",
    "tens_mult = Dense(9,activation='softmax',name ='tens_mult')(model_b4)\r\n",
    "\r\n",
    "comp =  Dense(1,activation='sigmoid',name ='comp')(model_b5)\r\n",
    "\r\n",
    "\r\n",
    "\r\n",
    "model_complete = Model(inputs=[input1,input2],outputs=[units_add,tens_add,units_mult,tens_mult,comp])\r\n",
    "\r\n",
    "model_complete.compile(optimizer='nadam', loss = ['categorical_crossentropy','binary_crossentropy','categorical_crossentropy','categorical_crossentropy','binary_crossentropy'], metrics=['acc'])"
   ],
   "outputs": [],
   "metadata": {}
  },
  {
   "cell_type": "markdown",
   "source": [
    "This model has two inputs (the two handwritten digits images) and five outputs (units and tens of the sum and product plus the comparsion result). We will use two different losses due to the nature of the outputs. Note that there is a common hidden layer of 1000 units, and then five branches (one for each output).  \r\n",
    "We need to create datasets to train and test our model. Inputs will be random combinations of handwritten digits. Outputs will be the expected results for each combination. "
   ],
   "metadata": {}
  },
  {
   "cell_type": "code",
   "execution_count": 19,
   "source": [
    "# generate a dataset for additions\r\n",
    "train_size = 500000\r\n",
    "random_labels1 = np.random.randint(0,25000,train_size)\r\n",
    "random_labels2 = np.random.randint(0,25000,train_size)\r\n",
    "\r\n",
    "x_train_1 = x_train[random_labels1]\r\n",
    "x_train_2 = x_train[random_labels2]\r\n",
    "\r\n",
    "y_train_1 = y_train[random_labels1]\r\n",
    "y_train_2 = y_train[random_labels2]\r\n",
    "\r\n",
    "y_add = y_train_1 + y_train_2\r\n",
    "y_add_tens = y_add //10 \r\n",
    "y_add_units = y_add %10 \r\n",
    "y_add_units_cat = to_categorical(y_add_units)\r\n",
    "\r\n",
    "\r\n",
    "# the same with x_test\r\n",
    "test_size = 5000\r\n",
    "random_labels1 = np.random.randint(0,10000,test_size)\r\n",
    "random_labels2 = np.random.randint(0,10000,test_size)\r\n",
    "\r\n",
    "x_test_1 = x_test[random_labels1]\r\n",
    "x_test_2 = x_test[random_labels2]\r\n",
    "\r\n",
    "y_test_1 = y_test[random_labels1]\r\n",
    "y_test_2 = y_test[random_labels2]\r\n",
    "\r\n",
    "y_test_add = y_test_1 + y_test_2\r\n",
    "y_test_add_tens = y_test_add //10 \r\n",
    "y_test_add_units = y_test_add %10 \r\n",
    "y_test_add_units_cat = to_categorical(y_test_add_units)\r\n",
    "\r\n",
    "# generate a dataset for multiplication\r\n",
    "\r\n",
    "y_mult = y_train_1 * y_train_2\r\n",
    "y_mult_tens = y_mult //10 \r\n",
    "y_mult_units = y_mult %10 \r\n",
    "y_mult_units_cat = to_categorical(y_mult_units)\r\n",
    "y_mult_tens_cat = to_categorical(y_mult_tens)\r\n",
    "\r\n",
    "# the same with x_test\r\n",
    "\r\n",
    "y_test_mult = y_test_1 * y_test_2\r\n",
    "y_test_mult_tens = y_test_mult //10 \r\n",
    "y_test_mult_units = y_test_mult %10 \r\n",
    "y_test_mult_units_cat = to_categorical(y_test_mult_units)\r\n",
    "y_test_mult_tens_cat = to_categorical(y_test_mult_tens)\r\n",
    "\r\n",
    "# generate a dataset for comparison\r\n",
    "y_comp = y_train_1 > y_train_2\r\n",
    "\r\n",
    "# the same with x_test\r\n",
    "y_test_comp = y_test_1 > y_test_2"
   ],
   "outputs": [],
   "metadata": {}
  },
  {
   "cell_type": "markdown",
   "source": [
    "Now we are ready to train our model! "
   ],
   "metadata": {}
  },
  {
   "cell_type": "code",
   "execution_count": 20,
   "source": [
    "history = model_complete.fit([x_train_1,x_train_2],[y_add_units_cat,y_add_tens,y_mult_units_cat,y_mult_tens_cat,y_comp], batch_size=1000,epochs=1000,validation_split=0.2, verbose=1,callbacks=[es,es,es,es,es,es])"
   ],
   "outputs": [
    {
     "output_type": "stream",
     "name": "stdout",
     "text": [
      "Epoch 1/1000\n",
      "400/400 [==============================] - 30s 75ms/step - loss: 4.4237 - units_add_loss: 1.4769 - tens_add_loss: 0.4029 - units_mult_loss: 1.1752 - tens_mult_loss: 0.9817 - comp_loss: 0.3870 - units_add_acc: 0.5030 - tens_add_acc: 0.8071 - units_mult_acc: 0.5929 - tens_mult_acc: 0.6451 - comp_acc: 0.8187 - val_loss: 2.6440 - val_units_add_loss: 0.8241 - val_tens_add_loss: 0.2876 - val_units_mult_loss: 0.6680 - val_tens_mult_loss: 0.5897 - val_comp_loss: 0.2746 - val_units_add_acc: 0.7474 - val_tens_add_acc: 0.8761 - val_units_mult_acc: 0.7851 - val_tens_mult_acc: 0.8000 - val_comp_acc: 0.8788\n",
      "Epoch 2/1000\n",
      "400/400 [==============================] - 29s 73ms/step - loss: 1.9248 - units_add_loss: 0.6146 - tens_add_loss: 0.1969 - units_mult_loss: 0.4890 - tens_mult_loss: 0.4288 - comp_loss: 0.1955 - units_add_acc: 0.8112 - tens_add_acc: 0.9229 - units_mult_acc: 0.8462 - tens_mult_acc: 0.8596 - comp_acc: 0.9230 - val_loss: 1.4771 - val_units_add_loss: 0.4828 - val_tens_add_loss: 0.1505 - val_units_mult_loss: 0.3745 - val_tens_mult_loss: 0.3205 - val_comp_loss: 0.1489 - val_units_add_acc: 0.8526 - val_tens_add_acc: 0.9436 - val_units_mult_acc: 0.8830 - val_tens_mult_acc: 0.8971 - val_comp_acc: 0.9440\n",
      "Epoch 3/1000\n",
      "400/400 [==============================] - 29s 73ms/step - loss: 1.2749 - units_add_loss: 0.4142 - tens_add_loss: 0.1309 - units_mult_loss: 0.3203 - tens_mult_loss: 0.2797 - comp_loss: 0.1298 - units_add_acc: 0.8747 - tens_add_acc: 0.9521 - units_mult_acc: 0.9012 - tens_mult_acc: 0.9105 - comp_acc: 0.9517 - val_loss: 1.1615 - val_units_add_loss: 0.3635 - val_tens_add_loss: 0.1507 - val_units_mult_loss: 0.2710 - val_tens_mult_loss: 0.2620 - val_comp_loss: 0.1145 - val_units_add_acc: 0.8867 - val_tens_add_acc: 0.9415 - val_units_mult_acc: 0.9139 - val_tens_mult_acc: 0.9128 - val_comp_acc: 0.9584\n",
      "Epoch 4/1000\n",
      "400/400 [==============================] - 30s 74ms/step - loss: 0.9157 - units_add_loss: 0.2978 - tens_add_loss: 0.0943 - units_mult_loss: 0.2280 - tens_mult_loss: 0.2014 - comp_loss: 0.0942 - units_add_acc: 0.9102 - tens_add_acc: 0.9665 - units_mult_acc: 0.9298 - tens_mult_acc: 0.9359 - comp_acc: 0.9663 - val_loss: 0.7949 - val_units_add_loss: 0.2587 - val_tens_add_loss: 0.0841 - val_units_mult_loss: 0.1957 - val_tens_mult_loss: 0.1753 - val_comp_loss: 0.0811 - val_units_add_acc: 0.9218 - val_tens_add_acc: 0.9705 - val_units_mult_acc: 0.9388 - val_tens_mult_acc: 0.9441 - val_comp_acc: 0.9714\n",
      "Epoch 5/1000\n",
      "400/400 [==============================] - 29s 74ms/step - loss: 0.6795 - units_add_loss: 0.2184 - tens_add_loss: 0.0709 - units_mult_loss: 0.1685 - tens_mult_loss: 0.1496 - comp_loss: 0.0721 - units_add_acc: 0.9341 - tens_add_acc: 0.9751 - units_mult_acc: 0.9483 - tens_mult_acc: 0.9523 - comp_acc: 0.9747 - val_loss: 0.6265 - val_units_add_loss: 0.2025 - val_tens_add_loss: 0.0655 - val_units_mult_loss: 0.1523 - val_tens_mult_loss: 0.1399 - val_comp_loss: 0.0663 - val_units_add_acc: 0.9376 - val_tens_add_acc: 0.9773 - val_units_mult_acc: 0.9522 - val_tens_mult_acc: 0.9542 - val_comp_acc: 0.9761\n",
      "Epoch 6/1000\n",
      "400/400 [==============================] - 30s 74ms/step - loss: 0.5089 - units_add_loss: 0.1611 - tens_add_loss: 0.0539 - units_mult_loss: 0.1258 - tens_mult_loss: 0.1127 - comp_loss: 0.0553 - units_add_acc: 0.9518 - tens_add_acc: 0.9816 - units_mult_acc: 0.9615 - tens_mult_acc: 0.9646 - comp_acc: 0.9809 - val_loss: 0.4843 - val_units_add_loss: 0.1541 - val_tens_add_loss: 0.0515 - val_units_mult_loss: 0.1219 - val_tens_mult_loss: 0.1051 - val_comp_loss: 0.0517 - val_units_add_acc: 0.9534 - val_tens_add_acc: 0.9819 - val_units_mult_acc: 0.9628 - val_tens_mult_acc: 0.9668 - val_comp_acc: 0.9819\n",
      "Epoch 7/1000\n",
      "400/400 [==============================] - 30s 74ms/step - loss: 0.3879 - units_add_loss: 0.1213 - tens_add_loss: 0.0420 - units_mult_loss: 0.0952 - tens_mult_loss: 0.0859 - comp_loss: 0.0435 - units_add_acc: 0.9642 - tens_add_acc: 0.9860 - units_mult_acc: 0.9710 - tens_mult_acc: 0.9732 - comp_acc: 0.9855 - val_loss: 0.4573 - val_units_add_loss: 0.1453 - val_tens_add_loss: 0.0552 - val_units_mult_loss: 0.1067 - val_tens_mult_loss: 0.0979 - val_comp_loss: 0.0521 - val_units_add_acc: 0.9540 - val_tens_add_acc: 0.9795 - val_units_mult_acc: 0.9665 - val_tens_mult_acc: 0.9674 - val_comp_acc: 0.9809\n",
      "Epoch 8/1000\n",
      "400/400 [==============================] - 29s 73ms/step - loss: 0.2896 - units_add_loss: 0.0894 - tens_add_loss: 0.0320 - units_mult_loss: 0.0706 - tens_mult_loss: 0.0642 - comp_loss: 0.0334 - units_add_acc: 0.9740 - tens_add_acc: 0.9896 - units_mult_acc: 0.9791 - tens_mult_acc: 0.9801 - comp_acc: 0.9888 - val_loss: 0.3066 - val_units_add_loss: 0.0952 - val_tens_add_loss: 0.0341 - val_units_mult_loss: 0.0746 - val_tens_mult_loss: 0.0673 - val_comp_loss: 0.0355 - val_units_add_acc: 0.9712 - val_tens_add_acc: 0.9884 - val_units_mult_acc: 0.9773 - val_tens_mult_acc: 0.9786 - val_comp_acc: 0.9878\n",
      "Epoch 9/1000\n",
      "400/400 [==============================] - 31s 77ms/step - loss: 0.2181 - units_add_loss: 0.0658 - tens_add_loss: 0.0250 - units_mult_loss: 0.0529 - tens_mult_loss: 0.0483 - comp_loss: 0.0261 - units_add_acc: 0.9815 - tens_add_acc: 0.9920 - units_mult_acc: 0.9845 - tens_mult_acc: 0.9855 - comp_acc: 0.9917 - val_loss: 0.2575 - val_units_add_loss: 0.0790 - val_tens_add_loss: 0.0296 - val_units_mult_loss: 0.0636 - val_tens_mult_loss: 0.0565 - val_comp_loss: 0.0289 - val_units_add_acc: 0.9752 - val_tens_add_acc: 0.9898 - val_units_mult_acc: 0.9802 - val_tens_mult_acc: 0.9819 - val_comp_acc: 0.9899\n",
      "Epoch 10/1000\n",
      "400/400 [==============================] - ETA: 0s - loss: 0.7182 - units_add_loss: 0.2014 - tens_add_loss: 0.1066 - units_mult_loss: 0.1641 - tens_mult_loss: 0.1737 - comp_loss: 0.0724 - units_add_acc: 0.9521 - tens_add_acc: 0.9788 - units_mult_acc: 0.9612 - tens_mult_acc: 0.9635 - comp_acc: 0.9795Restoring model weights from the end of the best epoch.\n",
      "Restoring model weights from the end of the best epoch.\n",
      "400/400 [==============================] - 29s 72ms/step - loss: 0.7182 - units_add_loss: 0.2014 - tens_add_loss: 0.1066 - units_mult_loss: 0.1641 - tens_mult_loss: 0.1737 - comp_loss: 0.0724 - units_add_acc: 0.9521 - tens_add_acc: 0.9788 - units_mult_acc: 0.9612 - tens_mult_acc: 0.9635 - comp_acc: 0.9795 - val_loss: 0.5373 - val_units_add_loss: 0.1700 - val_tens_add_loss: 0.0588 - val_units_mult_loss: 0.1300 - val_tens_mult_loss: 0.1199 - val_comp_loss: 0.0587 - val_units_add_acc: 0.9486 - val_tens_add_acc: 0.9797 - val_units_mult_acc: 0.9592 - val_tens_mult_acc: 0.9621 - val_comp_acc: 0.9797\n",
      "Epoch 00010: early stopping\n",
      "Epoch 00010: early stopping\n",
      "Epoch 00010: early stopping\n",
      "Epoch 00010: early stopping\n",
      "Epoch 00010: early stopping\n",
      "Epoch 00010: early stopping\n"
     ]
    }
   ],
   "metadata": {}
  },
  {
   "cell_type": "markdown",
   "source": [
    "At the end of the training, the accuracy on all outputs is pretty good (9x%). Let's see first how the model performs on the test data."
   ],
   "metadata": {}
  },
  {
   "cell_type": "code",
   "execution_count": 21,
   "source": [
    "test = model_complete.evaluate([x_test_1,x_test_2],[y_test_add_units_cat,y_test_add_tens,y_test_mult_units_cat,y_test_mult_tens_cat,y_test_comp], batch_size=100)"
   ],
   "outputs": [
    {
     "output_type": "stream",
     "name": "stdout",
     "text": [
      "50/50 [==============================] - 1s 12ms/step - loss: 0.6568 - units_add_loss: 0.2018 - tens_add_loss: 0.0821 - units_mult_loss: 0.1564 - tens_mult_loss: 0.1448 - comp_loss: 0.0717 - units_add_acc: 0.9378 - tens_add_acc: 0.9742 - units_mult_acc: 0.9522 - tens_mult_acc: 0.9536 - comp_acc: 0.9762\n"
     ]
    }
   ],
   "metadata": {}
  },
  {
   "cell_type": "markdown",
   "source": [
    "Results are still in the 9x%. We can show a random sample of the model predictions."
   ],
   "metadata": {}
  },
  {
   "cell_type": "code",
   "execution_count": 22,
   "source": [
    "random_label_1 = np.random.randint(0,9999)\r\n",
    "random_label_2 = np.random.randint(0,9999)\r\n",
    "\r\n",
    "img_sample1 = x_test[random_label_1,:,:].reshape((1,28,28,1))\r\n",
    "img_sample2 = x_test[random_label_2,:,:].reshape((1,28,28,1))\r\n",
    "\r\n",
    "plt.subplot(1,2,1)\r\n",
    "plt.imshow(img_sample1.reshape(28,28), cmap='gray');\r\n",
    "\r\n",
    "plt.subplot(1,2,2)\r\n",
    "plt.imshow(img_sample2.reshape(28,28), cmap='gray');\r\n",
    "\r\n",
    "prediction = model_complete.predict([img_sample1,img_sample2])\r\n",
    "unit_add = prediction[0]\r\n",
    "ten_add = prediction[1]\r\n",
    "unit_mult = prediction[2]\r\n",
    "ten_mult = prediction[3]\r\n",
    "comp_images = prediction[4]\r\n",
    "\r\n",
    "sum_images = np.argmax(unit_add)+10*np.round(ten_add)\r\n",
    "print('sum =',sum_images)\r\n",
    "\r\n",
    "\r\n",
    "mult_images = np.argmax(unit_mult)+10*np.argmax(ten_mult)\r\n",
    "print('product =',mult_images)\r\n",
    "\r\n",
    "print('comparison result =',np.round(comp_images),'(1 if the number on the left is greater, 0 elsewhere)')"
   ],
   "outputs": [
    {
     "output_type": "stream",
     "name": "stdout",
     "text": [
      "sum = [[12.]]\n",
      "product = 35\n",
      "comparison result = [[0.]] (1 if the number on the left is greater, 0 elsewhere)\n"
     ]
    },
    {
     "output_type": "display_data",
     "data": {
      "image/png": "[encoded data removed]",
      "text/plain": [
       "<Figure size 432x288 with 2 Axes>"
      ]
     },
     "metadata": {
      "needs_background": "light"
     }
    }
   ],
   "metadata": {}
  },
  {
   "cell_type": "markdown",
   "source": [
    "Results look promising! We actually could improve the accuracy by training the model on more random samples (increase `train_size` value) or tweak the model architecture. One last thing: save the model!"
   ],
   "metadata": {}
  },
  {
   "cell_type": "code",
   "execution_count": 23,
   "source": [
    "# save the model\r\n",
    "model_complete.save('model_complete')"
   ],
   "outputs": [],
   "metadata": {}
  },
  {
   "cell_type": "markdown",
   "source": [
    "# Conclusion and future work"
   ],
   "metadata": {}
  },
  {
   "cell_type": "markdown",
   "source": [],
   "metadata": {}
  }
 ],
 "metadata": {
  "orig_nbformat": 4,
  "language_info": {
   "name": "python",
   "version": "3.7.9",
   "mimetype": "text/x-python",
   "codemirror_mode": {
    "name": "ipython",
    "version": 3
   },
   "pygments_lexer": "ipython3",
   "nbconvert_exporter": "python",
   "file_extension": ".py"
  },
  "kernelspec": {
   "name": "python3",
   "display_name": "Python 3.7.9 64-bit"
  },
  "interpreter": {
   "hash": "684b1123683431d89d3bfe9a89cc763215f4b8cd94b4aba1fb40ad45ff7c8b41"
  }
 },
 "nbformat": 4,
 "nbformat_minor": 2
}